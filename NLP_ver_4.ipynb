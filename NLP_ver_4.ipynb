{
 "cells": [
  {
   "cell_type": "markdown",
   "id": "16467017",
   "metadata": {
    "id": "16467017"
   },
   "source": [
    "# COMM061: Natural Language Processing  "
   ]
  },
  {
   "cell_type": "code",
   "execution_count": 1,
   "id": "v3E8a9Zkc9rs",
   "metadata": {
    "colab": {
     "base_uri": "https://localhost:8080/"
    },
    "id": "v3E8a9Zkc9rs",
    "outputId": "4d66f022-f5a8-424a-f894-4341f899f73c"
   },
   "outputs": [
    {
     "name": "stdout",
     "output_type": "stream",
     "text": [
      "Defaulting to user installation because normal site-packages is not writeable\n",
      "Requirement already satisfied: datasets in c:\\users\\user\\appdata\\roaming\\python\\python39\\site-packages (2.19.0)\n",
      "Requirement already satisfied: pyarrow>=12.0.0 in c:\\users\\user\\appdata\\roaming\\python\\python39\\site-packages (from datasets) (16.0.0)\n",
      "Requirement already satisfied: xxhash in c:\\users\\user\\appdata\\roaming\\python\\python39\\site-packages (from datasets) (3.4.1)\n",
      "Requirement already satisfied: dill<0.3.9,>=0.3.0 in c:\\users\\user\\appdata\\roaming\\python\\python39\\site-packages (from datasets) (0.3.8)\n",
      "Requirement already satisfied: requests>=2.19.0 in c:\\programdata\\anaconda3\\lib\\site-packages (from datasets) (2.28.1)\n",
      "Requirement already satisfied: fsspec[http]<=2024.3.1,>=2023.1.0 in c:\\users\\user\\appdata\\roaming\\python\\python39\\site-packages (from datasets) (2024.3.1)\n",
      "Requirement already satisfied: multiprocess in c:\\users\\user\\appdata\\roaming\\python\\python39\\site-packages (from datasets) (0.70.16)\n",
      "Requirement already satisfied: pandas in c:\\programdata\\anaconda3\\lib\\site-packages (from datasets) (1.4.4)\n",
      "Requirement already satisfied: pyyaml>=5.1 in c:\\programdata\\anaconda3\\lib\\site-packages (from datasets) (6.0)\n",
      "Requirement already satisfied: huggingface-hub>=0.21.2 in c:\\users\\user\\appdata\\roaming\\python\\python39\\site-packages (from datasets) (0.22.2)\n",
      "Requirement already satisfied: filelock in c:\\programdata\\anaconda3\\lib\\site-packages (from datasets) (3.6.0)\n",
      "Requirement already satisfied: numpy>=1.17 in c:\\users\\user\\appdata\\roaming\\python\\python39\\site-packages (from datasets) (1.24.3)\n",
      "Requirement already satisfied: tqdm>=4.62.1 in c:\\programdata\\anaconda3\\lib\\site-packages (from datasets) (4.64.1)\n",
      "Requirement already satisfied: packaging in c:\\programdata\\anaconda3\\lib\\site-packages (from datasets) (21.3)\n",
      "Requirement already satisfied: aiohttp in c:\\users\\user\\appdata\\roaming\\python\\python39\\site-packages (from datasets) (3.9.5)\n",
      "Requirement already satisfied: pyarrow-hotfix in c:\\users\\user\\appdata\\roaming\\python\\python39\\site-packages (from datasets) (0.6)\n",
      "Requirement already satisfied: attrs>=17.3.0 in c:\\users\\user\\appdata\\roaming\\python\\python39\\site-packages (from aiohttp->datasets) (23.2.0)\n",
      "Requirement already satisfied: async-timeout<5.0,>=4.0 in c:\\users\\user\\appdata\\roaming\\python\\python39\\site-packages (from aiohttp->datasets) (4.0.3)\n",
      "Requirement already satisfied: yarl<2.0,>=1.0 in c:\\users\\user\\appdata\\roaming\\python\\python39\\site-packages (from aiohttp->datasets) (1.9.4)\n",
      "Requirement already satisfied: aiosignal>=1.1.2 in c:\\users\\user\\appdata\\roaming\\python\\python39\\site-packages (from aiohttp->datasets) (1.3.1)\n",
      "Requirement already satisfied: multidict<7.0,>=4.5 in c:\\users\\user\\appdata\\roaming\\python\\python39\\site-packages (from aiohttp->datasets) (6.0.5)\n",
      "Requirement already satisfied: frozenlist>=1.1.1 in c:\\users\\user\\appdata\\roaming\\python\\python39\\site-packages (from aiohttp->datasets) (1.4.1)\n",
      "Requirement already satisfied: typing-extensions>=3.7.4.3 in c:\\users\\user\\appdata\\roaming\\python\\python39\\site-packages (from huggingface-hub>=0.21.2->datasets) (4.10.0)\n",
      "Requirement already satisfied: pyparsing!=3.0.5,>=2.0.2 in c:\\programdata\\anaconda3\\lib\\site-packages (from packaging->datasets) (3.0.9)\n",
      "Requirement already satisfied: charset-normalizer<3,>=2 in c:\\programdata\\anaconda3\\lib\\site-packages (from requests>=2.19.0->datasets) (2.0.4)\n",
      "Requirement already satisfied: certifi>=2017.4.17 in c:\\users\\user\\appdata\\roaming\\python\\python39\\site-packages (from requests>=2.19.0->datasets) (2023.7.22)\n",
      "Requirement already satisfied: idna<4,>=2.5 in c:\\users\\user\\appdata\\roaming\\python\\python39\\site-packages (from requests>=2.19.0->datasets) (2.10)\n",
      "Requirement already satisfied: urllib3<1.27,>=1.21.1 in c:\\programdata\\anaconda3\\lib\\site-packages (from requests>=2.19.0->datasets) (1.26.11)\n",
      "Requirement already satisfied: colorama in c:\\users\\user\\appdata\\roaming\\python\\python39\\site-packages (from tqdm>=4.62.1->datasets) (0.4.6)\n",
      "Requirement already satisfied: python-dateutil>=2.8.1 in c:\\programdata\\anaconda3\\lib\\site-packages (from pandas->datasets) (2.8.2)\n",
      "Requirement already satisfied: pytz>=2020.1 in c:\\programdata\\anaconda3\\lib\\site-packages (from pandas->datasets) (2022.1)\n",
      "Requirement already satisfied: six>=1.5 in c:\\programdata\\anaconda3\\lib\\site-packages (from python-dateutil>=2.8.1->pandas->datasets) (1.16.0)\n"
     ]
    },
    {
     "name": "stderr",
     "output_type": "stream",
     "text": [
      "WARNING: Ignoring invalid distribution -pencv-python (c:\\users\\user\\appdata\\roaming\\python\\python39\\site-packages)\n",
      "WARNING: Ignoring invalid distribution -pencv-python (c:\\users\\user\\appdata\\roaming\\python\\python39\\site-packages)\n",
      "WARNING: Ignoring invalid distribution -pencv-python (c:\\users\\user\\appdata\\roaming\\python\\python39\\site-packages)\n",
      "WARNING: Ignoring invalid distribution -pencv-python (c:\\users\\user\\appdata\\roaming\\python\\python39\\site-packages)\n",
      "WARNING: Ignoring invalid distribution -pencv-python (c:\\users\\user\\appdata\\roaming\\python\\python39\\site-packages)\n",
      "WARNING: Ignoring invalid distribution -pencv-python (c:\\users\\user\\appdata\\roaming\\python\\python39\\site-packages)\n"
     ]
    }
   ],
   "source": [
    "!pip install datasets"
   ]
  },
  {
   "cell_type": "code",
   "execution_count": 13,
   "id": "0f999b09",
   "metadata": {
    "id": "0f999b09"
   },
   "outputs": [],
   "source": [
    "# Import necessary libraries\n",
    "import spacy\n",
    "import pydantic\n",
    "import pandas as pd\n",
    "import nltk\n",
    "from transformers import AutoTokenizer, AutoModel, AutoModelForSequenceClassification\n",
    "import datasets\n",
    "from datasets import load_dataset\n",
    "import matplotlib.pyplot as plt\n",
    "import seaborn as sns\n",
    "from collections import Counter\n",
    "import numpy as np\n",
    "from sklearn.model_selection import train_test_split\n",
    "import torch\n",
    "import torch\n",
    "from torch import nn, optim\n",
    "from torch.utils.data import random_split\n",
    "from transformers import BertForTokenClassification, AdamW, BertTokenizer\n",
    "from torch.utils.data import DataLoader, TensorDataset, RandomSampler, SequentialSampler\n",
    "from sklearn.metrics import f1_score, classification_report, confusion_matrix, ConfusionMatrixDisplay, precision_recall_fscore_support\n",
    "from tqdm import tqdm\n",
    "from sklearn.svm import SVC\n",
    "from pycrfsuite import Trainer\n",
    "from sklearn.feature_extraction.text import TfidfVectorizer\n",
    "from gensim.models import Word2Vec\n",
    "from sklearn.linear_model import LogisticRegression\n",
    "from sklearn.preprocessing import LabelEncoder"
   ]
  },
  {
   "cell_type": "code",
   "execution_count": 27,
   "id": "VEa9MZt1kKor",
   "metadata": {
    "colab": {
     "base_uri": "https://localhost:8080/"
    },
    "id": "VEa9MZt1kKor",
    "outputId": "d4863fcb-5726-47c2-9c05-9018bd93c3ca"
   },
   "outputs": [
    {
     "data": {
      "text/plain": [
       "DatasetDict({\n",
       "    train: Dataset({\n",
       "        features: ['tokens', 'pos_tags', 'ner_tags'],\n",
       "        num_rows: 1072\n",
       "    })\n",
       "    validation: Dataset({\n",
       "        features: ['tokens', 'pos_tags', 'ner_tags'],\n",
       "        num_rows: 126\n",
       "    })\n",
       "    test: Dataset({\n",
       "        features: ['tokens', 'pos_tags', 'ner_tags'],\n",
       "        num_rows: 153\n",
       "    })\n",
       "})"
      ]
     },
     "execution_count": 27,
     "metadata": {},
     "output_type": "execute_result"
    }
   ],
   "source": [
    "# Load the dataset from Hugging Face\n",
    "dataset = datasets.load_dataset('surrey-nlp/PLOD-CW')\n",
    "dataset"
   ]
  },
  {
   "cell_type": "markdown",
   "id": "1fe21f08",
   "metadata": {
    "id": "1fe21f08"
   },
   "source": [
    "### 1. Dataset analysis and visualisation"
   ]
  },
  {
   "cell_type": "code",
   "execution_count": 99,
   "id": "abd6ca05",
   "metadata": {
    "colab": {
     "base_uri": "https://localhost:8080/"
    },
    "id": "abd6ca05",
    "outputId": "d1b19be8-cd7c-4137-8062-c6e70b3a17fa"
   },
   "outputs": [
    {
     "data": {
      "text/plain": [
       "{'tokens': ['For',\n",
       "  'this',\n",
       "  'purpose',\n",
       "  'the',\n",
       "  'Gothenburg',\n",
       "  'Young',\n",
       "  'Persons',\n",
       "  'Empowerment',\n",
       "  'Scale',\n",
       "  '(',\n",
       "  'GYPES',\n",
       "  ')',\n",
       "  'was',\n",
       "  'developed',\n",
       "  '.'],\n",
       " 'pos_tags': ['ADP',\n",
       "  'DET',\n",
       "  'NOUN',\n",
       "  'DET',\n",
       "  'PROPN',\n",
       "  'PROPN',\n",
       "  'PROPN',\n",
       "  'PROPN',\n",
       "  'PROPN',\n",
       "  'PUNCT',\n",
       "  'PROPN',\n",
       "  'PUNCT',\n",
       "  'AUX',\n",
       "  'VERB',\n",
       "  'PUNCT'],\n",
       " 'ner_tags': ['B-O',\n",
       "  'B-O',\n",
       "  'B-O',\n",
       "  'B-O',\n",
       "  'B-LF',\n",
       "  'I-LF',\n",
       "  'I-LF',\n",
       "  'I-LF',\n",
       "  'I-LF',\n",
       "  'B-O',\n",
       "  'B-AC',\n",
       "  'B-O',\n",
       "  'B-O',\n",
       "  'B-O',\n",
       "  'B-O']}"
      ]
     },
     "execution_count": 99,
     "metadata": {},
     "output_type": "execute_result"
    }
   ],
   "source": [
    "dataset['train'][0]"
   ]
  },
  {
   "cell_type": "code",
   "execution_count": 100,
   "id": "6f21afc8",
   "metadata": {},
   "outputs": [
    {
     "name": "stdout",
     "output_type": "stream",
     "text": [
      "Descriptive statistics for train split:\n"
     ]
    },
    {
     "data": {
      "text/html": [
       "<div>\n",
       "<style scoped>\n",
       "    .dataframe tbody tr th:only-of-type {\n",
       "        vertical-align: middle;\n",
       "    }\n",
       "\n",
       "    .dataframe tbody tr th {\n",
       "        vertical-align: top;\n",
       "    }\n",
       "\n",
       "    .dataframe thead th {\n",
       "        text-align: right;\n",
       "    }\n",
       "</style>\n",
       "<table border=\"1\" class=\"dataframe\">\n",
       "  <thead>\n",
       "    <tr style=\"text-align: right;\">\n",
       "      <th></th>\n",
       "      <th>tokens</th>\n",
       "      <th>pos_tags</th>\n",
       "      <th>ner_tags</th>\n",
       "    </tr>\n",
       "  </thead>\n",
       "  <tbody>\n",
       "    <tr>\n",
       "      <th>count</th>\n",
       "      <td>1072</td>\n",
       "      <td>1072</td>\n",
       "      <td>1072</td>\n",
       "    </tr>\n",
       "    <tr>\n",
       "      <th>unique</th>\n",
       "      <td>1071</td>\n",
       "      <td>1064</td>\n",
       "      <td>978</td>\n",
       "    </tr>\n",
       "    <tr>\n",
       "      <th>top</th>\n",
       "      <td>[), .]</td>\n",
       "      <td>[PROPN, PUNCT, ADJ, NOUN, NOUN, PUNCT]</td>\n",
       "      <td>[B-AC, B-O, B-LF, I-LF, I-LF, B-O]</td>\n",
       "    </tr>\n",
       "    <tr>\n",
       "      <th>freq</th>\n",
       "      <td>2</td>\n",
       "      <td>5</td>\n",
       "      <td>8</td>\n",
       "    </tr>\n",
       "  </tbody>\n",
       "</table>\n",
       "</div>"
      ],
      "text/plain": [
       "        tokens                                pos_tags  \\\n",
       "count     1072                                    1072   \n",
       "unique    1071                                    1064   \n",
       "top     [), .]  [PROPN, PUNCT, ADJ, NOUN, NOUN, PUNCT]   \n",
       "freq         2                                       5   \n",
       "\n",
       "                                  ner_tags  \n",
       "count                                 1072  \n",
       "unique                                 978  \n",
       "top     [B-AC, B-O, B-LF, I-LF, I-LF, B-O]  \n",
       "freq                                     8  "
      ]
     },
     "execution_count": 100,
     "metadata": {},
     "output_type": "execute_result"
    }
   ],
   "source": [
    "# Descriptive Statistics\n",
    "df_train = pd.DataFrame(dataset['train'])\n",
    "descriptive_stats_train = df_train.describe()\n",
    "print(\"Descriptive statistics for train split:\")\n",
    "descriptive_stats_train"
   ]
  },
  {
   "cell_type": "code",
   "execution_count": 5,
   "id": "445699d4",
   "metadata": {},
   "outputs": [
    {
     "data": {
      "image/png": "[encoded data removed]",
      "text/plain": [
       "<Figure size 800x500 with 1 Axes>"
      ]
     },
     "metadata": {},
     "output_type": "display_data"
    }
   ],
   "source": [
    "# Distribution of token lengths\n",
    "token_lengths = df_train['tokens'].apply(len)\n",
    "plt.figure(figsize=(8, 5))\n",
    "sns.histplot(token_lengths, bins=30, kde=True)\n",
    "plt.title('Distribution of Token Lengths')\n",
    "plt.xlabel('Token Length')\n",
    "plt.ylabel('Frequency')\n",
    "plt.show()"
   ]
  },
  {
   "cell_type": "code",
   "execution_count": 34,
   "id": "e14c0066",
   "metadata": {},
   "outputs": [
    {
     "data": {
      "image/png": "[encoded data removed]",
      "text/plain": [
       "<Figure size 800x500 with 1 Axes>"
      ]
     },
     "metadata": {},
     "output_type": "display_data"
    }
   ],
   "source": [
    "# Frequency distribution of POS tags\n",
    "pos_tags = [tag for sublist in df_train['pos_tags'] for tag in sublist]\n",
    "pos_tag_counts = Counter(pos_tags)\n",
    "plt.figure(figsize=(8, 5))\n",
    "sns.barplot(x=list(pos_tag_counts.keys()), y=list(pos_tag_counts.values()))\n",
    "plt.title('Frequency Distribution of POS Tags')\n",
    "plt.xlabel('POS Tags')\n",
    "plt.ylabel('Count')\n",
    "plt.xticks(rotation=90)\n",
    "\n",
    "# Add data labels\n",
    "for i, count in enumerate(pos_tag_counts.values()):\n",
    "    plt.text(i, count, str(count), ha='center', va='bottom')\n",
    "\n",
    "plt.show()"
   ]
  },
  {
   "cell_type": "code",
   "execution_count": 31,
   "id": "1ca1857d",
   "metadata": {},
   "outputs": [
    {
     "data": {
      "image/png": "[encoded data removed]",
      "text/plain": [
       "<Figure size 800x500 with 1 Axes>"
      ]
     },
     "metadata": {},
     "output_type": "display_data"
    }
   ],
   "source": [
    "# Correlation between token lengths and number of POS tags\n",
    "df_train['token_length'] = token_lengths\n",
    "df_train['num_pos_tags'] = df_train['pos_tags'].apply(len)\n",
    "plt.figure(figsize=(8, 5))\n",
    "sns.scatterplot(data=df_train, x='token_length', y='num_pos_tags')\n",
    "plt.title('Correlation between Token Length and Number of POS Tags')\n",
    "plt.xlabel('Token Length')\n",
    "plt.ylabel('Number of POS Tags')\n",
    "plt.show()"
   ]
  },
  {
   "cell_type": "code",
   "execution_count": 30,
   "id": "b7bdafa1",
   "metadata": {},
   "outputs": [
    {
     "data": {
      "image/png": "[encoded data removed]",
      "text/plain": [
       "<Figure size 800x500 with 1 Axes>"
      ]
     },
     "metadata": {},
     "output_type": "display_data"
    }
   ],
   "source": [
    "# Class distribution of NER tags\n",
    "ner_tags = [tag for sublist in df_train['ner_tags'] for tag in sublist]\n",
    "ner_tag_counts = Counter(ner_tags)\n",
    "plt.figure(figsize=(8, 5))\n",
    "sns.barplot(x=list(ner_tag_counts.keys()), y=list(ner_tag_counts.values()))\n",
    "plt.title('Class Distribution of NER Tags')\n",
    "plt.xlabel('NER Tags')\n",
    "plt.ylabel('Count')\n",
    "plt.xticks(rotation=45)\n",
    "\n",
    "for i, count in enumerate(ner_tag_counts.values()):\n",
    "    plt.text(i, count, str(count), ha='center', va='bottom')\n",
    "\n",
    "plt.show()"
   ]
  },
  {
   "cell_type": "markdown",
   "id": "9e4a3d00",
   "metadata": {},
   "source": [
    "### 2. Experiments\n",
    "####  2.1. Data Pre-processing Techniques"
   ]
  },
  {
   "cell_type": "code",
   "execution_count": 12,
   "id": "5006cd07",
   "metadata": {},
   "outputs": [],
   "source": [
    "tokenizer = AutoTokenizer.from_pretrained(\"bert-base-uncased\")\n",
    "train_texts = dataset[\"train\"][\"tokens\"]\n",
    "\n",
    "train_texts_flattened = [token for sublist in train_texts for token in sublist]\n",
    "train_text_combined = ' '.join(train_texts_flattened)\n",
    "\n",
    "train_tokens = tokenizer(train_text_combined, padding=\"max_length\", truncation=True)\n",
    "\n",
    "def bigram_tokenizer(sentences):\n",
    "    all_bigrams = []\n",
    "    for sent in sentences:\n",
    "        bigrams = [\" \".join(pair) for pair in nltk.bigrams(sent)]\n",
    "        all_bigrams.append(bigrams)\n",
    "    return all_bigrams\n",
    "\n",
    "train_bigrams = bigram_tokenizer(dataset[\"train\"][\"tokens\"])"
   ]
  },
  {
   "cell_type": "code",
   "execution_count": 16,
   "id": "78054508",
   "metadata": {},
   "outputs": [
    {
     "data": {
      "text/plain": [
       "['DHI was',\n",
       " 'was significantly',\n",
       " 'significantly correlated',\n",
       " 'correlated to',\n",
       " 'to PCL',\n",
       " 'PCL scores',\n",
       " 'scores ,',\n",
       " ', suggesting',\n",
       " 'suggesting that',\n",
       " 'that Veterans',\n",
       " 'Veterans with',\n",
       " 'with more',\n",
       " 'more severe',\n",
       " 'severe PTSD',\n",
       " 'PTSD symptoms',\n",
       " 'symptoms also',\n",
       " 'also had',\n",
       " 'had more',\n",
       " 'more dizziness',\n",
       " 'dizziness handicap',\n",
       " 'handicap as',\n",
       " 'as illustrated',\n",
       " 'illustrated in',\n",
       " 'in Fig',\n",
       " 'Fig 2',\n",
       " '2 (',\n",
       " '( r2',\n",
       " 'r2 =',\n",
       " '= 0.28',\n",
       " '0.28 ,',\n",
       " ', p',\n",
       " 'p <',\n",
       " '< 0.0001',\n",
       " '0.0001 )',\n",
       " ') .']"
      ]
     },
     "execution_count": 16,
     "metadata": {},
     "output_type": "execute_result"
    }
   ],
   "source": [
    "train_bigrams[10]"
   ]
  },
  {
   "cell_type": "code",
   "execution_count": 23,
   "id": "f49c383c",
   "metadata": {},
   "outputs": [
    {
     "data": {
      "text/plain": [
       "[(') ,', 336),\n",
       " (') .', 239),\n",
       " ('] .', 210),\n",
       " (', and', 199),\n",
       " ('of the', 173),\n",
       " ('in the', 155),\n",
       " (') and', 133),\n",
       " (', the', 73),\n",
       " (', we', 63),\n",
       " ('to the', 61)]"
      ]
     },
     "execution_count": 23,
     "metadata": {},
     "output_type": "execute_result"
    }
   ],
   "source": [
    "all_bigrams_flat = [bigram for sublist in train_bigrams for bigram in sublist]\n",
    "bigram_counts = Counter(all_bigrams_flat)\n",
    "top_n_bigrams = bigram_counts.most_common(10)\n",
    "top_n_bigrams"
   ]
  },
  {
   "cell_type": "code",
   "execution_count": 30,
   "id": "b2d056c6",
   "metadata": {},
   "outputs": [
    {
     "data": {
      "image/png": "[encoded data removed]",
      "text/plain": [
       "<Figure size 640x480 with 1 Axes>"
      ]
     },
     "metadata": {},
     "output_type": "display_data"
    }
   ],
   "source": [
    "# Plot the frequency distribution\n",
    "plt.bar(range(len(top_n_bigrams)), [count for _, count in top_n_bigrams], tick_label=[bigram for bigram, _ in top_n_bigrams])\n",
    "plt.xlabel('Bigram')\n",
    "plt.ylabel('Frequency')\n",
    "plt.title('Top 10 Bigrams')\n",
    "plt.xticks(rotation=30, ha='right')\n",
    "\n",
    "for i, (_, count) in enumerate(top_n_bigrams):\n",
    "    plt.text(i, count + 5, str(count), ha='center', va='bottom')\n",
    "\n",
    "plt.show()"
   ]
  },
  {
   "cell_type": "code",
   "execution_count": 101,
   "id": "8e6db63a",
   "metadata": {},
   "outputs": [
    {
     "name": "stdout",
     "output_type": "stream",
     "text": [
      "Shape of train_vectors: (1072, 7869)\n",
      "Shape of train_labels_array: (40000,)\n"
     ]
    }
   ],
   "source": [
    "print(\"Shape of train_vectors:\", train_vectors.shape)\n",
    "print(\"Shape of train_labels_array:\", train_labels_array.shape)"
   ]
  },
  {
   "cell_type": "code",
   "execution_count": 102,
   "id": "22c87298",
   "metadata": {},
   "outputs": [
    {
     "name": "stdout",
     "output_type": "stream",
     "text": [
      "New shape of train_labels_array after truncation: (1072,)\n"
     ]
    }
   ],
   "source": [
    "train_labels_array_truncated = train_labels_array[:train_vectors.shape[0]]\n",
    "print(\"New shape of train_labels_array after truncation:\", train_labels_array_truncated.shape)"
   ]
  },
  {
   "cell_type": "markdown",
   "id": "f25a53e1",
   "metadata": {},
   "source": [
    "#### 2.2. NLP Algorithms/Techniques\n",
    "##### Algorithm-1: SVM"
   ]
  },
  {
   "cell_type": "code",
   "execution_count": 103,
   "id": "f6c64ecd",
   "metadata": {},
   "outputs": [
    {
     "data": {
      "text/html": [
       "<style>#sk-container-id-2 {color: black;}#sk-container-id-2 pre{padding: 0;}#sk-container-id-2 div.sk-toggleable {background-color: white;}#sk-container-id-2 label.sk-toggleable__label {cursor: pointer;display: block;width: 100%;margin-bottom: 0;padding: 0.3em;box-sizing: border-box;text-align: center;}#sk-container-id-2 label.sk-toggleable__label-arrow:before {content: \"▸\";float: left;margin-right: 0.25em;color: #696969;}#sk-container-id-2 label.sk-toggleable__label-arrow:hover:before {color: black;}#sk-container-id-2 div.sk-estimator:hover label.sk-toggleable__label-arrow:before {color: black;}#sk-container-id-2 div.sk-toggleable__content {max-height: 0;max-width: 0;overflow: hidden;text-align: left;background-color: #f0f8ff;}#sk-container-id-2 div.sk-toggleable__content pre {margin: 0.2em;color: black;border-radius: 0.25em;background-color: #f0f8ff;}#sk-container-id-2 input.sk-toggleable__control:checked~div.sk-toggleable__content {max-height: 200px;max-width: 100%;overflow: auto;}#sk-container-id-2 input.sk-toggleable__control:checked~label.sk-toggleable__label-arrow:before {content: \"▾\";}#sk-container-id-2 div.sk-estimator input.sk-toggleable__control:checked~label.sk-toggleable__label {background-color: #d4ebff;}#sk-container-id-2 div.sk-label input.sk-toggleable__control:checked~label.sk-toggleable__label {background-color: #d4ebff;}#sk-container-id-2 input.sk-hidden--visually {border: 0;clip: rect(1px 1px 1px 1px);clip: rect(1px, 1px, 1px, 1px);height: 1px;margin: -1px;overflow: hidden;padding: 0;position: absolute;width: 1px;}#sk-container-id-2 div.sk-estimator {font-family: monospace;background-color: #f0f8ff;border: 1px dotted black;border-radius: 0.25em;box-sizing: border-box;margin-bottom: 0.5em;}#sk-container-id-2 div.sk-estimator:hover {background-color: #d4ebff;}#sk-container-id-2 div.sk-parallel-item::after {content: \"\";width: 100%;border-bottom: 1px solid gray;flex-grow: 1;}#sk-container-id-2 div.sk-label:hover label.sk-toggleable__label {background-color: #d4ebff;}#sk-container-id-2 div.sk-serial::before {content: \"\";position: absolute;border-left: 1px solid gray;box-sizing: border-box;top: 0;bottom: 0;left: 50%;z-index: 0;}#sk-container-id-2 div.sk-serial {display: flex;flex-direction: column;align-items: center;background-color: white;padding-right: 0.2em;padding-left: 0.2em;position: relative;}#sk-container-id-2 div.sk-item {position: relative;z-index: 1;}#sk-container-id-2 div.sk-parallel {display: flex;align-items: stretch;justify-content: center;background-color: white;position: relative;}#sk-container-id-2 div.sk-item::before, #sk-container-id-2 div.sk-parallel-item::before {content: \"\";position: absolute;border-left: 1px solid gray;box-sizing: border-box;top: 0;bottom: 0;left: 50%;z-index: -1;}#sk-container-id-2 div.sk-parallel-item {display: flex;flex-direction: column;z-index: 1;position: relative;background-color: white;}#sk-container-id-2 div.sk-parallel-item:first-child::after {align-self: flex-end;width: 50%;}#sk-container-id-2 div.sk-parallel-item:last-child::after {align-self: flex-start;width: 50%;}#sk-container-id-2 div.sk-parallel-item:only-child::after {width: 0;}#sk-container-id-2 div.sk-dashed-wrapped {border: 1px dashed gray;margin: 0 0.4em 0.5em 0.4em;box-sizing: border-box;padding-bottom: 0.4em;background-color: white;}#sk-container-id-2 div.sk-label label {font-family: monospace;font-weight: bold;display: inline-block;line-height: 1.2em;}#sk-container-id-2 div.sk-label-container {text-align: center;}#sk-container-id-2 div.sk-container {/* jupyter's `normalize.less` sets `[hidden] { display: none; }` but bootstrap.min.css set `[hidden] { display: none !important; }` so we also need the `!important` here to be able to override the default hidden behavior on the sphinx rendered scikit-learn.org. See: https://github.com/scikit-learn/scikit-learn/issues/21755 */display: inline-block !important;position: relative;}#sk-container-id-2 div.sk-text-repr-fallback {display: none;}</style><div id=\"sk-container-id-2\" class=\"sk-top-container\"><div class=\"sk-text-repr-fallback\"><pre>SVC(kernel=&#x27;linear&#x27;)</pre><b>In a Jupyter environment, please rerun this cell to show the HTML representation or trust the notebook. <br />On GitHub, the HTML representation is unable to render, please try loading this page with nbviewer.org.</b></div><div class=\"sk-container\" hidden><div class=\"sk-item\"><div class=\"sk-estimator sk-toggleable\"><input class=\"sk-toggleable__control sk-hidden--visually\" id=\"sk-estimator-id-2\" type=\"checkbox\" checked><label for=\"sk-estimator-id-2\" class=\"sk-toggleable__label sk-toggleable__label-arrow\">SVC</label><div class=\"sk-toggleable__content\"><pre>SVC(kernel=&#x27;linear&#x27;)</pre></div></div></div></div></div>"
      ],
      "text/plain": [
       "SVC(kernel='linear')"
      ]
     },
     "execution_count": 103,
     "metadata": {},
     "output_type": "execute_result"
    }
   ],
   "source": [
    "svm_classifier = SVC(kernel='linear')\n",
    "svm_classifier.fit(train_vectors, train_labels_array_truncated)"
   ]
  },
  {
   "cell_type": "code",
   "execution_count": 104,
   "id": "88971cab",
   "metadata": {},
   "outputs": [
    {
     "name": "stdout",
     "output_type": "stream",
     "text": [
      "F1-score on the training set: 1.0\n"
     ]
    }
   ],
   "source": [
    "train_predictions = svm_classifier.predict(train_vectors)\n",
    "f1 = f1_score(train_labels_array_truncated, train_predictions, average='micro')\n",
    "print(\"F1-score on the training set:\", f1)"
   ]
  },
  {
   "cell_type": "markdown",
   "id": "7de63c97",
   "metadata": {},
   "source": [
    "##### Algorithm-2: RNN"
   ]
  },
  {
   "cell_type": "code",
   "execution_count": 129,
   "id": "8fd4e379",
   "metadata": {},
   "outputs": [],
   "source": [
    "batch_size = 32\n",
    "\n",
    "label_encoder = LabelEncoder()\n",
    "train_labels_encoded = label_encoder.fit_transform(train_labels_array_truncated)\n",
    "train_labels_tensor = torch.tensor(train_labels_encoded)\n",
    "train_dataset = TensorDataset(train_data_tensor, train_labels_tensor)\n",
    "train_loader = DataLoader(train_dataset, batch_size=batch_size, shuffle=True)"
   ]
  },
  {
   "cell_type": "code",
   "execution_count": 149,
   "id": "1fa6ebb1",
   "metadata": {},
   "outputs": [],
   "source": [
    "class RNNClassifier(nn.Module):\n",
    "    def __init__(self, input_size, hidden_size, output_size):\n",
    "        super(RNNClassifier, self).__init__()\n",
    "        self.rnn = nn.RNN(input_size, hidden_size, batch_first=True)\n",
    "        self.fc = nn.Linear(hidden_size, output_size)\n",
    "\n",
    "    def forward(self, x):\n",
    "        out, _ = self.rnn(x)\n",
    "        out = self.fc(out[:, -1])\n",
    "        return out"
   ]
  },
  {
   "cell_type": "markdown",
   "id": "a3dc79c7",
   "metadata": {},
   "source": [
    "#### 2.3. Text Encoding/Transformation"
   ]
  },
  {
   "cell_type": "code",
   "execution_count": 162,
   "id": "fe8de045",
   "metadata": {},
   "outputs": [
    {
     "name": "stdout",
     "output_type": "stream",
     "text": [
      "TF-IDF Encoded Data Shape: (1072, 7869)\n",
      "Word2Vec Encoded Data Shape: (1072, 100)\n"
     ]
    }
   ],
   "source": [
    "train_tokens = dataset[\"train\"][\"tokens\"]\n",
    "train_texts = [' '.join(tokens) for tokens in train_tokens]\n",
    "\n",
    "# TF-IDF Encoding\n",
    "vectorizer = TfidfVectorizer(max_features=10000)\n",
    "train_tfidf = vectorizer.fit_transform(train_texts)\n",
    "\n",
    "# Train or load a Word2Vec model\n",
    "word2vec_model = Word2Vec(sentences=train_tokens, vector_size=100, window=5, min_count=1, workers=4)\n",
    "\n",
    "def sentence_to_vec(sent):\n",
    "    vecs = []\n",
    "    for word in sent:\n",
    "        if word in word2vec_model.wv:\n",
    "            vecs.append(word2vec_model.wv[word])\n",
    "    if len(vecs) > 0:\n",
    "        return np.mean(vecs, axis=0)\n",
    "    else:\n",
    "        return np.zeros(word2vec_model.vector_size)\n",
    "\n",
    "# Encode each sentence using Word2Vec\n",
    "train_w2v = np.array([sentence_to_vec(sent) for sent in train_tokens])\n",
    "\n",
    "print(\"TF-IDF Encoded Data Shape:\", train_tfidf.shape)\n",
    "print(\"Word2Vec Encoded Data Shape:\", train_w2v.shape)"
   ]
  },
  {
   "cell_type": "markdown",
   "id": "ce92743b",
   "metadata": {},
   "source": [
    "#### 2.4 Experiment with Additional Dataset"
   ]
  },
  {
   "cell_type": "code",
   "execution_count": 6,
   "id": "e46e25e7",
   "metadata": {},
   "outputs": [],
   "source": [
    "additional_dataset = load_dataset(\"surrey-nlp/PLOD-filtered\")"
   ]
  },
  {
   "cell_type": "code",
   "execution_count": 7,
   "id": "d2ecbb60",
   "metadata": {},
   "outputs": [
    {
     "data": {
      "text/plain": [
       "DatasetDict({\n",
       "    train: Dataset({\n",
       "        features: ['id', 'tokens', 'pos_tags', 'ner_tags'],\n",
       "        num_rows: 112652\n",
       "    })\n",
       "    validation: Dataset({\n",
       "        features: ['id', 'tokens', 'pos_tags', 'ner_tags'],\n",
       "        num_rows: 24140\n",
       "    })\n",
       "    test: Dataset({\n",
       "        features: ['id', 'tokens', 'pos_tags', 'ner_tags'],\n",
       "        num_rows: 24140\n",
       "    })\n",
       "})"
      ]
     },
     "execution_count": 7,
     "metadata": {},
     "output_type": "execute_result"
    }
   ],
   "source": [
    "additional_dataset"
   ]
  },
  {
   "cell_type": "code",
   "execution_count": 32,
   "id": "f8ec63bf",
   "metadata": {},
   "outputs": [],
   "source": [
    "# Load original dataset\n",
    "original_train_texts = dataset[\"train\"][\"tokens\"]\n",
    "original_train_labels = dataset[\"train\"][\"ner_tags\"]\n",
    "\n",
    "# Load additional dataset\n",
    "additional_train_texts = additional_dataset[\"train\"][\"tokens\"]\n",
    "additional_train_labels = additional_dataset[\"train\"][\"ner_tags\"]\n",
    "\n",
    "# Combine datasets\n",
    "combined_train_texts = original_train_texts + additional_train_texts\n",
    "combined_train_labels = original_train_labels + additional_train_labels"
   ]
  },
  {
   "cell_type": "code",
   "execution_count": 39,
   "id": "8012097e",
   "metadata": {},
   "outputs": [
    {
     "data": {
      "text/plain": [
       "['DHI',\n",
       " 'was',\n",
       " 'significantly',\n",
       " 'correlated',\n",
       " 'to',\n",
       " 'PCL',\n",
       " 'scores',\n",
       " ',',\n",
       " 'suggesting',\n",
       " 'that',\n",
       " 'Veterans',\n",
       " 'with',\n",
       " 'more',\n",
       " 'severe',\n",
       " 'PTSD',\n",
       " 'symptoms',\n",
       " 'also',\n",
       " 'had',\n",
       " 'more',\n",
       " 'dizziness',\n",
       " 'handicap',\n",
       " 'as',\n",
       " 'illustrated',\n",
       " 'in',\n",
       " 'Fig',\n",
       " '2',\n",
       " '(',\n",
       " 'r2',\n",
       " '=',\n",
       " '0.28',\n",
       " ',',\n",
       " 'p',\n",
       " '<',\n",
       " '0.0001',\n",
       " ')',\n",
       " '.']"
      ]
     },
     "execution_count": 39,
     "metadata": {},
     "output_type": "execute_result"
    }
   ],
   "source": [
    "combined_train_texts[10]"
   ]
  },
  {
   "cell_type": "code",
   "execution_count": 40,
   "id": "a960c494",
   "metadata": {},
   "outputs": [
    {
     "data": {
      "text/plain": [
       "['B-AC',\n",
       " 'B-O',\n",
       " 'B-O',\n",
       " 'B-O',\n",
       " 'B-O',\n",
       " 'B-AC',\n",
       " 'B-O',\n",
       " 'B-O',\n",
       " 'B-O',\n",
       " 'B-O',\n",
       " 'B-O',\n",
       " 'B-O',\n",
       " 'B-O',\n",
       " 'B-O',\n",
       " 'B-AC',\n",
       " 'B-O',\n",
       " 'B-O',\n",
       " 'B-O',\n",
       " 'B-O',\n",
       " 'B-O',\n",
       " 'B-O',\n",
       " 'B-O',\n",
       " 'B-O',\n",
       " 'B-O',\n",
       " 'B-O',\n",
       " 'B-O',\n",
       " 'B-O',\n",
       " 'B-O',\n",
       " 'B-O',\n",
       " 'B-O',\n",
       " 'B-O',\n",
       " 'B-O',\n",
       " 'B-O',\n",
       " 'B-O',\n",
       " 'B-O',\n",
       " 'B-O']"
      ]
     },
     "execution_count": 40,
     "metadata": {},
     "output_type": "execute_result"
    }
   ],
   "source": [
    "combined_train_labels[10]"
   ]
  },
  {
   "cell_type": "code",
   "execution_count": null,
   "id": "f99d50fa",
   "metadata": {},
   "outputs": [],
   "source": [
    "train_encodings = []\n",
    "\n",
    "# Tokenize each text individually\n",
    "for data in combined_train_data:\n",
    "    # Tokenize the text and add special tokens\n",
    "    encoding = tokenizer(data[0], truncation=True, padding='max_length', max_length=max_length)\n",
    "    train_encodings.append(encoding)\n",
    "\n",
    "# Convert labels to tensors\n",
    "train_labels_tensor = torch.tensor(combined_train_labels)"
   ]
  },
  {
   "cell_type": "code",
   "execution_count": 4,
   "id": "1fd9fd8f",
   "metadata": {},
   "outputs": [],
   "source": [
    "proportions = [0.5, 0.7, 0.9]"
   ]
  },
  {
   "cell_type": "code",
   "execution_count": 46,
   "id": "2fad1bd5",
   "metadata": {},
   "outputs": [
    {
     "ename": "TypeError",
     "evalue": "TextEncodeInput must be Union[TextInputSequence, Tuple[InputSequence, InputSequence]]",
     "output_type": "error",
     "traceback": [
      "\u001b[1;31m---------------------------------------------------------------------------\u001b[0m",
      "\u001b[1;31mTypeError\u001b[0m                                 Traceback (most recent call last)",
      "\u001b[1;32m~\\AppData\\Local\\Temp\\ipykernel_11932\\1294147268.py\u001b[0m in \u001b[0;36m<module>\u001b[1;34m\u001b[0m\n\u001b[0;32m     11\u001b[0m \u001b[1;33m\u001b[0m\u001b[0m\n\u001b[0;32m     12\u001b[0m     \u001b[1;31m# Tokenize the texts\u001b[0m\u001b[1;33m\u001b[0m\u001b[1;33m\u001b[0m\u001b[0m\n\u001b[1;32m---> 13\u001b[1;33m     \u001b[0mtrain_encodings\u001b[0m \u001b[1;33m=\u001b[0m \u001b[0mtokenizer\u001b[0m\u001b[1;33m(\u001b[0m\u001b[0mtrain_texts_split\u001b[0m\u001b[1;33m,\u001b[0m \u001b[0mtruncation\u001b[0m\u001b[1;33m=\u001b[0m\u001b[1;32mTrue\u001b[0m\u001b[1;33m,\u001b[0m \u001b[0mpadding\u001b[0m\u001b[1;33m=\u001b[0m\u001b[1;32mTrue\u001b[0m\u001b[1;33m)\u001b[0m\u001b[1;33m\u001b[0m\u001b[1;33m\u001b[0m\u001b[0m\n\u001b[0m\u001b[0;32m     14\u001b[0m \u001b[1;33m\u001b[0m\u001b[0m\n\u001b[0;32m     15\u001b[0m     \u001b[1;31m# Convert labels to tensors\u001b[0m\u001b[1;33m\u001b[0m\u001b[1;33m\u001b[0m\u001b[0m\n",
      "\u001b[1;32m~\\AppData\\Roaming\\Python\\Python39\\site-packages\\transformers\\tokenization_utils_base.py\u001b[0m in \u001b[0;36m__call__\u001b[1;34m(self, text, text_pair, text_target, text_pair_target, add_special_tokens, padding, truncation, max_length, stride, is_split_into_words, pad_to_multiple_of, return_tensors, return_token_type_ids, return_attention_mask, return_overflowing_tokens, return_special_tokens_mask, return_offsets_mapping, return_length, verbose, **kwargs)\u001b[0m\n\u001b[0;32m   2559\u001b[0m             \u001b[1;32mif\u001b[0m \u001b[1;32mnot\u001b[0m \u001b[0mself\u001b[0m\u001b[1;33m.\u001b[0m\u001b[0m_in_target_context_manager\u001b[0m\u001b[1;33m:\u001b[0m\u001b[1;33m\u001b[0m\u001b[1;33m\u001b[0m\u001b[0m\n\u001b[0;32m   2560\u001b[0m                 \u001b[0mself\u001b[0m\u001b[1;33m.\u001b[0m\u001b[0m_switch_to_input_mode\u001b[0m\u001b[1;33m(\u001b[0m\u001b[1;33m)\u001b[0m\u001b[1;33m\u001b[0m\u001b[1;33m\u001b[0m\u001b[0m\n\u001b[1;32m-> 2561\u001b[1;33m             \u001b[0mencodings\u001b[0m \u001b[1;33m=\u001b[0m \u001b[0mself\u001b[0m\u001b[1;33m.\u001b[0m\u001b[0m_call_one\u001b[0m\u001b[1;33m(\u001b[0m\u001b[0mtext\u001b[0m\u001b[1;33m=\u001b[0m\u001b[0mtext\u001b[0m\u001b[1;33m,\u001b[0m \u001b[0mtext_pair\u001b[0m\u001b[1;33m=\u001b[0m\u001b[0mtext_pair\u001b[0m\u001b[1;33m,\u001b[0m \u001b[1;33m**\u001b[0m\u001b[0mall_kwargs\u001b[0m\u001b[1;33m)\u001b[0m\u001b[1;33m\u001b[0m\u001b[1;33m\u001b[0m\u001b[0m\n\u001b[0m\u001b[0;32m   2562\u001b[0m         \u001b[1;32mif\u001b[0m \u001b[0mtext_target\u001b[0m \u001b[1;32mis\u001b[0m \u001b[1;32mnot\u001b[0m \u001b[1;32mNone\u001b[0m\u001b[1;33m:\u001b[0m\u001b[1;33m\u001b[0m\u001b[1;33m\u001b[0m\u001b[0m\n\u001b[0;32m   2563\u001b[0m             \u001b[0mself\u001b[0m\u001b[1;33m.\u001b[0m\u001b[0m_switch_to_target_mode\u001b[0m\u001b[1;33m(\u001b[0m\u001b[1;33m)\u001b[0m\u001b[1;33m\u001b[0m\u001b[1;33m\u001b[0m\u001b[0m\n",
      "\u001b[1;32m~\\AppData\\Roaming\\Python\\Python39\\site-packages\\transformers\\tokenization_utils_base.py\u001b[0m in \u001b[0;36m_call_one\u001b[1;34m(self, text, text_pair, add_special_tokens, padding, truncation, max_length, stride, is_split_into_words, pad_to_multiple_of, return_tensors, return_token_type_ids, return_attention_mask, return_overflowing_tokens, return_special_tokens_mask, return_offsets_mapping, return_length, verbose, **kwargs)\u001b[0m\n\u001b[0;32m   2645\u001b[0m                 )\n\u001b[0;32m   2646\u001b[0m             \u001b[0mbatch_text_or_text_pairs\u001b[0m \u001b[1;33m=\u001b[0m \u001b[0mlist\u001b[0m\u001b[1;33m(\u001b[0m\u001b[0mzip\u001b[0m\u001b[1;33m(\u001b[0m\u001b[0mtext\u001b[0m\u001b[1;33m,\u001b[0m \u001b[0mtext_pair\u001b[0m\u001b[1;33m)\u001b[0m\u001b[1;33m)\u001b[0m \u001b[1;32mif\u001b[0m \u001b[0mtext_pair\u001b[0m \u001b[1;32mis\u001b[0m \u001b[1;32mnot\u001b[0m \u001b[1;32mNone\u001b[0m \u001b[1;32melse\u001b[0m \u001b[0mtext\u001b[0m\u001b[1;33m\u001b[0m\u001b[1;33m\u001b[0m\u001b[0m\n\u001b[1;32m-> 2647\u001b[1;33m             return self.batch_encode_plus(\n\u001b[0m\u001b[0;32m   2648\u001b[0m                 \u001b[0mbatch_text_or_text_pairs\u001b[0m\u001b[1;33m=\u001b[0m\u001b[0mbatch_text_or_text_pairs\u001b[0m\u001b[1;33m,\u001b[0m\u001b[1;33m\u001b[0m\u001b[1;33m\u001b[0m\u001b[0m\n\u001b[0;32m   2649\u001b[0m                 \u001b[0madd_special_tokens\u001b[0m\u001b[1;33m=\u001b[0m\u001b[0madd_special_tokens\u001b[0m\u001b[1;33m,\u001b[0m\u001b[1;33m\u001b[0m\u001b[1;33m\u001b[0m\u001b[0m\n",
      "\u001b[1;32m~\\AppData\\Roaming\\Python\\Python39\\site-packages\\transformers\\tokenization_utils_base.py\u001b[0m in \u001b[0;36mbatch_encode_plus\u001b[1;34m(self, batch_text_or_text_pairs, add_special_tokens, padding, truncation, max_length, stride, is_split_into_words, pad_to_multiple_of, return_tensors, return_token_type_ids, return_attention_mask, return_overflowing_tokens, return_special_tokens_mask, return_offsets_mapping, return_length, verbose, **kwargs)\u001b[0m\n\u001b[0;32m   2836\u001b[0m         )\n\u001b[0;32m   2837\u001b[0m \u001b[1;33m\u001b[0m\u001b[0m\n\u001b[1;32m-> 2838\u001b[1;33m         return self._batch_encode_plus(\n\u001b[0m\u001b[0;32m   2839\u001b[0m             \u001b[0mbatch_text_or_text_pairs\u001b[0m\u001b[1;33m=\u001b[0m\u001b[0mbatch_text_or_text_pairs\u001b[0m\u001b[1;33m,\u001b[0m\u001b[1;33m\u001b[0m\u001b[1;33m\u001b[0m\u001b[0m\n\u001b[0;32m   2840\u001b[0m             \u001b[0madd_special_tokens\u001b[0m\u001b[1;33m=\u001b[0m\u001b[0madd_special_tokens\u001b[0m\u001b[1;33m,\u001b[0m\u001b[1;33m\u001b[0m\u001b[1;33m\u001b[0m\u001b[0m\n",
      "\u001b[1;32m~\\AppData\\Roaming\\Python\\Python39\\site-packages\\transformers\\tokenization_utils_fast.py\u001b[0m in \u001b[0;36m_batch_encode_plus\u001b[1;34m(self, batch_text_or_text_pairs, add_special_tokens, padding_strategy, truncation_strategy, max_length, stride, is_split_into_words, pad_to_multiple_of, return_tensors, return_token_type_ids, return_attention_mask, return_overflowing_tokens, return_special_tokens_mask, return_offsets_mapping, return_length, verbose)\u001b[0m\n\u001b[0;32m    423\u001b[0m         )\n\u001b[0;32m    424\u001b[0m \u001b[1;33m\u001b[0m\u001b[0m\n\u001b[1;32m--> 425\u001b[1;33m         encodings = self._tokenizer.encode_batch(\n\u001b[0m\u001b[0;32m    426\u001b[0m             \u001b[0mbatch_text_or_text_pairs\u001b[0m\u001b[1;33m,\u001b[0m\u001b[1;33m\u001b[0m\u001b[1;33m\u001b[0m\u001b[0m\n\u001b[0;32m    427\u001b[0m             \u001b[0madd_special_tokens\u001b[0m\u001b[1;33m=\u001b[0m\u001b[0madd_special_tokens\u001b[0m\u001b[1;33m,\u001b[0m\u001b[1;33m\u001b[0m\u001b[1;33m\u001b[0m\u001b[0m\n",
      "\u001b[1;31mTypeError\u001b[0m: TextEncodeInput must be Union[TextInputSequence, Tuple[InputSequence, InputSequence]]"
     ]
    }
   ],
   "source": [
    "from sklearn.svm import SVC\n",
    "from sklearn.metrics import accuracy_score\n",
    "from sklearn.model_selection import train_test_split\n",
    "\n",
    "# Initialize SVM classifier\n",
    "svm_classifier = SVC(kernel='linear')\n",
    "\n",
    "for proportion in proportions:\n",
    "    # Split the combined dataset into train and validation sets\n",
    "    train_texts_split, _, train_labels_split, _ = train_test_split(combined_train_texts, combined_train_labels, train_size=proportion, random_state=42)\n",
    "\n",
    "    # Tokenize the texts\n",
    "    train_encodings = tokenizer(train_texts_split, truncation=True, padding=True)\n",
    "\n",
    "    # Convert labels to tensors\n",
    "    train_labels_tensor = torch.tensor(train_labels_split)\n",
    "\n",
    "    # Train SVM classifier\n",
    "    svm_classifier.fit(train_encodings, train_labels_tensor)\n",
    "\n",
    "    # Evaluate SVM classifier on fixed validation set\n",
    "    val_encodings = tokenizer(val_texts, truncation=True, padding=True)\n",
    "    val_labels_tensor = torch.tensor(val_labels)\n",
    "    \n",
    "    svm_preds = svm_classifier.predict(val_encodings)\n",
    "    svm_accuracy = accuracy_score(val_labels, svm_preds)\n",
    "\n",
    "    print(f\"Proportion: {proportion}, SVM Accuracy: {svm_accuracy}\")"
   ]
  },
  {
   "cell_type": "markdown",
   "id": "ebf86a3a",
   "metadata": {},
   "source": [
    "### 3. Experimental Results and Analysis"
   ]
  },
  {
   "cell_type": "code",
   "execution_count": 36,
   "id": "026928f9",
   "metadata": {
    "colab": {
     "base_uri": "https://localhost:8080/",
     "height": 145,
     "referenced_widgets": [
      "6ded19f90ac54c8cb6bdcc6791eab0e3",
      "e49377977f5043529098fddd67d487d1",
      "54b28c9723b54b82b1c01972ccd4defc",
      "20181a2adf93413e8c36edb892175521",
      "be8c0ff6d62c43dd98c65d5c1bd9bcf7",
      "7c45128889f14ec4a924850e8ed5d94f",
      "154fb395a5914d5aa044283962d78f57",
      "a7fae617d67c41019d959a421964339f",
      "b7dafd659c454c6e81cf9ee174521e05",
      "dd6e6e40e66b46ef9849d07cafbc0b34",
      "7f75044e1bda4ecd9813cdf8b93f51bf",
      "4571b1e75272433488a671446980f8c0",
      "c46c0213aa8043989616277efc1e8e18",
      "e8c7a1d38d3544c3a46601a265f2217a",
      "60ae2c972c5e4e89bb0fa027d12ce30b",
      "ea0f8537a77d40b7a621f41e49b93b17",
      "48585513b2b34ff2bdf53b7289ed5840",
      "727beba85c9349f896c8c00a173139b8",
      "2ceeea4e5c2c400084db7bb43cb75a1d",
      "0eacfc9bea104a4393bd6906caee3ffd",
      "ea334867eab94596ae1298c02e69b81c",
      "b06f758a9bdb420c82add87bf6d5e887",
      "ad43a9a2a98344589cfaa71541762cd4",
      "40cb9bc7b61c412c9ec822b1a4003846",
      "b56fc9243f6a4e23b35b792229be40ef",
      "333275f182784428b37ae55afeab916b",
      "aa7390c3cbae41758c697dd7491337ba",
      "f2864a0440af4367b83442473360f15e",
      "3ce90f33bab844eeac1ecd4d0d3c6cab",
      "d78d8db9e16341acbbe59daf118e4c14",
      "d08022e3b50d40618262a0996c333879",
      "7733ee10e1194e4d9a159d8e33958e5b",
      "498b5cb6ba034998a6fcbc3c767445f5",
      "258c5d079aac42b2b00008998a969147",
      "70fc28d833cf4a9fa2c9b9a149a8be28",
      "610cfa8c4b304043b909def4cd5e650a",
      "a15e59eaf27a472894f05644dce159b6",
      "7aa46bedd26e4bb485427a8f4c78899b",
      "f0cef606600c49008daac098b5ed56f1",
      "284de81f476f4348ad18850896b42a62",
      "60b04b72f311465cba6827ae7a235fbc",
      "eed9b950bdd14dcf815ab924752e4730",
      "1c5ab47228904bf882e821a0c2348fa4",
      "ede44de6b3944a3f882251dbc107d562"
     ]
    },
    "id": "026928f9",
    "outputId": "4c35ab20-93a8-4efd-9f5a-560fd67a1de6"
   },
   "outputs": [],
   "source": [
    "tokenizer = AutoTokenizer.from_pretrained('bert-base-uncased')\n",
    "max_length = 128\n",
    "\n",
    "def tokenize_and_encode(texts, max_length):\n",
    "    return tokenizer(texts, padding=\"max_length\", truncation=True, max_length=max_length, return_tensors='np')\n",
    "\n",
    "\n",
    "def preprocess_data(examples):\n",
    "    texts = [\" \".join(tokens) for tokens in examples['tokens']]\n",
    "    tokenized_inputs = tokenize_and_encode(texts, max_length)\n",
    "    labels = []\n",
    "    for label_list in examples['ner_tags']:\n",
    "        padded_labels = label_list + [-100] * (max_length - len(label_list))\n",
    "        labels.append(padded_labels[:max_length])\n",
    "\n",
    "    return tokenized_inputs, np.array(labels)\n",
    "\n",
    "train_dataset = dataset['train']\n",
    "test_dataset = dataset['test']\n",
    "\n",
    "train_encodings, train_labels = preprocess_data(train_dataset)\n",
    "test_encodings, test_labels = preprocess_data(test_dataset)\n",
    "\n",
    "train_inputs, val_inputs, train_labels, val_labels = train_test_split(\n",
    "    train_encodings['input_ids'], train_labels, test_size=0.1, random_state=42\n",
    ")"
   ]
  },
  {
   "cell_type": "code",
   "execution_count": 37,
   "id": "3ed67fb0",
   "metadata": {
    "colab": {
     "base_uri": "https://localhost:8080/"
    },
    "id": "3ed67fb0",
    "outputId": "a402b961-89ec-46be-9e63-7b9bea6236ef"
   },
   "outputs": [
    {
     "name": "stdout",
     "output_type": "stream",
     "text": [
      "Train inputs shape: (964, 128)\n",
      "Validation inputs shape: (108, 128)\n",
      "Train labels shape: (964, 128)\n",
      "Validation labels shape: (108, 128)\n"
     ]
    }
   ],
   "source": [
    "print(f\"Train inputs shape: {train_inputs.shape}\")\n",
    "print(f\"Validation inputs shape: {val_inputs.shape}\")\n",
    "print(f\"Train labels shape: {train_labels.shape}\")\n",
    "print(f\"Validation labels shape: {val_labels.shape}\")"
   ]
  },
  {
   "cell_type": "code",
   "execution_count": 42,
   "id": "712ee61e",
   "metadata": {
    "id": "712ee61e"
   },
   "outputs": [],
   "source": [
    "label_map = {\n",
    "    'O': 0, 'B-AC': 1, 'I-AC': 2, 'B-LF': 3, 'I-LF': 4, 'B-O': 5\n",
    "}\n",
    "\n",
    "def convert_labels_to_int(labels, label_map):\n",
    "    converted_labels = []\n",
    "    for label_list in labels:\n",
    "        converted_label_list = []\n",
    "        for label in label_list:\n",
    "            if label == '-100':\n",
    "                converted_label_list.append(-100)\n",
    "            elif label in label_map:\n",
    "                converted_label_list.append(label_map[label])\n",
    "            else:\n",
    "                raise ValueError(f\"Label {label} not found in label_map and is not a padding value.\")\n",
    "        converted_labels.append(converted_label_list)\n",
    "    return converted_labels"
   ]
  },
  {
   "cell_type": "code",
   "execution_count": 43,
   "id": "ea518d15",
   "metadata": {
    "id": "ea518d15"
   },
   "outputs": [],
   "source": [
    "def create_dataloader(input_ids, attention_masks, labels, label_map, batch_size=32):\n",
    "    print(f\"Input IDs shape: {input_ids.shape}\")\n",
    "    print(f\"Attention Masks shape: {attention_masks.shape}\")\n",
    "\n",
    "    if isinstance(labels, list):\n",
    "        print(f\"Labels shape: {len(labels)}, {len(labels[0]) if labels else 'N/A'}\")\n",
    "    elif isinstance(labels, np.ndarray):\n",
    "        print(f\"Labels shape: {labels.shape}\")\n",
    "\n",
    "    labels = convert_labels_to_int(labels, label_map)\n",
    "\n",
    "    if input_ids.shape[0] != attention_masks.shape[0]:\n",
    "        print(\"Adjusting mismatch in attention masks...\")\n",
    "        attention_masks = attention_masks[:input_ids.shape[0]]\n",
    "\n",
    "    assert input_ids.shape[0] == attention_masks.shape[0] == len(labels), \"Mismatch in the number of examples among tensors\"\n",
    "\n",
    "    input_ids = torch.tensor(input_ids, dtype=torch.long)\n",
    "    attention_masks = torch.tensor(attention_masks, dtype=torch.long)\n",
    "    labels = torch.tensor(labels, dtype=torch.long)\n",
    "\n",
    "    data = TensorDataset(input_ids, attention_masks, labels)\n",
    "    \n",
    "    sampler = RandomSampler(data)\n",
    "    dataloader = DataLoader(data, sampler=sampler, batch_size=batch_size)\n",
    "    return dataloader"
   ]
  },
  {
   "cell_type": "code",
   "execution_count": 44,
   "id": "023ddad9",
   "metadata": {
    "colab": {
     "base_uri": "https://localhost:8080/"
    },
    "id": "023ddad9",
    "outputId": "d0c5ff24-56d6-4e3b-a1a6-ce54b3e4b622"
   },
   "outputs": [
    {
     "name": "stdout",
     "output_type": "stream",
     "text": [
      "Input IDs shape: (964, 128)\n",
      "Attention Masks shape: (1072, 128)\n",
      "Labels shape: (964, 128)\n",
      "Adjusting mismatch in attention masks...\n"
     ]
    }
   ],
   "source": [
    "batch_size = 16\n",
    "label_map = {'O': 0, 'B-AC': 1, 'I-AC': 2, 'B-LF': 3, 'I-LF': 4, 'B-O': 5}\n",
    "train_dataloader = create_dataloader(train_inputs, train_encodings['attention_mask'], train_labels, label_map, batch_size)"
   ]
  },
  {
   "cell_type": "code",
   "execution_count": 45,
   "id": "5c4f2eee",
   "metadata": {
    "colab": {
     "base_uri": "https://localhost:8080/"
    },
    "id": "5c4f2eee",
    "outputId": "ed9488a9-105c-4851-d3c8-041e0cb36944"
   },
   "outputs": [
    {
     "name": "stdout",
     "output_type": "stream",
     "text": [
      "Input IDs shape: (108, 128)\n",
      "Attention Masks shape: (153, 128)\n",
      "Labels shape: (108, 128)\n",
      "Adjusting mismatch in attention masks...\n"
     ]
    }
   ],
   "source": [
    "validation_dataloader = create_dataloader(val_inputs, test_encodings['attention_mask'], val_labels, label_map, batch_size)"
   ]
  },
  {
   "cell_type": "markdown",
   "id": "baa3bd9e",
   "metadata": {},
   "source": [
    "##### 3.1 BERT-Based Model with Fine-Tuning"
   ]
  },
  {
   "cell_type": "code",
   "execution_count": 46,
   "id": "fa0efcad",
   "metadata": {
    "colab": {
     "base_uri": "https://localhost:8080/",
     "height": 795,
     "referenced_widgets": [
      "8bc94dffd8e244b680f74f5ccb987916",
      "2cfa631369104a5d8275442b3d7da0af",
      "1dfffb340417468d89367669c55c7b59",
      "3227bc44bb2d425cb9c6e50e3ee9b149",
      "8c378620d027454fa85d58d5a6ad1ffd",
      "205fa07ea8a7432bbf01c71afeeafae9",
      "d04fc929c8e544328e8441689d20ea36",
      "cb76989700e147e5bef68442566bb8d8",
      "5384835ee00c445bb38dee62da6cdde0",
      "e734324c22374a05ad09367c16916be8",
      "a1c560bc256d4d4987b59f265b304d84"
     ]
    },
    "id": "fa0efcad",
    "outputId": "aefcf178-c9f2-449c-9a54-a462e92c652f"
   },
   "outputs": [
    {
     "name": "stderr",
     "output_type": "stream",
     "text": [
      "Some weights of the model checkpoint at bert-base-uncased were not used when initializing BertForTokenClassification: ['cls.predictions.transform.dense.weight', 'cls.predictions.transform.LayerNorm.weight', 'cls.predictions.transform.LayerNorm.bias', 'cls.seq_relationship.weight', 'cls.predictions.transform.dense.bias', 'cls.seq_relationship.bias', 'cls.predictions.bias']\n",
      "- This IS expected if you are initializing BertForTokenClassification from the checkpoint of a model trained on another task or with another architecture (e.g. initializing a BertForSequenceClassification model from a BertForPreTraining model).\n",
      "- This IS NOT expected if you are initializing BertForTokenClassification from the checkpoint of a model that you expect to be exactly identical (initializing a BertForSequenceClassification model from a BertForSequenceClassification model).\n",
      "Some weights of BertForTokenClassification were not initialized from the model checkpoint at bert-base-uncased and are newly initialized: ['classifier.bias', 'classifier.weight']\n",
      "You should probably TRAIN this model on a down-stream task to be able to use it for predictions and inference.\n"
     ]
    },
    {
     "data": {
      "text/plain": [
       "BertForTokenClassification(\n",
       "  (bert): BertModel(\n",
       "    (embeddings): BertEmbeddings(\n",
       "      (word_embeddings): Embedding(30522, 768, padding_idx=0)\n",
       "      (position_embeddings): Embedding(512, 768)\n",
       "      (token_type_embeddings): Embedding(2, 768)\n",
       "      (LayerNorm): LayerNorm((768,), eps=1e-12, elementwise_affine=True)\n",
       "      (dropout): Dropout(p=0.1, inplace=False)\n",
       "    )\n",
       "    (encoder): BertEncoder(\n",
       "      (layer): ModuleList(\n",
       "        (0-11): 12 x BertLayer(\n",
       "          (attention): BertAttention(\n",
       "            (self): BertSelfAttention(\n",
       "              (query): Linear(in_features=768, out_features=768, bias=True)\n",
       "              (key): Linear(in_features=768, out_features=768, bias=True)\n",
       "              (value): Linear(in_features=768, out_features=768, bias=True)\n",
       "              (dropout): Dropout(p=0.1, inplace=False)\n",
       "            )\n",
       "            (output): BertSelfOutput(\n",
       "              (dense): Linear(in_features=768, out_features=768, bias=True)\n",
       "              (LayerNorm): LayerNorm((768,), eps=1e-12, elementwise_affine=True)\n",
       "              (dropout): Dropout(p=0.1, inplace=False)\n",
       "            )\n",
       "          )\n",
       "          (intermediate): BertIntermediate(\n",
       "            (dense): Linear(in_features=768, out_features=3072, bias=True)\n",
       "            (intermediate_act_fn): GELUActivation()\n",
       "          )\n",
       "          (output): BertOutput(\n",
       "            (dense): Linear(in_features=3072, out_features=768, bias=True)\n",
       "            (LayerNorm): LayerNorm((768,), eps=1e-12, elementwise_affine=True)\n",
       "            (dropout): Dropout(p=0.1, inplace=False)\n",
       "          )\n",
       "        )\n",
       "      )\n",
       "    )\n",
       "  )\n",
       "  (dropout): Dropout(p=0.1, inplace=False)\n",
       "  (classifier): Linear(in_features=768, out_features=6, bias=True)\n",
       ")"
      ]
     },
     "execution_count": 46,
     "metadata": {},
     "output_type": "execute_result"
    }
   ],
   "source": [
    "label_map = {'O': 0, 'B-AC': 1, 'I-AC': 2, 'B-LF': 3, 'I-LF': 4, 'B-O': 5}\n",
    "num_labels = len(label_map)\n",
    "\n",
    "model = BertForTokenClassification.from_pretrained(\n",
    "    'bert-base-uncased',\n",
    "    num_labels=num_labels,\n",
    "    output_attentions=False,\n",
    "    output_hidden_states=False\n",
    ")\n",
    "\n",
    "device = torch.device(\"cuda\" if torch.cuda.is_available() else \"cpu\")\n",
    "model.to(device)"
   ]
  },
  {
   "cell_type": "code",
   "execution_count": 47,
   "id": "22e59d56",
   "metadata": {
    "colab": {
     "base_uri": "https://localhost:8080/"
    },
    "id": "22e59d56",
    "outputId": "cbd32381-0402-406a-e5af-24ce8a043c04"
   },
   "outputs": [
    {
     "name": "stderr",
     "output_type": "stream",
     "text": [
      "C:\\Users\\User\\AppData\\Roaming\\Python\\Python39\\site-packages\\transformers\\optimization.py:411: FutureWarning: This implementation of AdamW is deprecated and will be removed in a future version. Use the PyTorch implementation torch.optim.AdamW instead, or set `no_deprecation_warning=True` to disable this warning\n",
      "  warnings.warn(\n"
     ]
    }
   ],
   "source": [
    "optimizer = AdamW(model.parameters(), lr=2e-5, eps=1e-8)"
   ]
  },
  {
   "cell_type": "code",
   "execution_count": 48,
   "id": "f5237f0e",
   "metadata": {
    "colab": {
     "base_uri": "https://localhost:8080/"
    },
    "id": "f5237f0e",
    "outputId": "640f4a36-7419-469e-c465-2569c24bcba5"
   },
   "outputs": [
    {
     "name": "stdout",
     "output_type": "stream",
     "text": [
      "\n",
      "Epoch 1/10\n"
     ]
    },
    {
     "name": "stderr",
     "output_type": "stream",
     "text": [
      "100%|██████████████████████████████████████████████████████████████████████████████████| 61/61 [10:35<00:00, 10.42s/it]\n"
     ]
    },
    {
     "name": "stdout",
     "output_type": "stream",
     "text": [
      "Average train loss: 0.7012384147917639\n",
      "Validation F1 Score: 0.22537586061542783\n",
      "\n",
      "Epoch 2/10\n"
     ]
    },
    {
     "name": "stderr",
     "output_type": "stream",
     "text": [
      "100%|██████████████████████████████████████████████████████████████████████████████████| 61/61 [10:45<00:00, 10.59s/it]\n"
     ]
    },
    {
     "name": "stdout",
     "output_type": "stream",
     "text": [
      "Average train loss: 0.5931670460544649\n",
      "Validation F1 Score: 0.2577453340613129\n",
      "\n",
      "Epoch 3/10\n"
     ]
    },
    {
     "name": "stderr",
     "output_type": "stream",
     "text": [
      "100%|██████████████████████████████████████████████████████████████████████████████████| 61/61 [10:40<00:00, 10.51s/it]\n"
     ]
    },
    {
     "name": "stdout",
     "output_type": "stream",
     "text": [
      "Average train loss: 0.5398485157333437\n",
      "Validation F1 Score: 0.288632606015268\n",
      "\n",
      "Epoch 4/10\n"
     ]
    },
    {
     "name": "stderr",
     "output_type": "stream",
     "text": [
      "100%|██████████████████████████████████████████████████████████████████████████████████| 61/61 [10:42<00:00, 10.53s/it]\n"
     ]
    },
    {
     "name": "stdout",
     "output_type": "stream",
     "text": [
      "Average train loss: 0.49718391846437926\n",
      "Validation F1 Score: 0.32760511517583535\n",
      "\n",
      "Epoch 5/10\n"
     ]
    },
    {
     "name": "stderr",
     "output_type": "stream",
     "text": [
      "100%|██████████████████████████████████████████████████████████████████████████████████| 61/61 [10:26<00:00, 10.27s/it]\n"
     ]
    },
    {
     "name": "stdout",
     "output_type": "stream",
     "text": [
      "Average train loss: 0.4512880967288721\n",
      "Validation F1 Score: 0.41058760047337195\n",
      "\n",
      "Epoch 6/10\n"
     ]
    },
    {
     "name": "stderr",
     "output_type": "stream",
     "text": [
      "100%|██████████████████████████████████████████████████████████████████████████████████| 61/61 [10:33<00:00, 10.39s/it]\n"
     ]
    },
    {
     "name": "stdout",
     "output_type": "stream",
     "text": [
      "Average train loss: 0.41566518608663905\n",
      "Validation F1 Score: 0.4182237535599409\n",
      "\n",
      "Epoch 7/10\n"
     ]
    },
    {
     "name": "stderr",
     "output_type": "stream",
     "text": [
      "100%|██████████████████████████████████████████████████████████████████████████████████| 61/61 [10:45<00:00, 10.57s/it]\n"
     ]
    },
    {
     "name": "stdout",
     "output_type": "stream",
     "text": [
      "Average train loss: 0.39130269552840563\n",
      "Validation F1 Score: 0.43465802298414125\n",
      "\n",
      "Epoch 8/10\n"
     ]
    },
    {
     "name": "stderr",
     "output_type": "stream",
     "text": [
      "100%|██████████████████████████████████████████████████████████████████████████████████| 61/61 [10:50<00:00, 10.66s/it]\n"
     ]
    },
    {
     "name": "stdout",
     "output_type": "stream",
     "text": [
      "Average train loss: 0.36474435617689227\n",
      "Validation F1 Score: 0.44350557438563\n",
      "\n",
      "Epoch 9/10\n"
     ]
    },
    {
     "name": "stderr",
     "output_type": "stream",
     "text": [
      "100%|██████████████████████████████████████████████████████████████████████████████████| 61/61 [10:41<00:00, 10.52s/it]\n"
     ]
    },
    {
     "name": "stdout",
     "output_type": "stream",
     "text": [
      "Average train loss: 0.3442351185396069\n",
      "Validation F1 Score: 0.45005292543138875\n",
      "\n",
      "Epoch 10/10\n"
     ]
    },
    {
     "name": "stderr",
     "output_type": "stream",
     "text": [
      "100%|██████████████████████████████████████████████████████████████████████████████████| 61/61 [10:54<00:00, 10.72s/it]\n"
     ]
    },
    {
     "name": "stdout",
     "output_type": "stream",
     "text": [
      "Average train loss: 0.3242394797137526\n",
      "Validation F1 Score: 0.4491950622896691\n"
     ]
    }
   ],
   "source": [
    "device = torch.device(\"cuda\" if torch.cuda.is_available() else \"cpu\")\n",
    "model.to(device)\n",
    "epochs = 10\n",
    "\n",
    "for epoch in range(epochs):\n",
    "    print(f'\\nEpoch {epoch + 1}/{epochs}')\n",
    "    model.train()\n",
    "    total_loss = 0\n",
    "\n",
    "    for step, batch in enumerate(tqdm(train_dataloader)):\n",
    "        batch = tuple(t.to(device) for t in batch)\n",
    "        b_input_ids, b_input_mask, b_labels = batch\n",
    "        model.zero_grad()\n",
    "\n",
    "        outputs = model(b_input_ids, attention_mask=b_input_mask, labels=b_labels)\n",
    "        loss = outputs[0] \n",
    "        loss.backward()\n",
    "        torch.nn.utils.clip_grad_norm_(model.parameters(), 1.0)\n",
    "        optimizer.step()\n",
    "        total_loss += loss.item()\n",
    "\n",
    "    avg_train_loss = total_loss / len(train_dataloader)\n",
    "    print(f'Average train loss: {avg_train_loss}')\n",
    "\n",
    "    # Validation loop\n",
    "    model.eval()\n",
    "    predictions, true_labels = [], []\n",
    "\n",
    "    for batch in validation_dataloader:\n",
    "        batch = tuple(t.to(device) for t in batch)\n",
    "        b_input_ids, b_input_mask, b_labels = batch\n",
    "\n",
    "        with torch.no_grad():\n",
    "            outputs = model(b_input_ids, attention_mask=b_input_mask)\n",
    "\n",
    "        logits = outputs[0].detach().cpu().numpy() \n",
    "        label_ids = b_labels.to('cpu').numpy()\n",
    "        \n",
    "        batch_predictions = [p for sublist in np.argmax(logits, axis=2) for p in sublist]\n",
    "        batch_true_labels = [label for sublist in label_ids for label in sublist]\n",
    "        predictions.extend(batch_predictions)\n",
    "        true_labels.extend(batch_true_labels)\n",
    "\n",
    "    mask = np.array(true_labels) != -100\n",
    "    filtered_labels = np.array(true_labels)[mask]\n",
    "    filtered_predictions = np.array(predictions)[mask]\n",
    "    print(\"Validation F1 Score:\", f1_score(filtered_labels, filtered_predictions, average='macro'))"
   ]
  },
  {
   "cell_type": "code",
   "execution_count": 73,
   "id": "b8577202",
   "metadata": {},
   "outputs": [],
   "source": [
    "def plot_confusion_matrix(conf_matrix, labels=None):\n",
    "    disp = ConfusionMatrixDisplay(confusion_matrix=conf_matrix, display_labels=np.unique(filtered_labels))\n",
    "    disp.plot(cmap=plt.cm.Blues)\n",
    "    plt.xlabel('Predictions', fontsize=18)\n",
    "    plt.ylabel('Actuals', fontsize=18)\n",
    "    plt.title('Confusion Matrix', fontsize=18)\n",
    "    plt.show()"
   ]
  },
  {
   "cell_type": "code",
   "execution_count": 74,
   "id": "a284a30d",
   "metadata": {},
   "outputs": [
    {
     "data": {
      "image/png": "[encoded data removed]",
      "text/plain": [
       "<Figure size 640x480 with 2 Axes>"
      ]
     },
     "metadata": {},
     "output_type": "display_data"
    }
   ],
   "source": [
    "conf_matrix = confusion_matrix(filtered_labels, filtered_predictions)\n",
    "plot_confusion_matrix(conf_matrix)"
   ]
  },
  {
   "cell_type": "code",
   "execution_count": 56,
   "id": "-p9w0BsVh9SZ",
   "metadata": {
    "colab": {
     "base_uri": "https://localhost:8080/",
     "height": 1000
    },
    "id": "-p9w0BsVh9SZ",
    "outputId": "8cc860ad-5c7d-4c67-b4be-acdf7852a00d"
   },
   "outputs": [
    {
     "name": "stdout",
     "output_type": "stream",
     "text": [
      "\n",
      "Epoch 1/10\n"
     ]
    },
    {
     "name": "stderr",
     "output_type": "stream",
     "text": [
      "100%|██████████████████████████████████████████████████████████████████████████████████| 61/61 [10:33<00:00, 10.38s/it]\n"
     ]
    },
    {
     "name": "stdout",
     "output_type": "stream",
     "text": [
      "Average train loss: 0.3001781545701574\n",
      "\n",
      "Epoch 2/10\n"
     ]
    },
    {
     "name": "stderr",
     "output_type": "stream",
     "text": [
      "100%|██████████████████████████████████████████████████████████████████████████████████| 61/61 [10:25<00:00, 10.25s/it]\n"
     ]
    },
    {
     "name": "stdout",
     "output_type": "stream",
     "text": [
      "Average train loss: 0.29138364606216305\n",
      "\n",
      "Epoch 3/10\n"
     ]
    },
    {
     "name": "stderr",
     "output_type": "stream",
     "text": [
      "100%|██████████████████████████████████████████████████████████████████████████████████| 61/61 [10:27<00:00, 10.28s/it]\n"
     ]
    },
    {
     "name": "stdout",
     "output_type": "stream",
     "text": [
      "Average train loss: 0.2715560029276082\n",
      "\n",
      "Epoch 4/10\n"
     ]
    },
    {
     "name": "stderr",
     "output_type": "stream",
     "text": [
      "100%|██████████████████████████████████████████████████████████████████████████████████| 61/61 [10:29<00:00, 10.32s/it]\n"
     ]
    },
    {
     "name": "stdout",
     "output_type": "stream",
     "text": [
      "Average train loss: 0.2536182308294734\n",
      "\n",
      "Epoch 5/10\n"
     ]
    },
    {
     "name": "stderr",
     "output_type": "stream",
     "text": [
      "100%|██████████████████████████████████████████████████████████████████████████████████| 61/61 [11:09<00:00, 10.98s/it]\n"
     ]
    },
    {
     "name": "stdout",
     "output_type": "stream",
     "text": [
      "Average train loss: 0.24086672311923543\n",
      "\n",
      "Epoch 6/10\n"
     ]
    },
    {
     "name": "stderr",
     "output_type": "stream",
     "text": [
      "100%|██████████████████████████████████████████████████████████████████████████████████| 61/61 [10:54<00:00, 10.73s/it]\n"
     ]
    },
    {
     "name": "stdout",
     "output_type": "stream",
     "text": [
      "Average train loss: 0.22384072376079248\n",
      "\n",
      "Epoch 7/10\n"
     ]
    },
    {
     "name": "stderr",
     "output_type": "stream",
     "text": [
      "100%|██████████████████████████████████████████████████████████████████████████████████| 61/61 [10:52<00:00, 10.69s/it]\n"
     ]
    },
    {
     "name": "stdout",
     "output_type": "stream",
     "text": [
      "Average train loss: 0.20684228580994685\n",
      "\n",
      "Epoch 8/10\n"
     ]
    },
    {
     "name": "stderr",
     "output_type": "stream",
     "text": [
      "100%|██████████████████████████████████████████████████████████████████████████████████| 61/61 [10:42<00:00, 10.54s/it]\n"
     ]
    },
    {
     "name": "stdout",
     "output_type": "stream",
     "text": [
      "Average train loss: 0.19518712016402698\n",
      "\n",
      "Epoch 9/10\n"
     ]
    },
    {
     "name": "stderr",
     "output_type": "stream",
     "text": [
      "100%|██████████████████████████████████████████████████████████████████████████████████| 61/61 [10:39<00:00, 10.48s/it]\n"
     ]
    },
    {
     "name": "stdout",
     "output_type": "stream",
     "text": [
      "Average train loss: 0.18759087491475168\n",
      "\n",
      "Epoch 10/10\n"
     ]
    },
    {
     "name": "stderr",
     "output_type": "stream",
     "text": [
      "100%|██████████████████████████████████████████████████████████████████████████████████| 61/61 [10:24<00:00, 10.23s/it]\n"
     ]
    },
    {
     "name": "stdout",
     "output_type": "stream",
     "text": [
      "Average train loss: 0.1696108051987945\n"
     ]
    },
    {
     "data": {
      "image/png": "[encoded data removed]",
      "text/plain": [
       "<Figure size 800x500 with 1 Axes>"
      ]
     },
     "metadata": {},
     "output_type": "display_data"
    }
   ],
   "source": [
    "train_losses = []\n",
    "\n",
    "for epoch in range(epochs):\n",
    "    print(f'\\nEpoch {epoch + 1}/{epochs}')\n",
    "    model.train()\n",
    "    total_loss = 0\n",
    "\n",
    "    for step, batch in enumerate(tqdm(train_dataloader)):\n",
    "        batch = tuple(t.to(device) for t in batch)\n",
    "        b_input_ids, b_input_mask, b_labels = batch\n",
    "        model.zero_grad()\n",
    "\n",
    "        outputs = model(b_input_ids, attention_mask=b_input_mask, labels=b_labels)\n",
    "        loss = outputs[0]  # Loss is always the first item when labels are provided\n",
    "        loss.backward()\n",
    "        torch.nn.utils.clip_grad_norm_(model.parameters(), 1.0)\n",
    "        optimizer.step()\n",
    "        total_loss += loss.item()\n",
    "\n",
    "    avg_train_loss = total_loss / len(train_dataloader)\n",
    "    print(f'Average train loss: {avg_train_loss}')\n",
    "    train_losses.append(avg_train_loss)\n",
    "\n",
    "# Plotting the training loss\n",
    "plt.figure(figsize=(8, 5))\n",
    "plt.plot(range(1, epochs + 1), train_losses, label='Training Loss')\n",
    "plt.xlabel('Epochs', fontsize=14)\n",
    "plt.ylabel('Loss', fontsize=14)\n",
    "plt.title('Training Loss Curve', fontsize=16)\n",
    "plt.legend()\n",
    "plt.show()"
   ]
  },
  {
   "cell_type": "markdown",
   "id": "Om1CiaZVYpp-",
   "metadata": {
    "id": "Om1CiaZVYpp-"
   },
   "source": [
    "#### 3.2 BERT-Based Model with Tokeniser"
   ]
  },
  {
   "cell_type": "code",
   "execution_count": 58,
   "id": "6fkVqCs46eRq",
   "metadata": {
    "colab": {
     "base_uri": "https://localhost:8080/"
    },
    "id": "6fkVqCs46eRq",
    "outputId": "2b5b3fb8-0bf5-409c-d2e7-1c73548b9a1c"
   },
   "outputs": [
    {
     "name": "stderr",
     "output_type": "stream",
     "text": [
      "Some weights of the model checkpoint at bert-base-uncased were not used when initializing BertForTokenClassification: ['cls.predictions.transform.dense.weight', 'cls.predictions.transform.LayerNorm.weight', 'cls.predictions.transform.LayerNorm.bias', 'cls.seq_relationship.weight', 'cls.predictions.transform.dense.bias', 'cls.seq_relationship.bias', 'cls.predictions.bias']\n",
      "- This IS expected if you are initializing BertForTokenClassification from the checkpoint of a model trained on another task or with another architecture (e.g. initializing a BertForSequenceClassification model from a BertForPreTraining model).\n",
      "- This IS NOT expected if you are initializing BertForTokenClassification from the checkpoint of a model that you expect to be exactly identical (initializing a BertForSequenceClassification model from a BertForSequenceClassification model).\n",
      "Some weights of BertForTokenClassification were not initialized from the model checkpoint at bert-base-uncased and are newly initialized: ['classifier.bias', 'classifier.weight']\n",
      "You should probably TRAIN this model on a down-stream task to be able to use it for predictions and inference.\n"
     ]
    }
   ],
   "source": [
    "tokenizer = BertTokenizer.from_pretrained('bert-base-uncased')\n",
    "model = BertForTokenClassification.from_pretrained('bert-base-uncased', num_labels=6)\n",
    "\n",
    "# Prepare the data\n",
    "def encode_examples(examples, max_length=128):\n",
    "    texts = [\" \".join(example['tokens']) for example in examples]\n",
    "    tokens = tokenizer.batch_encode_plus(\n",
    "        texts,\n",
    "        max_length=max_length,\n",
    "        padding='max_length',\n",
    "        truncation=True,\n",
    "        return_tensors='pt'\n",
    "    )\n",
    "\n",
    "    # Prepare and convert labels using the mapping\n",
    "    padded_labels = []\n",
    "    for example in examples:\n",
    "        label_ids = [label_map[label] for label in example['ner_tags']]\n",
    "\n",
    "        label_ids = label_ids[:max_length]\n",
    "        label_ids += [label_map['O']] * (max_length - len(label_ids))\n",
    "        padded_labels.append(label_ids)\n",
    "\n",
    "    labels_tensor = torch.tensor(padded_labels, dtype=torch.long)\n",
    "    return tokens, labels_tensor"
   ]
  },
  {
   "cell_type": "code",
   "execution_count": 59,
   "id": "oFw_cMc06nqz",
   "metadata": {
    "id": "oFw_cMc06nqz"
   },
   "outputs": [],
   "source": [
    "# Now call encode_examples with the dataset\n",
    "train_tokens, train_labels = encode_examples(dataset['train'])\n",
    "val_tokens, val_labels = encode_examples(dataset['validation'])\n",
    "\n",
    "train_tokens, train_labels = encode_examples(dataset['train'])\n",
    "val_tokens, val_labels = encode_examples(dataset['validation'])"
   ]
  },
  {
   "cell_type": "code",
   "execution_count": 60,
   "id": "LHsfLlsw6ntF",
   "metadata": {
    "id": "LHsfLlsw6ntF"
   },
   "outputs": [],
   "source": [
    "# Dataloaders\n",
    "train_data = TensorDataset(train_tokens['input_ids'], train_tokens['attention_mask'], train_labels)\n",
    "train_sampler = RandomSampler(train_data)\n",
    "train_dataloader = DataLoader(train_data, sampler=train_sampler, batch_size=16)\n",
    "\n",
    "val_data = TensorDataset(val_tokens['input_ids'], val_tokens['attention_mask'], val_labels)\n",
    "val_dataloader = DataLoader(val_data, batch_size=16)"
   ]
  },
  {
   "cell_type": "code",
   "execution_count": 61,
   "id": "R8Fv_PUexq0l",
   "metadata": {
    "colab": {
     "base_uri": "https://localhost:8080/"
    },
    "id": "R8Fv_PUexq0l",
    "outputId": "891da6db-58a0-4b49-a518-128979a6afd9"
   },
   "outputs": [
    {
     "name": "stderr",
     "output_type": "stream",
     "text": [
      "C:\\Users\\User\\AppData\\Roaming\\Python\\Python39\\site-packages\\transformers\\optimization.py:411: FutureWarning: This implementation of AdamW is deprecated and will be removed in a future version. Use the PyTorch implementation torch.optim.AdamW instead, or set `no_deprecation_warning=True` to disable this warning\n",
      "  warnings.warn(\n"
     ]
    },
    {
     "name": "stdout",
     "output_type": "stream",
     "text": [
      "F1 Score: 0.9229818446366765\n"
     ]
    }
   ],
   "source": [
    "optimizer = AdamW(model.parameters(), lr=2e-5)\n",
    "\n",
    "def train_model(model, dataloader, optimizer):\n",
    "    model.train()\n",
    "    total_loss = 0\n",
    "    for batch in dataloader:\n",
    "        batch = tuple(t.to(device) for t in batch)\n",
    "        b_input_ids, b_input_mask, b_labels = batch\n",
    "        model.zero_grad()\n",
    "        outputs = model(b_input_ids, token_type_ids=None, attention_mask=b_input_mask, labels=b_labels)\n",
    "        loss = outputs.loss\n",
    "        loss.backward()\n",
    "        optimizer.step()\n",
    "        total_loss += loss.item()\n",
    "    return total_loss / len(dataloader)\n",
    "\n",
    "\n",
    "def evaluate_model(model, dataloader):\n",
    "    model.eval()\n",
    "    predictions, true_labels = [], []\n",
    "    for batch in dataloader:\n",
    "        batch = tuple(t.to(device) for t in batch)\n",
    "        b_input_ids, b_input_mask, b_labels = batch\n",
    "        with torch.no_grad():\n",
    "            outputs = model(b_input_ids, token_type_ids=None, attention_mask=b_input_mask)\n",
    "        logits = outputs.logits\n",
    "        logits = logits.detach().cpu().numpy()\n",
    "        label_ids = b_labels.to('cpu').numpy()\n",
    "        predictions.extend([list(p) for p in np.argmax(logits, axis=2)])\n",
    "        true_labels.extend(label_ids)\n",
    "    predictions = [p_i for sublist in predictions for p_i in sublist if p_i != -100]\n",
    "    true_labels = [l_i for sublist in true_labels for l_i in sublist if l_i != -100]\n",
    "\n",
    "    precision, recall, f1, _ = precision_recall_fscore_support(true_labels, predictions, average='weighted', zero_division=1)\n",
    "    return f1\n",
    "\n",
    "# Run training and evaluation\n",
    "for _ in range(3):\n",
    "    train_model(model, train_dataloader, optimizer)\n",
    "\n",
    "f1_score = evaluate_model(model, val_dataloader)\n",
    "print(\"F1 Score:\", f1_score)"
   ]
  },
  {
   "cell_type": "code",
   "execution_count": 66,
   "id": "q9F48XYSkQq2",
   "metadata": {
    "id": "q9F48XYSkQq2"
   },
   "outputs": [],
   "source": [
    "def train_model(model, dataloader, optimizer):\n",
    "    model.train()\n",
    "    total_loss = 0\n",
    "    losses = []\n",
    "    for batch in dataloader:\n",
    "        batch = tuple(t.to(device) for t in batch)\n",
    "        b_input_ids, b_input_mask, b_labels = batch\n",
    "        model.zero_grad()\n",
    "        outputs = model(b_input_ids, token_type_ids=None, attention_mask=b_input_mask, labels=b_labels)\n",
    "        loss = outputs.loss\n",
    "        loss.backward()\n",
    "        optimizer.step()\n",
    "        total_loss += loss.item()\n",
    "        losses.append(loss.item())\n",
    "    average_loss = total_loss / len(dataloader)\n",
    "    return losses"
   ]
  },
  {
   "cell_type": "code",
   "execution_count": 67,
   "id": "0kEjA3GkkSVH",
   "metadata": {
    "id": "0kEjA3GkkSVH"
   },
   "outputs": [],
   "source": [
    "def evaluate_model(model, dataloader):\n",
    "    model.eval()\n",
    "    predictions, true_labels = [], []\n",
    "    for batch in dataloader:\n",
    "        batch = tuple(t.to(device) for t in batch)\n",
    "        b_input_ids, b_input_mask, b_labels = batch\n",
    "        with torch.no_grad():\n",
    "            outputs = model(b_input_ids, token_type_ids=None, attention_mask=b_input_mask)\n",
    "        logits = outputs.logits\n",
    "        logits = logits.detach().cpu().numpy()\n",
    "        label_ids = b_labels.to('cpu').numpy()\n",
    "        batch_preds = np.argmax(logits, axis=2)\n",
    "        for i in range(batch_preds.shape[0]):\n",
    "            pred = [p for j, p in enumerate(batch_preds[i]) if b_labels[i, j] != -100]\n",
    "            label = [l for j, l in enumerate(label_ids[i]) if l != -100]\n",
    "            predictions.extend(pred)\n",
    "            true_labels.extend(label)\n",
    "    precision, recall, f1, _ = precision_recall_fscore_support(true_labels, predictions, average='weighted', zero_division=1)\n",
    "    conf_matrix = confusion_matrix(true_labels, predictions)\n",
    "    return f1, conf_matrix"
   ]
  },
  {
   "cell_type": "code",
   "execution_count": 76,
   "id": "oyECOPdwkVdM",
   "metadata": {
    "id": "oyECOPdwkVdM"
   },
   "outputs": [],
   "source": [
    "def plot_loss_curve(losses):\n",
    "    plt.figure(figsize=(8, 5))\n",
    "    plt.plot(losses, label='Training Loss')\n",
    "    plt.xlabel('Iterations', fontsize=14)\n",
    "    plt.ylabel('Loss', fontsize=14)\n",
    "    plt.title('Training Loss Curve', fontsize=16)\n",
    "    plt.legend()\n",
    "    plt.show()"
   ]
  },
  {
   "cell_type": "code",
   "execution_count": 69,
   "id": "6lPb0EybklQX",
   "metadata": {
    "colab": {
     "base_uri": "https://localhost:8080/",
     "height": 1000
    },
    "id": "6lPb0EybklQX",
    "outputId": "445a85ee-bef3-4758-e215-fd77e1fab5df"
   },
   "outputs": [
    {
     "name": "stdout",
     "output_type": "stream",
     "text": [
      "F1 Score: 0.9344740687624352\n"
     ]
    }
   ],
   "source": [
    "all_losses = []\n",
    "for _ in range(3):\n",
    "    epoch_losses = train_model(model, train_dataloader, optimizer)\n",
    "    all_losses.extend(epoch_losses)\n",
    "\n",
    "f1_score, conf_matrix = evaluate_model(model, val_dataloader)\n",
    "print(\"F1 Score:\", f1_score)"
   ]
  },
  {
   "cell_type": "code",
   "execution_count": 77,
   "id": "5cd9dd51",
   "metadata": {},
   "outputs": [
    {
     "data": {
      "image/png": "[encoded data removed]",
      "text/plain": [
       "<Figure size 800x500 with 1 Axes>"
      ]
     },
     "metadata": {},
     "output_type": "display_data"
    }
   ],
   "source": [
    "plot_loss_curve(all_losses)"
   ]
  },
  {
   "cell_type": "code",
   "execution_count": 75,
   "id": "d77b9dae",
   "metadata": {},
   "outputs": [
    {
     "data": {
      "image/png": "[encoded data removed]",
      "text/plain": [
       "<Figure size 640x480 with 2 Axes>"
      ]
     },
     "metadata": {},
     "output_type": "display_data"
    }
   ],
   "source": [
    "plot_confusion_matrix(conf_matrix, np.unique(filtered_labels))"
   ]
  },
  {
   "cell_type": "markdown",
   "id": "-ZsPJ7MjwlWz",
   "metadata": {
    "id": "-ZsPJ7MjwlWz"
   },
   "source": [
    "#### 3.3 RNN-Based Model"
   ]
  },
  {
   "cell_type": "code",
   "execution_count": 85,
   "id": "lBB4wnTmBRzI",
   "metadata": {
    "id": "lBB4wnTmBRzI"
   },
   "outputs": [],
   "source": [
    "tokenizer = BertTokenizer.from_pretrained('bert-base-uncased')"
   ]
  },
  {
   "cell_type": "code",
   "execution_count": 87,
   "id": "GjTKmEPTBXJJ",
   "metadata": {
    "id": "GjTKmEPTBXJJ"
   },
   "outputs": [],
   "source": [
    "def encode_examples(examples, max_length=128):\n",
    "    texts = [\" \".join(example['tokens']) for example in examples]\n",
    "    tokens = tokenizer.batch_encode_plus(\n",
    "        texts, max_length=max_length, padding='max_length', truncation=True, return_tensors='pt'\n",
    "    )\n",
    "\n",
    "    padded_labels = []\n",
    "    for example in examples:\n",
    "        label_ids = [label_map[label] for label in example['ner_tags']]\n",
    "        label_ids = label_ids[:max_length] + [label_map['O']] * (max_length - len(label_ids))\n",
    "        padded_labels.append(label_ids)\n",
    "\n",
    "    labels_tensor = torch.tensor(padded_labels, dtype=torch.long)\n",
    "    return tokens, labels_tensor\n",
    "\n",
    "train_tokens, train_labels = encode_examples(dataset['train'])"
   ]
  },
  {
   "cell_type": "code",
   "execution_count": 88,
   "id": "9h2X8U6iBbfq",
   "metadata": {
    "id": "9h2X8U6iBbfq"
   },
   "outputs": [],
   "source": [
    "class RNNModel(nn.Module):\n",
    "    def __init__(self, vocab_size, embedding_dim, hidden_dim, output_dim):\n",
    "        super(RNNModel, self).__init__()\n",
    "        self.embedding = nn.Embedding(vocab_size, embedding_dim)\n",
    "        self.rnn = nn.GRU(embedding_dim, hidden_dim, batch_first=True)\n",
    "        self.fc = nn.Linear(hidden_dim, output_dim)\n",
    "\n",
    "    def forward(self, x):\n",
    "        embedded = self.embedding(x.long())\n",
    "        output, _ = self.rnn(embedded)\n",
    "        output = self.fc(output)\n",
    "        return output"
   ]
  },
  {
   "cell_type": "code",
   "execution_count": 89,
   "id": "SPpeW9hgBdwi",
   "metadata": {
    "id": "SPpeW9hgBdwi"
   },
   "outputs": [],
   "source": [
    "def train_model(model, data_loader, optimizer, criterion, epochs=10):\n",
    "    model.train()\n",
    "    for epoch in range(epochs):\n",
    "        total_loss = 0\n",
    "        for inputs, labels in data_loader:\n",
    "            inputs = inputs.float() \n",
    "            labels = labels.view(-1)\n",
    "\n",
    "            optimizer.zero_grad()\n",
    "            outputs = model(inputs)\n",
    "            loss = criterion(outputs.view(-1, outputs.shape[-1]), labels)\n",
    "            loss.backward()\n",
    "            optimizer.step()\n",
    "            total_loss += loss.item()\n",
    "        print(f'Epoch {epoch + 1}, Loss: {total_loss / len(data_loader)}')"
   ]
  },
  {
   "cell_type": "code",
   "execution_count": 90,
   "id": "rc6iOdKbEBtU",
   "metadata": {
    "id": "rc6iOdKbEBtU"
   },
   "outputs": [],
   "source": [
    "def evaluate_model(model, data_loader):\n",
    "    model.eval()\n",
    "    true_labels, predictions = [], []\n",
    "    with torch.no_grad():\n",
    "        for inputs, labels in data_loader:\n",
    "            inputs = inputs.float()\n",
    "            labels = labels.view(-1)\n",
    "\n",
    "            outputs = model(inputs)\n",
    "            _, predicted = torch.max(outputs, -1)\n",
    "            predicted = predicted.view(-1).numpy()\n",
    "\n",
    "            valid_indices = labels != -100\n",
    "            valid_labels = labels[valid_indices].numpy()\n",
    "            valid_predictions = predicted[valid_indices]\n",
    "\n",
    "            true_labels.extend(valid_labels)\n",
    "            predictions.extend(valid_predictions)\n",
    "    return f1_score(true_labels, predictions, average='macro')"
   ]
  },
  {
   "cell_type": "code",
   "execution_count": 92,
   "id": "9Cp9EPPWBeR3",
   "metadata": {
    "colab": {
     "base_uri": "https://localhost:8080/"
    },
    "id": "9Cp9EPPWBeR3",
    "outputId": "2fd85ccf-f95b-4f86-f4e5-eaab9e694b78"
   },
   "outputs": [
    {
     "name": "stdout",
     "output_type": "stream",
     "text": [
      "Epoch 1, Loss: 0.5009846774970784\n",
      "Epoch 2, Loss: 0.33329424568835425\n",
      "Epoch 3, Loss: 0.29586301218060884\n",
      "Epoch 4, Loss: 0.2668624625486486\n",
      "Epoch 5, Loss: 0.23725676711867838\n",
      "Epoch 6, Loss: 0.21981622541652007\n",
      "Epoch 7, Loss: 0.20299372252296\n",
      "Epoch 8, Loss: 0.18468514128642924\n",
      "Epoch 9, Loss: 0.16951779188478694\n",
      "Epoch 10, Loss: 0.14977172871722894\n",
      "RNN Model F1 Score: 0.5453548791357934\n"
     ]
    }
   ],
   "source": [
    "vocab_size = tokenizer.vocab_size\n",
    "embedding_dim = 768  # Typical embedding size used in many models like BERT\n",
    "input_dim = 768  # Typically the size of the embedding layer\n",
    "hidden_dim = 256\n",
    "output_dim = len(label_map)\n",
    "\n",
    "\n",
    "rnn_model = RNNModel(vocab_size, embedding_dim, hidden_dim, output_dim)\n",
    "optimizer = optim.Adam(rnn_model.parameters(), lr=0.001)\n",
    "criterion = nn.CrossEntropyLoss()\n",
    "\n",
    "# DataLoader remains unchanged\n",
    "train_data = TensorDataset(train_tokens['input_ids'], train_labels)\n",
    "train_loader = DataLoader(train_data, batch_size=32, shuffle=True)\n",
    "\n",
    "train_model(rnn_model, train_loader, optimizer, criterion)\n",
    "f1 = evaluate_model(rnn_model, train_loader)\n",
    "print(f'RNN Model F1 Score: {f1}')"
   ]
  },
  {
   "cell_type": "code",
   "execution_count": 93,
   "id": "CZK17YxWl83R",
   "metadata": {
    "id": "CZK17YxWl83R"
   },
   "outputs": [],
   "source": [
    "def train_model(model, data_loader, optimizer, criterion, epochs=10):\n",
    "    model.train()\n",
    "    epoch_losses = [] \n",
    "    for epoch in range(epochs):\n",
    "        total_loss = 0\n",
    "        for inputs, labels in data_loader:\n",
    "            inputs = inputs.float() \n",
    "            labels = labels.view(-1)\n",
    "\n",
    "            optimizer.zero_grad()\n",
    "            outputs = model(inputs)\n",
    "            loss = criterion(outputs.view(-1, outputs.shape[-1]), labels)\n",
    "            loss.backward()\n",
    "            optimizer.step()\n",
    "            total_loss += loss.item()\n",
    "        epoch_loss = total_loss / len(data_loader)\n",
    "        epoch_losses.append(epoch_loss)\n",
    "        print(f'Epoch {epoch + 1}, Loss: {epoch_loss}')\n",
    "    return epoch_losses"
   ]
  },
  {
   "cell_type": "code",
   "execution_count": 94,
   "id": "4gYHdR21mJUJ",
   "metadata": {
    "id": "4gYHdR21mJUJ"
   },
   "outputs": [],
   "source": [
    "def evaluate_model(model, data_loader):\n",
    "    model.eval()\n",
    "    true_labels, predictions = [], []\n",
    "    with torch.no_grad():\n",
    "        for inputs, labels in data_loader:\n",
    "            inputs = inputs.float()\n",
    "            labels = labels.view(-1)\n",
    "\n",
    "            outputs = model(inputs)\n",
    "            _, predicted = torch.max(outputs, -1)\n",
    "            predicted = predicted.view(-1).numpy()\n",
    "\n",
    "            valid_indices = labels != -100\n",
    "            valid_labels = labels[valid_indices].numpy()\n",
    "            valid_predictions = predicted[valid_indices]\n",
    "\n",
    "            true_labels.extend(valid_labels)\n",
    "            predictions.extend(valid_predictions)\n",
    "    f1 = f1_score(true_labels, predictions, average='macro')\n",
    "    conf_mat = confusion_matrix(true_labels, predictions)\n",
    "    return f1, conf_mat"
   ]
  },
  {
   "cell_type": "code",
   "execution_count": 96,
   "id": "3af13c9c",
   "metadata": {},
   "outputs": [
    {
     "data": {
      "image/png": "[encoded data removed]",
      "text/plain": [
       "<Figure size 640x480 with 2 Axes>"
      ]
     },
     "metadata": {},
     "output_type": "display_data"
    }
   ],
   "source": [
    "plot_confusion_matrix(conf_matrix, list(label_map.keys()))"
   ]
  },
  {
   "cell_type": "code",
   "execution_count": 97,
   "id": "HoAGuNsYmRMA",
   "metadata": {
    "colab": {
     "base_uri": "https://localhost:8080/",
     "height": 663
    },
    "id": "HoAGuNsYmRMA",
    "outputId": "5f06210d-74a1-4e06-ec1b-8bbc6a8252c6"
   },
   "outputs": [
    {
     "name": "stdout",
     "output_type": "stream",
     "text": [
      "Epoch 1, Loss: 0.1315923120607348\n",
      "Epoch 2, Loss: 0.11988355964422226\n",
      "Epoch 3, Loss: 0.10737920727799921\n",
      "Epoch 4, Loss: 0.09964600249248393\n",
      "Epoch 5, Loss: 0.08946756865171825\n",
      "Epoch 6, Loss: 0.07873274133924175\n",
      "Epoch 7, Loss: 0.06978633945040844\n",
      "Epoch 8, Loss: 0.062108046210864014\n",
      "Epoch 9, Loss: 0.05570897920166745\n",
      "Epoch 10, Loss: 0.05056081832770039\n",
      "RNN Model F1 Score: 0.9049302996097192\n"
     ]
    },
    {
     "data": {
      "image/png": "[encoded data removed]",
      "text/plain": [
       "<Figure size 800x500 with 1 Axes>"
      ]
     },
     "metadata": {},
     "output_type": "display_data"
    }
   ],
   "source": [
    "losses = train_model(rnn_model, train_loader, optimizer, criterion)\n",
    "f1, conf_matrix = evaluate_model(rnn_model, train_loader)\n",
    "print(f'RNN Model F1 Score: {f1}')\n",
    "plot_loss_curve(losses)"
   ]
  },
  {
   "cell_type": "markdown",
   "id": "fqld2FY4LuM-",
   "metadata": {
    "id": "fqld2FY4LuM-"
   },
   "source": [
    "#### 3.4 Hyperparameter Tuning for RNN-Based Model"
   ]
  },
  {
   "cell_type": "code",
   "execution_count": 99,
   "id": "_vId1YNHDWjO",
   "metadata": {
    "colab": {
     "base_uri": "https://localhost:8080/"
    },
    "id": "_vId1YNHDWjO",
    "outputId": "9aa09eaa-3911-43f2-acd0-977e60dffa47"
   },
   "outputs": [
    {
     "name": "stdout",
     "output_type": "stream",
     "text": [
      "Learning Rate: 1e-05, Epochs: 3, F1 Score: 0.26002293085692724\n",
      "Learning Rate: 1e-05, Epochs: 5, F1 Score: 0.2718727743831028\n",
      "Learning Rate: 1e-05, Epochs: 10, F1 Score: 0.2910983436258328\n",
      "Learning Rate: 2e-05, Epochs: 3, F1 Score: 0.2850156531536126\n",
      "Learning Rate: 2e-05, Epochs: 5, F1 Score: 0.28694583539324564\n",
      "Learning Rate: 2e-05, Epochs: 10, F1 Score: 0.2855011366288089\n",
      "Learning Rate: 5e-05, Epochs: 3, F1 Score: 0.2864881770271244\n",
      "Learning Rate: 5e-05, Epochs: 5, F1 Score: 0.2873344068749118\n",
      "Learning Rate: 5e-05, Epochs: 10, F1 Score: 0.3418820853733272\n"
     ]
    }
   ],
   "source": [
    "def evaluate_model(model, data_loader):\n",
    "    model.eval()\n",
    "    true_labels, predictions = [], []\n",
    "    with torch.no_grad():\n",
    "        for inputs, labels in data_loader:\n",
    "            inputs = inputs.float()\n",
    "            labels = labels.view(-1)\n",
    "            outputs = model(inputs)\n",
    "            _, predicted = torch.max(outputs, -1)\n",
    "            valid_indices = labels != -100\n",
    "            valid_labels = labels[valid_indices].numpy()\n",
    "            valid_predictions = predicted.view(-1).numpy()[valid_indices]\n",
    "            true_labels.extend(valid_labels)\n",
    "            predictions.extend(valid_predictions)\n",
    "    return f1_score(true_labels, predictions, average='macro')\n",
    "\n",
    "# Define the hyperparameters to test\n",
    "learning_rates = [1e-5, 2e-5, 5e-5]\n",
    "epochs_list = [3, 5, 10]\n",
    "\n",
    "# Initialize the model parameters\n",
    "vocab_size = tokenizer.vocab_size\n",
    "embedding_dim = 768\n",
    "hidden_dim = 256\n",
    "output_dim = len(label_map)\n",
    "\n",
    "results = {}\n",
    "\n",
    "for lr in learning_rates:\n",
    "    for epochs in epochs_list:\n",
    "        model = RNNModel(vocab_size, embedding_dim, hidden_dim, output_dim)\n",
    "        optimizer = optim.Adam(model.parameters(), lr=lr)\n",
    "        criterion = nn.CrossEntropyLoss()\n",
    "\n",
    "        for epoch in range(epochs):\n",
    "            model.train()\n",
    "            for inputs, labels in train_loader:\n",
    "                inputs = inputs.float()\n",
    "                labels = labels.view(-1)\n",
    "                optimizer.zero_grad()\n",
    "                outputs = model(inputs)\n",
    "                loss = criterion(outputs.view(-1, outputs.shape[-1]), labels)\n",
    "                loss.backward()\n",
    "                optimizer.step()\n",
    "\n",
    "        f1 = evaluate_model(model, train_loader)\n",
    "        results[(lr, epochs)] = f1\n",
    "        print(f'Learning Rate: {lr}, Epochs: {epochs}, F1 Score: {f1}')"
   ]
  },
  {
   "cell_type": "code",
   "execution_count": 100,
   "id": "oOLrC0RjEuZH",
   "metadata": {
    "colab": {
     "base_uri": "https://localhost:8080/"
    },
    "id": "oOLrC0RjEuZH",
    "outputId": "776d3c06-f627-4212-d7f4-a507a745de59"
   },
   "outputs": [
    {
     "name": "stdout",
     "output_type": "stream",
     "text": [
      "Best Parameters: Learning Rate = 5e-05, Epochs = 10\n",
      "Best F1 Score: 0.3418820853733272\n"
     ]
    }
   ],
   "source": [
    "best_params = max(results, key=results.get)\n",
    "best_f1 = results[best_params]\n",
    "\n",
    "print(f'Best Parameters: Learning Rate = {best_params[0]}, Epochs = {best_params[1]}')\n",
    "print(f'Best F1 Score: {best_f1}')"
   ]
  },
  {
   "cell_type": "code",
   "execution_count": 101,
   "id": "y3AEEYc1temp",
   "metadata": {
    "id": "y3AEEYc1temp"
   },
   "outputs": [],
   "source": [
    "def train_model(model, data_loader, optimizer, criterion, epochs):\n",
    "    model.train()\n",
    "    losses = []\n",
    "    for epoch in range(epochs):\n",
    "        total_loss = 0\n",
    "        for inputs, labels in data_loader:\n",
    "            inputs = inputs.float()\n",
    "            labels = labels.view(-1)\n",
    "            optimizer.zero_grad()\n",
    "            outputs = model(inputs)\n",
    "            loss = criterion(outputs.view(-1, outputs.shape[-1]), labels)\n",
    "            loss.backward()\n",
    "            optimizer.step()\n",
    "            total_loss += loss.item()\n",
    "        average_loss = total_loss / len(data_loader)\n",
    "        losses.append(average_loss)\n",
    "    return losses"
   ]
  },
  {
   "cell_type": "code",
   "execution_count": 102,
   "id": "faKoOyphtfnI",
   "metadata": {
    "id": "faKoOyphtfnI"
   },
   "outputs": [],
   "source": [
    "def evaluate_model(model, data_loader):\n",
    "    model.eval()\n",
    "    true_labels, predictions = [], []\n",
    "    with torch.no_grad():\n",
    "        for inputs, labels in data_loader:\n",
    "            inputs = inputs.float()\n",
    "            labels = labels.view(-1)\n",
    "            outputs = model(inputs)\n",
    "            _, predicted = torch.max(outputs, -1)\n",
    "            valid_indices = labels != -100\n",
    "            valid_labels = labels[valid_indices].numpy()\n",
    "            valid_predictions = predicted.view(-1).numpy()[valid_indices]\n",
    "            true_labels.extend(valid_labels)\n",
    "            predictions.extend(valid_predictions)\n",
    "    f1 = f1_score(true_labels, predictions, average='macro')\n",
    "    conf_mat = confusion_matrix(true_labels, predictions)\n",
    "    return f1, conf_mat, true_labels, predictions"
   ]
  },
  {
   "cell_type": "code",
   "execution_count": 104,
   "id": "axMrReSqtniP",
   "metadata": {
    "colab": {
     "base_uri": "https://localhost:8080/",
     "height": 1000
    },
    "id": "axMrReSqtniP",
    "outputId": "498e2bde-c3fa-455d-f43d-8c6aedcc3305"
   },
   "outputs": [
    {
     "name": "stdout",
     "output_type": "stream",
     "text": [
      "Learning Rate: 1e-05, Epochs: 3, F1 Score: 0.25970379793085724\n",
      "Learning Rate: 1e-05, Epochs: 5, F1 Score: 0.27938582874764856\n",
      "Learning Rate: 1e-05, Epochs: 10, F1 Score: 0.2869670428066378\n",
      "Learning Rate: 2e-05, Epochs: 3, F1 Score: 0.28026753952847866\n",
      "Learning Rate: 2e-05, Epochs: 5, F1 Score: 0.2903658543019953\n",
      "Learning Rate: 2e-05, Epochs: 10, F1 Score: 0.2887913679050296\n",
      "Learning Rate: 5e-05, Epochs: 3, F1 Score: 0.2906631592447578\n",
      "Learning Rate: 5e-05, Epochs: 5, F1 Score: 0.2848609614805371\n",
      "Learning Rate: 5e-05, Epochs: 10, F1 Score: 0.34224790101388974\n",
      "Best Parameters: Learning Rate = 5e-05, Epochs = 10\n",
      "Best F1 Score: 0.34224790101388974\n"
     ]
    }
   ],
   "source": [
    "results = {}\n",
    "all_losses = {}\n",
    "\n",
    "for lr in learning_rates:\n",
    "    for epochs in epochs_list:\n",
    "        model = RNNModel(vocab_size, embedding_dim, hidden_dim, output_dim)\n",
    "        optimizer = optim.Adam(model.parameters(), lr=lr)\n",
    "        criterion = nn.CrossEntropyLoss()\n",
    "\n",
    "        losses = train_model(model, train_loader, optimizer, criterion, epochs)\n",
    "        f1, conf_mat, _, _ = evaluate_model(model, train_loader)\n",
    "        results[(lr, epochs)] = f1\n",
    "        all_losses[(lr, epochs)] = losses\n",
    "        print(f'Learning Rate: {lr}, Epochs: {epochs}, F1 Score: {f1}')\n",
    "\n",
    "best_params = max(results, key=results.get)\n",
    "best_f1 = results[best_params]\n",
    "best_losses = all_losses[best_params]\n",
    "\n",
    "print(f'Best Parameters: Learning Rate = {best_params[0]}, Epochs = {best_params[1]}')\n",
    "print(f'Best F1 Score: {best_f1}')\n",
    "best_f1, best_conf_mat, _, _ = evaluate_model(model, train_loader)"
   ]
  },
  {
   "cell_type": "code",
   "execution_count": 105,
   "id": "00ce9f6c",
   "metadata": {},
   "outputs": [
    {
     "data": {
      "image/png": "[encoded data removed]",
      "text/plain": [
       "<Figure size 800x500 with 1 Axes>"
      ]
     },
     "metadata": {},
     "output_type": "display_data"
    }
   ],
   "source": [
    "plot_loss_curve(best_losses)"
   ]
  },
  {
   "cell_type": "code",
   "execution_count": 115,
   "id": "v6jJsyf6wezw",
   "metadata": {
    "id": "v6jJsyf6wezw"
   },
   "outputs": [
    {
     "data": {
      "image/png": "[encoded data removed]",
      "text/plain": [
       "<Figure size 640x480 with 2 Axes>"
      ]
     },
     "metadata": {},
     "output_type": "display_data"
    }
   ],
   "source": [
    "plot_confusion_matrix(best_conf_mat)"
   ]
  }
 ],
 "metadata": {
  "accelerator": "GPU",
  "colab": {
   "gpuType": "T4",
   "provenance": []
  },
  "kernelspec": {
   "display_name": "Python 3 (ipykernel)",
   "language": "python",
   "name": "python3"
  },
  "language_info": {
   "codemirror_mode": {
    "name": "ipython",
    "version": 3
   },
   "file_extension": ".py",
   "mimetype": "text/x-python",
   "name": "python",
   "nbconvert_exporter": "python",
   "pygments_lexer": "ipython3",
   "version": "3.9.13"
  },
  "widgets": {
   "application/vnd.jupyter.widget-state+json": {
    "0eacfc9bea104a4393bd6906caee3ffd": {
     "model_module": "@jupyter-widgets/controls",
     "model_module_version": "1.5.0",
     "model_name": "ProgressStyleModel",
     "state": {
      "_model_module": "@jupyter-widgets/controls",
      "_model_module_version": "1.5.0",
      "_model_name": "ProgressStyleModel",
      "_view_count": null,
      "_view_module": "@jupyter-widgets/base",
      "_view_module_version": "1.2.0",
      "_view_name": "StyleView",
      "bar_color": null,
      "description_width": ""
     }
    },
    "154fb395a5914d5aa044283962d78f57": {
     "model_module": "@jupyter-widgets/controls",
     "model_module_version": "1.5.0",
     "model_name": "DescriptionStyleModel",
     "state": {
      "_model_module": "@jupyter-widgets/controls",
      "_model_module_version": "1.5.0",
      "_model_name": "DescriptionStyleModel",
      "_view_count": null,
      "_view_module": "@jupyter-widgets/base",
      "_view_module_version": "1.2.0",
      "_view_name": "StyleView",
      "description_width": ""
     }
    },
    "1c5ab47228904bf882e821a0c2348fa4": {
     "model_module": "@jupyter-widgets/base",
     "model_module_version": "1.2.0",
     "model_name": "LayoutModel",
     "state": {
      "_model_module": "@jupyter-widgets/base",
      "_model_module_version": "1.2.0",
      "_model_name": "LayoutModel",
      "_view_count": null,
      "_view_module": "@jupyter-widgets/base",
      "_view_module_version": "1.2.0",
      "_view_name": "LayoutView",
      "align_content": null,
      "align_items": null,
      "align_self": null,
      "border": null,
      "bottom": null,
      "display": null,
      "flex": null,
      "flex_flow": null,
      "grid_area": null,
      "grid_auto_columns": null,
      "grid_auto_flow": null,
      "grid_auto_rows": null,
      "grid_column": null,
      "grid_gap": null,
      "grid_row": null,
      "grid_template_areas": null,
      "grid_template_columns": null,
      "grid_template_rows": null,
      "height": null,
      "justify_content": null,
      "justify_items": null,
      "left": null,
      "margin": null,
      "max_height": null,
      "max_width": null,
      "min_height": null,
      "min_width": null,
      "object_fit": null,
      "object_position": null,
      "order": null,
      "overflow": null,
      "overflow_x": null,
      "overflow_y": null,
      "padding": null,
      "right": null,
      "top": null,
      "visibility": null,
      "width": null
     }
    },
    "1dfffb340417468d89367669c55c7b59": {
     "model_module": "@jupyter-widgets/controls",
     "model_module_version": "1.5.0",
     "model_name": "FloatProgressModel",
     "state": {
      "_dom_classes": [],
      "_model_module": "@jupyter-widgets/controls",
      "_model_module_version": "1.5.0",
      "_model_name": "FloatProgressModel",
      "_view_count": null,
      "_view_module": "@jupyter-widgets/controls",
      "_view_module_version": "1.5.0",
      "_view_name": "ProgressView",
      "bar_style": "success",
      "description": "",
      "description_tooltip": null,
      "layout": "IPY_MODEL_cb76989700e147e5bef68442566bb8d8",
      "max": 440449768,
      "min": 0,
      "orientation": "horizontal",
      "style": "IPY_MODEL_5384835ee00c445bb38dee62da6cdde0",
      "value": 440449768
     }
    },
    "20181a2adf93413e8c36edb892175521": {
     "model_module": "@jupyter-widgets/controls",
     "model_module_version": "1.5.0",
     "model_name": "HTMLModel",
     "state": {
      "_dom_classes": [],
      "_model_module": "@jupyter-widgets/controls",
      "_model_module_version": "1.5.0",
      "_model_name": "HTMLModel",
      "_view_count": null,
      "_view_module": "@jupyter-widgets/controls",
      "_view_module_version": "1.5.0",
      "_view_name": "HTMLView",
      "description": "",
      "description_tooltip": null,
      "layout": "IPY_MODEL_dd6e6e40e66b46ef9849d07cafbc0b34",
      "placeholder": "​",
      "style": "IPY_MODEL_7f75044e1bda4ecd9813cdf8b93f51bf",
      "value": " 48.0/48.0 [00:00&lt;00:00, 3.25kB/s]"
     }
    },
    "205fa07ea8a7432bbf01c71afeeafae9": {
     "model_module": "@jupyter-widgets/base",
     "model_module_version": "1.2.0",
     "model_name": "LayoutModel",
     "state": {
      "_model_module": "@jupyter-widgets/base",
      "_model_module_version": "1.2.0",
      "_model_name": "LayoutModel",
      "_view_count": null,
      "_view_module": "@jupyter-widgets/base",
      "_view_module_version": "1.2.0",
      "_view_name": "LayoutView",
      "align_content": null,
      "align_items": null,
      "align_self": null,
      "border": null,
      "bottom": null,
      "display": null,
      "flex": null,
      "flex_flow": null,
      "grid_area": null,
      "grid_auto_columns": null,
      "grid_auto_flow": null,
      "grid_auto_rows": null,
      "grid_column": null,
      "grid_gap": null,
      "grid_row": null,
      "grid_template_areas": null,
      "grid_template_columns": null,
      "grid_template_rows": null,
      "height": null,
      "justify_content": null,
      "justify_items": null,
      "left": null,
      "margin": null,
      "max_height": null,
      "max_width": null,
      "min_height": null,
      "min_width": null,
      "object_fit": null,
      "object_position": null,
      "order": null,
      "overflow": null,
      "overflow_x": null,
      "overflow_y": null,
      "padding": null,
      "right": null,
      "top": null,
      "visibility": null,
      "width": null
     }
    },
    "258c5d079aac42b2b00008998a969147": {
     "model_module": "@jupyter-widgets/controls",
     "model_module_version": "1.5.0",
     "model_name": "HBoxModel",
     "state": {
      "_dom_classes": [],
      "_model_module": "@jupyter-widgets/controls",
      "_model_module_version": "1.5.0",
      "_model_name": "HBoxModel",
      "_view_count": null,
      "_view_module": "@jupyter-widgets/controls",
      "_view_module_version": "1.5.0",
      "_view_name": "HBoxView",
      "box_style": "",
      "children": [
       "IPY_MODEL_70fc28d833cf4a9fa2c9b9a149a8be28",
       "IPY_MODEL_610cfa8c4b304043b909def4cd5e650a",
       "IPY_MODEL_a15e59eaf27a472894f05644dce159b6"
      ],
      "layout": "IPY_MODEL_7aa46bedd26e4bb485427a8f4c78899b"
     }
    },
    "284de81f476f4348ad18850896b42a62": {
     "model_module": "@jupyter-widgets/controls",
     "model_module_version": "1.5.0",
     "model_name": "DescriptionStyleModel",
     "state": {
      "_model_module": "@jupyter-widgets/controls",
      "_model_module_version": "1.5.0",
      "_model_name": "DescriptionStyleModel",
      "_view_count": null,
      "_view_module": "@jupyter-widgets/base",
      "_view_module_version": "1.2.0",
      "_view_name": "StyleView",
      "description_width": ""
     }
    },
    "2ceeea4e5c2c400084db7bb43cb75a1d": {
     "model_module": "@jupyter-widgets/base",
     "model_module_version": "1.2.0",
     "model_name": "LayoutModel",
     "state": {
      "_model_module": "@jupyter-widgets/base",
      "_model_module_version": "1.2.0",
      "_model_name": "LayoutModel",
      "_view_count": null,
      "_view_module": "@jupyter-widgets/base",
      "_view_module_version": "1.2.0",
      "_view_name": "LayoutView",
      "align_content": null,
      "align_items": null,
      "align_self": null,
      "border": null,
      "bottom": null,
      "display": null,
      "flex": null,
      "flex_flow": null,
      "grid_area": null,
      "grid_auto_columns": null,
      "grid_auto_flow": null,
      "grid_auto_rows": null,
      "grid_column": null,
      "grid_gap": null,
      "grid_row": null,
      "grid_template_areas": null,
      "grid_template_columns": null,
      "grid_template_rows": null,
      "height": null,
      "justify_content": null,
      "justify_items": null,
      "left": null,
      "margin": null,
      "max_height": null,
      "max_width": null,
      "min_height": null,
      "min_width": null,
      "object_fit": null,
      "object_position": null,
      "order": null,
      "overflow": null,
      "overflow_x": null,
      "overflow_y": null,
      "padding": null,
      "right": null,
      "top": null,
      "visibility": null,
      "width": null
     }
    },
    "2cfa631369104a5d8275442b3d7da0af": {
     "model_module": "@jupyter-widgets/controls",
     "model_module_version": "1.5.0",
     "model_name": "HTMLModel",
     "state": {
      "_dom_classes": [],
      "_model_module": "@jupyter-widgets/controls",
      "_model_module_version": "1.5.0",
      "_model_name": "HTMLModel",
      "_view_count": null,
      "_view_module": "@jupyter-widgets/controls",
      "_view_module_version": "1.5.0",
      "_view_name": "HTMLView",
      "description": "",
      "description_tooltip": null,
      "layout": "IPY_MODEL_205fa07ea8a7432bbf01c71afeeafae9",
      "placeholder": "​",
      "style": "IPY_MODEL_d04fc929c8e544328e8441689d20ea36",
      "value": "model.safetensors: 100%"
     }
    },
    "3227bc44bb2d425cb9c6e50e3ee9b149": {
     "model_module": "@jupyter-widgets/controls",
     "model_module_version": "1.5.0",
     "model_name": "HTMLModel",
     "state": {
      "_dom_classes": [],
      "_model_module": "@jupyter-widgets/controls",
      "_model_module_version": "1.5.0",
      "_model_name": "HTMLModel",
      "_view_count": null,
      "_view_module": "@jupyter-widgets/controls",
      "_view_module_version": "1.5.0",
      "_view_name": "HTMLView",
      "description": "",
      "description_tooltip": null,
      "layout": "IPY_MODEL_e734324c22374a05ad09367c16916be8",
      "placeholder": "​",
      "style": "IPY_MODEL_a1c560bc256d4d4987b59f265b304d84",
      "value": " 440M/440M [00:01&lt;00:00, 300MB/s]"
     }
    },
    "333275f182784428b37ae55afeab916b": {
     "model_module": "@jupyter-widgets/controls",
     "model_module_version": "1.5.0",
     "model_name": "HTMLModel",
     "state": {
      "_dom_classes": [],
      "_model_module": "@jupyter-widgets/controls",
      "_model_module_version": "1.5.0",
      "_model_name": "HTMLModel",
      "_view_count": null,
      "_view_module": "@jupyter-widgets/controls",
      "_view_module_version": "1.5.0",
      "_view_name": "HTMLView",
      "description": "",
      "description_tooltip": null,
      "layout": "IPY_MODEL_7733ee10e1194e4d9a159d8e33958e5b",
      "placeholder": "​",
      "style": "IPY_MODEL_498b5cb6ba034998a6fcbc3c767445f5",
      "value": " 232k/232k [00:00&lt;00:00, 10.9MB/s]"
     }
    },
    "3ce90f33bab844eeac1ecd4d0d3c6cab": {
     "model_module": "@jupyter-widgets/controls",
     "model_module_version": "1.5.0",
     "model_name": "DescriptionStyleModel",
     "state": {
      "_model_module": "@jupyter-widgets/controls",
      "_model_module_version": "1.5.0",
      "_model_name": "DescriptionStyleModel",
      "_view_count": null,
      "_view_module": "@jupyter-widgets/base",
      "_view_module_version": "1.2.0",
      "_view_name": "StyleView",
      "description_width": ""
     }
    },
    "40cb9bc7b61c412c9ec822b1a4003846": {
     "model_module": "@jupyter-widgets/controls",
     "model_module_version": "1.5.0",
     "model_name": "HTMLModel",
     "state": {
      "_dom_classes": [],
      "_model_module": "@jupyter-widgets/controls",
      "_model_module_version": "1.5.0",
      "_model_name": "HTMLModel",
      "_view_count": null,
      "_view_module": "@jupyter-widgets/controls",
      "_view_module_version": "1.5.0",
      "_view_name": "HTMLView",
      "description": "",
      "description_tooltip": null,
      "layout": "IPY_MODEL_f2864a0440af4367b83442473360f15e",
      "placeholder": "​",
      "style": "IPY_MODEL_3ce90f33bab844eeac1ecd4d0d3c6cab",
      "value": "vocab.txt: 100%"
     }
    },
    "4571b1e75272433488a671446980f8c0": {
     "model_module": "@jupyter-widgets/controls",
     "model_module_version": "1.5.0",
     "model_name": "HBoxModel",
     "state": {
      "_dom_classes": [],
      "_model_module": "@jupyter-widgets/controls",
      "_model_module_version": "1.5.0",
      "_model_name": "HBoxModel",
      "_view_count": null,
      "_view_module": "@jupyter-widgets/controls",
      "_view_module_version": "1.5.0",
      "_view_name": "HBoxView",
      "box_style": "",
      "children": [
       "IPY_MODEL_c46c0213aa8043989616277efc1e8e18",
       "IPY_MODEL_e8c7a1d38d3544c3a46601a265f2217a",
       "IPY_MODEL_60ae2c972c5e4e89bb0fa027d12ce30b"
      ],
      "layout": "IPY_MODEL_ea0f8537a77d40b7a621f41e49b93b17"
     }
    },
    "48585513b2b34ff2bdf53b7289ed5840": {
     "model_module": "@jupyter-widgets/base",
     "model_module_version": "1.2.0",
     "model_name": "LayoutModel",
     "state": {
      "_model_module": "@jupyter-widgets/base",
      "_model_module_version": "1.2.0",
      "_model_name": "LayoutModel",
      "_view_count": null,
      "_view_module": "@jupyter-widgets/base",
      "_view_module_version": "1.2.0",
      "_view_name": "LayoutView",
      "align_content": null,
      "align_items": null,
      "align_self": null,
      "border": null,
      "bottom": null,
      "display": null,
      "flex": null,
      "flex_flow": null,
      "grid_area": null,
      "grid_auto_columns": null,
      "grid_auto_flow": null,
      "grid_auto_rows": null,
      "grid_column": null,
      "grid_gap": null,
      "grid_row": null,
      "grid_template_areas": null,
      "grid_template_columns": null,
      "grid_template_rows": null,
      "height": null,
      "justify_content": null,
      "justify_items": null,
      "left": null,
      "margin": null,
      "max_height": null,
      "max_width": null,
      "min_height": null,
      "min_width": null,
      "object_fit": null,
      "object_position": null,
      "order": null,
      "overflow": null,
      "overflow_x": null,
      "overflow_y": null,
      "padding": null,
      "right": null,
      "top": null,
      "visibility": null,
      "width": null
     }
    },
    "498b5cb6ba034998a6fcbc3c767445f5": {
     "model_module": "@jupyter-widgets/controls",
     "model_module_version": "1.5.0",
     "model_name": "DescriptionStyleModel",
     "state": {
      "_model_module": "@jupyter-widgets/controls",
      "_model_module_version": "1.5.0",
      "_model_name": "DescriptionStyleModel",
      "_view_count": null,
      "_view_module": "@jupyter-widgets/base",
      "_view_module_version": "1.2.0",
      "_view_name": "StyleView",
      "description_width": ""
     }
    },
    "5384835ee00c445bb38dee62da6cdde0": {
     "model_module": "@jupyter-widgets/controls",
     "model_module_version": "1.5.0",
     "model_name": "ProgressStyleModel",
     "state": {
      "_model_module": "@jupyter-widgets/controls",
      "_model_module_version": "1.5.0",
      "_model_name": "ProgressStyleModel",
      "_view_count": null,
      "_view_module": "@jupyter-widgets/base",
      "_view_module_version": "1.2.0",
      "_view_name": "StyleView",
      "bar_color": null,
      "description_width": ""
     }
    },
    "54b28c9723b54b82b1c01972ccd4defc": {
     "model_module": "@jupyter-widgets/controls",
     "model_module_version": "1.5.0",
     "model_name": "FloatProgressModel",
     "state": {
      "_dom_classes": [],
      "_model_module": "@jupyter-widgets/controls",
      "_model_module_version": "1.5.0",
      "_model_name": "FloatProgressModel",
      "_view_count": null,
      "_view_module": "@jupyter-widgets/controls",
      "_view_module_version": "1.5.0",
      "_view_name": "ProgressView",
      "bar_style": "success",
      "description": "",
      "description_tooltip": null,
      "layout": "IPY_MODEL_a7fae617d67c41019d959a421964339f",
      "max": 48,
      "min": 0,
      "orientation": "horizontal",
      "style": "IPY_MODEL_b7dafd659c454c6e81cf9ee174521e05",
      "value": 48
     }
    },
    "60ae2c972c5e4e89bb0fa027d12ce30b": {
     "model_module": "@jupyter-widgets/controls",
     "model_module_version": "1.5.0",
     "model_name": "HTMLModel",
     "state": {
      "_dom_classes": [],
      "_model_module": "@jupyter-widgets/controls",
      "_model_module_version": "1.5.0",
      "_model_name": "HTMLModel",
      "_view_count": null,
      "_view_module": "@jupyter-widgets/controls",
      "_view_module_version": "1.5.0",
      "_view_name": "HTMLView",
      "description": "",
      "description_tooltip": null,
      "layout": "IPY_MODEL_ea334867eab94596ae1298c02e69b81c",
      "placeholder": "​",
      "style": "IPY_MODEL_b06f758a9bdb420c82add87bf6d5e887",
      "value": " 570/570 [00:00&lt;00:00, 44.2kB/s]"
     }
    },
    "60b04b72f311465cba6827ae7a235fbc": {
     "model_module": "@jupyter-widgets/base",
     "model_module_version": "1.2.0",
     "model_name": "LayoutModel",
     "state": {
      "_model_module": "@jupyter-widgets/base",
      "_model_module_version": "1.2.0",
      "_model_name": "LayoutModel",
      "_view_count": null,
      "_view_module": "@jupyter-widgets/base",
      "_view_module_version": "1.2.0",
      "_view_name": "LayoutView",
      "align_content": null,
      "align_items": null,
      "align_self": null,
      "border": null,
      "bottom": null,
      "display": null,
      "flex": null,
      "flex_flow": null,
      "grid_area": null,
      "grid_auto_columns": null,
      "grid_auto_flow": null,
      "grid_auto_rows": null,
      "grid_column": null,
      "grid_gap": null,
      "grid_row": null,
      "grid_template_areas": null,
      "grid_template_columns": null,
      "grid_template_rows": null,
      "height": null,
      "justify_content": null,
      "justify_items": null,
      "left": null,
      "margin": null,
      "max_height": null,
      "max_width": null,
      "min_height": null,
      "min_width": null,
      "object_fit": null,
      "object_position": null,
      "order": null,
      "overflow": null,
      "overflow_x": null,
      "overflow_y": null,
      "padding": null,
      "right": null,
      "top": null,
      "visibility": null,
      "width": null
     }
    },
    "610cfa8c4b304043b909def4cd5e650a": {
     "model_module": "@jupyter-widgets/controls",
     "model_module_version": "1.5.0",
     "model_name": "FloatProgressModel",
     "state": {
      "_dom_classes": [],
      "_model_module": "@jupyter-widgets/controls",
      "_model_module_version": "1.5.0",
      "_model_name": "FloatProgressModel",
      "_view_count": null,
      "_view_module": "@jupyter-widgets/controls",
      "_view_module_version": "1.5.0",
      "_view_name": "ProgressView",
      "bar_style": "success",
      "description": "",
      "description_tooltip": null,
      "layout": "IPY_MODEL_60b04b72f311465cba6827ae7a235fbc",
      "max": 466062,
      "min": 0,
      "orientation": "horizontal",
      "style": "IPY_MODEL_eed9b950bdd14dcf815ab924752e4730",
      "value": 466062
     }
    },
    "6ded19f90ac54c8cb6bdcc6791eab0e3": {
     "model_module": "@jupyter-widgets/controls",
     "model_module_version": "1.5.0",
     "model_name": "HBoxModel",
     "state": {
      "_dom_classes": [],
      "_model_module": "@jupyter-widgets/controls",
      "_model_module_version": "1.5.0",
      "_model_name": "HBoxModel",
      "_view_count": null,
      "_view_module": "@jupyter-widgets/controls",
      "_view_module_version": "1.5.0",
      "_view_name": "HBoxView",
      "box_style": "",
      "children": [
       "IPY_MODEL_e49377977f5043529098fddd67d487d1",
       "IPY_MODEL_54b28c9723b54b82b1c01972ccd4defc",
       "IPY_MODEL_20181a2adf93413e8c36edb892175521"
      ],
      "layout": "IPY_MODEL_be8c0ff6d62c43dd98c65d5c1bd9bcf7"
     }
    },
    "70fc28d833cf4a9fa2c9b9a149a8be28": {
     "model_module": "@jupyter-widgets/controls",
     "model_module_version": "1.5.0",
     "model_name": "HTMLModel",
     "state": {
      "_dom_classes": [],
      "_model_module": "@jupyter-widgets/controls",
      "_model_module_version": "1.5.0",
      "_model_name": "HTMLModel",
      "_view_count": null,
      "_view_module": "@jupyter-widgets/controls",
      "_view_module_version": "1.5.0",
      "_view_name": "HTMLView",
      "description": "",
      "description_tooltip": null,
      "layout": "IPY_MODEL_f0cef606600c49008daac098b5ed56f1",
      "placeholder": "​",
      "style": "IPY_MODEL_284de81f476f4348ad18850896b42a62",
      "value": "tokenizer.json: 100%"
     }
    },
    "727beba85c9349f896c8c00a173139b8": {
     "model_module": "@jupyter-widgets/controls",
     "model_module_version": "1.5.0",
     "model_name": "DescriptionStyleModel",
     "state": {
      "_model_module": "@jupyter-widgets/controls",
      "_model_module_version": "1.5.0",
      "_model_name": "DescriptionStyleModel",
      "_view_count": null,
      "_view_module": "@jupyter-widgets/base",
      "_view_module_version": "1.2.0",
      "_view_name": "StyleView",
      "description_width": ""
     }
    },
    "7733ee10e1194e4d9a159d8e33958e5b": {
     "model_module": "@jupyter-widgets/base",
     "model_module_version": "1.2.0",
     "model_name": "LayoutModel",
     "state": {
      "_model_module": "@jupyter-widgets/base",
      "_model_module_version": "1.2.0",
      "_model_name": "LayoutModel",
      "_view_count": null,
      "_view_module": "@jupyter-widgets/base",
      "_view_module_version": "1.2.0",
      "_view_name": "LayoutView",
      "align_content": null,
      "align_items": null,
      "align_self": null,
      "border": null,
      "bottom": null,
      "display": null,
      "flex": null,
      "flex_flow": null,
      "grid_area": null,
      "grid_auto_columns": null,
      "grid_auto_flow": null,
      "grid_auto_rows": null,
      "grid_column": null,
      "grid_gap": null,
      "grid_row": null,
      "grid_template_areas": null,
      "grid_template_columns": null,
      "grid_template_rows": null,
      "height": null,
      "justify_content": null,
      "justify_items": null,
      "left": null,
      "margin": null,
      "max_height": null,
      "max_width": null,
      "min_height": null,
      "min_width": null,
      "object_fit": null,
      "object_position": null,
      "order": null,
      "overflow": null,
      "overflow_x": null,
      "overflow_y": null,
      "padding": null,
      "right": null,
      "top": null,
      "visibility": null,
      "width": null
     }
    },
    "7aa46bedd26e4bb485427a8f4c78899b": {
     "model_module": "@jupyter-widgets/base",
     "model_module_version": "1.2.0",
     "model_name": "LayoutModel",
     "state": {
      "_model_module": "@jupyter-widgets/base",
      "_model_module_version": "1.2.0",
      "_model_name": "LayoutModel",
      "_view_count": null,
      "_view_module": "@jupyter-widgets/base",
      "_view_module_version": "1.2.0",
      "_view_name": "LayoutView",
      "align_content": null,
      "align_items": null,
      "align_self": null,
      "border": null,
      "bottom": null,
      "display": null,
      "flex": null,
      "flex_flow": null,
      "grid_area": null,
      "grid_auto_columns": null,
      "grid_auto_flow": null,
      "grid_auto_rows": null,
      "grid_column": null,
      "grid_gap": null,
      "grid_row": null,
      "grid_template_areas": null,
      "grid_template_columns": null,
      "grid_template_rows": null,
      "height": null,
      "justify_content": null,
      "justify_items": null,
      "left": null,
      "margin": null,
      "max_height": null,
      "max_width": null,
      "min_height": null,
      "min_width": null,
      "object_fit": null,
      "object_position": null,
      "order": null,
      "overflow": null,
      "overflow_x": null,
      "overflow_y": null,
      "padding": null,
      "right": null,
      "top": null,
      "visibility": null,
      "width": null
     }
    },
    "7c45128889f14ec4a924850e8ed5d94f": {
     "model_module": "@jupyter-widgets/base",
     "model_module_version": "1.2.0",
     "model_name": "LayoutModel",
     "state": {
      "_model_module": "@jupyter-widgets/base",
      "_model_module_version": "1.2.0",
      "_model_name": "LayoutModel",
      "_view_count": null,
      "_view_module": "@jupyter-widgets/base",
      "_view_module_version": "1.2.0",
      "_view_name": "LayoutView",
      "align_content": null,
      "align_items": null,
      "align_self": null,
      "border": null,
      "bottom": null,
      "display": null,
      "flex": null,
      "flex_flow": null,
      "grid_area": null,
      "grid_auto_columns": null,
      "grid_auto_flow": null,
      "grid_auto_rows": null,
      "grid_column": null,
      "grid_gap": null,
      "grid_row": null,
      "grid_template_areas": null,
      "grid_template_columns": null,
      "grid_template_rows": null,
      "height": null,
      "justify_content": null,
      "justify_items": null,
      "left": null,
      "margin": null,
      "max_height": null,
      "max_width": null,
      "min_height": null,
      "min_width": null,
      "object_fit": null,
      "object_position": null,
      "order": null,
      "overflow": null,
      "overflow_x": null,
      "overflow_y": null,
      "padding": null,
      "right": null,
      "top": null,
      "visibility": null,
      "width": null
     }
    },
    "7f75044e1bda4ecd9813cdf8b93f51bf": {
     "model_module": "@jupyter-widgets/controls",
     "model_module_version": "1.5.0",
     "model_name": "DescriptionStyleModel",
     "state": {
      "_model_module": "@jupyter-widgets/controls",
      "_model_module_version": "1.5.0",
      "_model_name": "DescriptionStyleModel",
      "_view_count": null,
      "_view_module": "@jupyter-widgets/base",
      "_view_module_version": "1.2.0",
      "_view_name": "StyleView",
      "description_width": ""
     }
    },
    "8bc94dffd8e244b680f74f5ccb987916": {
     "model_module": "@jupyter-widgets/controls",
     "model_module_version": "1.5.0",
     "model_name": "HBoxModel",
     "state": {
      "_dom_classes": [],
      "_model_module": "@jupyter-widgets/controls",
      "_model_module_version": "1.5.0",
      "_model_name": "HBoxModel",
      "_view_count": null,
      "_view_module": "@jupyter-widgets/controls",
      "_view_module_version": "1.5.0",
      "_view_name": "HBoxView",
      "box_style": "",
      "children": [
       "IPY_MODEL_2cfa631369104a5d8275442b3d7da0af",
       "IPY_MODEL_1dfffb340417468d89367669c55c7b59",
       "IPY_MODEL_3227bc44bb2d425cb9c6e50e3ee9b149"
      ],
      "layout": "IPY_MODEL_8c378620d027454fa85d58d5a6ad1ffd"
     }
    },
    "8c378620d027454fa85d58d5a6ad1ffd": {
     "model_module": "@jupyter-widgets/base",
     "model_module_version": "1.2.0",
     "model_name": "LayoutModel",
     "state": {
      "_model_module": "@jupyter-widgets/base",
      "_model_module_version": "1.2.0",
      "_model_name": "LayoutModel",
      "_view_count": null,
      "_view_module": "@jupyter-widgets/base",
      "_view_module_version": "1.2.0",
      "_view_name": "LayoutView",
      "align_content": null,
      "align_items": null,
      "align_self": null,
      "border": null,
      "bottom": null,
      "display": null,
      "flex": null,
      "flex_flow": null,
      "grid_area": null,
      "grid_auto_columns": null,
      "grid_auto_flow": null,
      "grid_auto_rows": null,
      "grid_column": null,
      "grid_gap": null,
      "grid_row": null,
      "grid_template_areas": null,
      "grid_template_columns": null,
      "grid_template_rows": null,
      "height": null,
      "justify_content": null,
      "justify_items": null,
      "left": null,
      "margin": null,
      "max_height": null,
      "max_width": null,
      "min_height": null,
      "min_width": null,
      "object_fit": null,
      "object_position": null,
      "order": null,
      "overflow": null,
      "overflow_x": null,
      "overflow_y": null,
      "padding": null,
      "right": null,
      "top": null,
      "visibility": null,
      "width": null
     }
    },
    "a15e59eaf27a472894f05644dce159b6": {
     "model_module": "@jupyter-widgets/controls",
     "model_module_version": "1.5.0",
     "model_name": "HTMLModel",
     "state": {
      "_dom_classes": [],
      "_model_module": "@jupyter-widgets/controls",
      "_model_module_version": "1.5.0",
      "_model_name": "HTMLModel",
      "_view_count": null,
      "_view_module": "@jupyter-widgets/controls",
      "_view_module_version": "1.5.0",
      "_view_name": "HTMLView",
      "description": "",
      "description_tooltip": null,
      "layout": "IPY_MODEL_1c5ab47228904bf882e821a0c2348fa4",
      "placeholder": "​",
      "style": "IPY_MODEL_ede44de6b3944a3f882251dbc107d562",
      "value": " 466k/466k [00:00&lt;00:00, 1.94MB/s]"
     }
    },
    "a1c560bc256d4d4987b59f265b304d84": {
     "model_module": "@jupyter-widgets/controls",
     "model_module_version": "1.5.0",
     "model_name": "DescriptionStyleModel",
     "state": {
      "_model_module": "@jupyter-widgets/controls",
      "_model_module_version": "1.5.0",
      "_model_name": "DescriptionStyleModel",
      "_view_count": null,
      "_view_module": "@jupyter-widgets/base",
      "_view_module_version": "1.2.0",
      "_view_name": "StyleView",
      "description_width": ""
     }
    },
    "a7fae617d67c41019d959a421964339f": {
     "model_module": "@jupyter-widgets/base",
     "model_module_version": "1.2.0",
     "model_name": "LayoutModel",
     "state": {
      "_model_module": "@jupyter-widgets/base",
      "_model_module_version": "1.2.0",
      "_model_name": "LayoutModel",
      "_view_count": null,
      "_view_module": "@jupyter-widgets/base",
      "_view_module_version": "1.2.0",
      "_view_name": "LayoutView",
      "align_content": null,
      "align_items": null,
      "align_self": null,
      "border": null,
      "bottom": null,
      "display": null,
      "flex": null,
      "flex_flow": null,
      "grid_area": null,
      "grid_auto_columns": null,
      "grid_auto_flow": null,
      "grid_auto_rows": null,
      "grid_column": null,
      "grid_gap": null,
      "grid_row": null,
      "grid_template_areas": null,
      "grid_template_columns": null,
      "grid_template_rows": null,
      "height": null,
      "justify_content": null,
      "justify_items": null,
      "left": null,
      "margin": null,
      "max_height": null,
      "max_width": null,
      "min_height": null,
      "min_width": null,
      "object_fit": null,
      "object_position": null,
      "order": null,
      "overflow": null,
      "overflow_x": null,
      "overflow_y": null,
      "padding": null,
      "right": null,
      "top": null,
      "visibility": null,
      "width": null
     }
    },
    "aa7390c3cbae41758c697dd7491337ba": {
     "model_module": "@jupyter-widgets/base",
     "model_module_version": "1.2.0",
     "model_name": "LayoutModel",
     "state": {
      "_model_module": "@jupyter-widgets/base",
      "_model_module_version": "1.2.0",
      "_model_name": "LayoutModel",
      "_view_count": null,
      "_view_module": "@jupyter-widgets/base",
      "_view_module_version": "1.2.0",
      "_view_name": "LayoutView",
      "align_content": null,
      "align_items": null,
      "align_self": null,
      "border": null,
      "bottom": null,
      "display": null,
      "flex": null,
      "flex_flow": null,
      "grid_area": null,
      "grid_auto_columns": null,
      "grid_auto_flow": null,
      "grid_auto_rows": null,
      "grid_column": null,
      "grid_gap": null,
      "grid_row": null,
      "grid_template_areas": null,
      "grid_template_columns": null,
      "grid_template_rows": null,
      "height": null,
      "justify_content": null,
      "justify_items": null,
      "left": null,
      "margin": null,
      "max_height": null,
      "max_width": null,
      "min_height": null,
      "min_width": null,
      "object_fit": null,
      "object_position": null,
      "order": null,
      "overflow": null,
      "overflow_x": null,
      "overflow_y": null,
      "padding": null,
      "right": null,
      "top": null,
      "visibility": null,
      "width": null
     }
    },
    "ad43a9a2a98344589cfaa71541762cd4": {
     "model_module": "@jupyter-widgets/controls",
     "model_module_version": "1.5.0",
     "model_name": "HBoxModel",
     "state": {
      "_dom_classes": [],
      "_model_module": "@jupyter-widgets/controls",
      "_model_module_version": "1.5.0",
      "_model_name": "HBoxModel",
      "_view_count": null,
      "_view_module": "@jupyter-widgets/controls",
      "_view_module_version": "1.5.0",
      "_view_name": "HBoxView",
      "box_style": "",
      "children": [
       "IPY_MODEL_40cb9bc7b61c412c9ec822b1a4003846",
       "IPY_MODEL_b56fc9243f6a4e23b35b792229be40ef",
       "IPY_MODEL_333275f182784428b37ae55afeab916b"
      ],
      "layout": "IPY_MODEL_aa7390c3cbae41758c697dd7491337ba"
     }
    },
    "b06f758a9bdb420c82add87bf6d5e887": {
     "model_module": "@jupyter-widgets/controls",
     "model_module_version": "1.5.0",
     "model_name": "DescriptionStyleModel",
     "state": {
      "_model_module": "@jupyter-widgets/controls",
      "_model_module_version": "1.5.0",
      "_model_name": "DescriptionStyleModel",
      "_view_count": null,
      "_view_module": "@jupyter-widgets/base",
      "_view_module_version": "1.2.0",
      "_view_name": "StyleView",
      "description_width": ""
     }
    },
    "b56fc9243f6a4e23b35b792229be40ef": {
     "model_module": "@jupyter-widgets/controls",
     "model_module_version": "1.5.0",
     "model_name": "FloatProgressModel",
     "state": {
      "_dom_classes": [],
      "_model_module": "@jupyter-widgets/controls",
      "_model_module_version": "1.5.0",
      "_model_name": "FloatProgressModel",
      "_view_count": null,
      "_view_module": "@jupyter-widgets/controls",
      "_view_module_version": "1.5.0",
      "_view_name": "ProgressView",
      "bar_style": "success",
      "description": "",
      "description_tooltip": null,
      "layout": "IPY_MODEL_d78d8db9e16341acbbe59daf118e4c14",
      "max": 231508,
      "min": 0,
      "orientation": "horizontal",
      "style": "IPY_MODEL_d08022e3b50d40618262a0996c333879",
      "value": 231508
     }
    },
    "b7dafd659c454c6e81cf9ee174521e05": {
     "model_module": "@jupyter-widgets/controls",
     "model_module_version": "1.5.0",
     "model_name": "ProgressStyleModel",
     "state": {
      "_model_module": "@jupyter-widgets/controls",
      "_model_module_version": "1.5.0",
      "_model_name": "ProgressStyleModel",
      "_view_count": null,
      "_view_module": "@jupyter-widgets/base",
      "_view_module_version": "1.2.0",
      "_view_name": "StyleView",
      "bar_color": null,
      "description_width": ""
     }
    },
    "be8c0ff6d62c43dd98c65d5c1bd9bcf7": {
     "model_module": "@jupyter-widgets/base",
     "model_module_version": "1.2.0",
     "model_name": "LayoutModel",
     "state": {
      "_model_module": "@jupyter-widgets/base",
      "_model_module_version": "1.2.0",
      "_model_name": "LayoutModel",
      "_view_count": null,
      "_view_module": "@jupyter-widgets/base",
      "_view_module_version": "1.2.0",
      "_view_name": "LayoutView",
      "align_content": null,
      "align_items": null,
      "align_self": null,
      "border": null,
      "bottom": null,
      "display": null,
      "flex": null,
      "flex_flow": null,
      "grid_area": null,
      "grid_auto_columns": null,
      "grid_auto_flow": null,
      "grid_auto_rows": null,
      "grid_column": null,
      "grid_gap": null,
      "grid_row": null,
      "grid_template_areas": null,
      "grid_template_columns": null,
      "grid_template_rows": null,
      "height": null,
      "justify_content": null,
      "justify_items": null,
      "left": null,
      "margin": null,
      "max_height": null,
      "max_width": null,
      "min_height": null,
      "min_width": null,
      "object_fit": null,
      "object_position": null,
      "order": null,
      "overflow": null,
      "overflow_x": null,
      "overflow_y": null,
      "padding": null,
      "right": null,
      "top": null,
      "visibility": null,
      "width": null
     }
    },
    "c46c0213aa8043989616277efc1e8e18": {
     "model_module": "@jupyter-widgets/controls",
     "model_module_version": "1.5.0",
     "model_name": "HTMLModel",
     "state": {
      "_dom_classes": [],
      "_model_module": "@jupyter-widgets/controls",
      "_model_module_version": "1.5.0",
      "_model_name": "HTMLModel",
      "_view_count": null,
      "_view_module": "@jupyter-widgets/controls",
      "_view_module_version": "1.5.0",
      "_view_name": "HTMLView",
      "description": "",
      "description_tooltip": null,
      "layout": "IPY_MODEL_48585513b2b34ff2bdf53b7289ed5840",
      "placeholder": "​",
      "style": "IPY_MODEL_727beba85c9349f896c8c00a173139b8",
      "value": "config.json: 100%"
     }
    },
    "cb76989700e147e5bef68442566bb8d8": {
     "model_module": "@jupyter-widgets/base",
     "model_module_version": "1.2.0",
     "model_name": "LayoutModel",
     "state": {
      "_model_module": "@jupyter-widgets/base",
      "_model_module_version": "1.2.0",
      "_model_name": "LayoutModel",
      "_view_count": null,
      "_view_module": "@jupyter-widgets/base",
      "_view_module_version": "1.2.0",
      "_view_name": "LayoutView",
      "align_content": null,
      "align_items": null,
      "align_self": null,
      "border": null,
      "bottom": null,
      "display": null,
      "flex": null,
      "flex_flow": null,
      "grid_area": null,
      "grid_auto_columns": null,
      "grid_auto_flow": null,
      "grid_auto_rows": null,
      "grid_column": null,
      "grid_gap": null,
      "grid_row": null,
      "grid_template_areas": null,
      "grid_template_columns": null,
      "grid_template_rows": null,
      "height": null,
      "justify_content": null,
      "justify_items": null,
      "left": null,
      "margin": null,
      "max_height": null,
      "max_width": null,
      "min_height": null,
      "min_width": null,
      "object_fit": null,
      "object_position": null,
      "order": null,
      "overflow": null,
      "overflow_x": null,
      "overflow_y": null,
      "padding": null,
      "right": null,
      "top": null,
      "visibility": null,
      "width": null
     }
    },
    "d04fc929c8e544328e8441689d20ea36": {
     "model_module": "@jupyter-widgets/controls",
     "model_module_version": "1.5.0",
     "model_name": "DescriptionStyleModel",
     "state": {
      "_model_module": "@jupyter-widgets/controls",
      "_model_module_version": "1.5.0",
      "_model_name": "DescriptionStyleModel",
      "_view_count": null,
      "_view_module": "@jupyter-widgets/base",
      "_view_module_version": "1.2.0",
      "_view_name": "StyleView",
      "description_width": ""
     }
    },
    "d08022e3b50d40618262a0996c333879": {
     "model_module": "@jupyter-widgets/controls",
     "model_module_version": "1.5.0",
     "model_name": "ProgressStyleModel",
     "state": {
      "_model_module": "@jupyter-widgets/controls",
      "_model_module_version": "1.5.0",
      "_model_name": "ProgressStyleModel",
      "_view_count": null,
      "_view_module": "@jupyter-widgets/base",
      "_view_module_version": "1.2.0",
      "_view_name": "StyleView",
      "bar_color": null,
      "description_width": ""
     }
    },
    "d78d8db9e16341acbbe59daf118e4c14": {
     "model_module": "@jupyter-widgets/base",
     "model_module_version": "1.2.0",
     "model_name": "LayoutModel",
     "state": {
      "_model_module": "@jupyter-widgets/base",
      "_model_module_version": "1.2.0",
      "_model_name": "LayoutModel",
      "_view_count": null,
      "_view_module": "@jupyter-widgets/base",
      "_view_module_version": "1.2.0",
      "_view_name": "LayoutView",
      "align_content": null,
      "align_items": null,
      "align_self": null,
      "border": null,
      "bottom": null,
      "display": null,
      "flex": null,
      "flex_flow": null,
      "grid_area": null,
      "grid_auto_columns": null,
      "grid_auto_flow": null,
      "grid_auto_rows": null,
      "grid_column": null,
      "grid_gap": null,
      "grid_row": null,
      "grid_template_areas": null,
      "grid_template_columns": null,
      "grid_template_rows": null,
      "height": null,
      "justify_content": null,
      "justify_items": null,
      "left": null,
      "margin": null,
      "max_height": null,
      "max_width": null,
      "min_height": null,
      "min_width": null,
      "object_fit": null,
      "object_position": null,
      "order": null,
      "overflow": null,
      "overflow_x": null,
      "overflow_y": null,
      "padding": null,
      "right": null,
      "top": null,
      "visibility": null,
      "width": null
     }
    },
    "dd6e6e40e66b46ef9849d07cafbc0b34": {
     "model_module": "@jupyter-widgets/base",
     "model_module_version": "1.2.0",
     "model_name": "LayoutModel",
     "state": {
      "_model_module": "@jupyter-widgets/base",
      "_model_module_version": "1.2.0",
      "_model_name": "LayoutModel",
      "_view_count": null,
      "_view_module": "@jupyter-widgets/base",
      "_view_module_version": "1.2.0",
      "_view_name": "LayoutView",
      "align_content": null,
      "align_items": null,
      "align_self": null,
      "border": null,
      "bottom": null,
      "display": null,
      "flex": null,
      "flex_flow": null,
      "grid_area": null,
      "grid_auto_columns": null,
      "grid_auto_flow": null,
      "grid_auto_rows": null,
      "grid_column": null,
      "grid_gap": null,
      "grid_row": null,
      "grid_template_areas": null,
      "grid_template_columns": null,
      "grid_template_rows": null,
      "height": null,
      "justify_content": null,
      "justify_items": null,
      "left": null,
      "margin": null,
      "max_height": null,
      "max_width": null,
      "min_height": null,
      "min_width": null,
      "object_fit": null,
      "object_position": null,
      "order": null,
      "overflow": null,
      "overflow_x": null,
      "overflow_y": null,
      "padding": null,
      "right": null,
      "top": null,
      "visibility": null,
      "width": null
     }
    },
    "e49377977f5043529098fddd67d487d1": {
     "model_module": "@jupyter-widgets/controls",
     "model_module_version": "1.5.0",
     "model_name": "HTMLModel",
     "state": {
      "_dom_classes": [],
      "_model_module": "@jupyter-widgets/controls",
      "_model_module_version": "1.5.0",
      "_model_name": "HTMLModel",
      "_view_count": null,
      "_view_module": "@jupyter-widgets/controls",
      "_view_module_version": "1.5.0",
      "_view_name": "HTMLView",
      "description": "",
      "description_tooltip": null,
      "layout": "IPY_MODEL_7c45128889f14ec4a924850e8ed5d94f",
      "placeholder": "​",
      "style": "IPY_MODEL_154fb395a5914d5aa044283962d78f57",
      "value": "tokenizer_config.json: 100%"
     }
    },
    "e734324c22374a05ad09367c16916be8": {
     "model_module": "@jupyter-widgets/base",
     "model_module_version": "1.2.0",
     "model_name": "LayoutModel",
     "state": {
      "_model_module": "@jupyter-widgets/base",
      "_model_module_version": "1.2.0",
      "_model_name": "LayoutModel",
      "_view_count": null,
      "_view_module": "@jupyter-widgets/base",
      "_view_module_version": "1.2.0",
      "_view_name": "LayoutView",
      "align_content": null,
      "align_items": null,
      "align_self": null,
      "border": null,
      "bottom": null,
      "display": null,
      "flex": null,
      "flex_flow": null,
      "grid_area": null,
      "grid_auto_columns": null,
      "grid_auto_flow": null,
      "grid_auto_rows": null,
      "grid_column": null,
      "grid_gap": null,
      "grid_row": null,
      "grid_template_areas": null,
      "grid_template_columns": null,
      "grid_template_rows": null,
      "height": null,
      "justify_content": null,
      "justify_items": null,
      "left": null,
      "margin": null,
      "max_height": null,
      "max_width": null,
      "min_height": null,
      "min_width": null,
      "object_fit": null,
      "object_position": null,
      "order": null,
      "overflow": null,
      "overflow_x": null,
      "overflow_y": null,
      "padding": null,
      "right": null,
      "top": null,
      "visibility": null,
      "width": null
     }
    },
    "e8c7a1d38d3544c3a46601a265f2217a": {
     "model_module": "@jupyter-widgets/controls",
     "model_module_version": "1.5.0",
     "model_name": "FloatProgressModel",
     "state": {
      "_dom_classes": [],
      "_model_module": "@jupyter-widgets/controls",
      "_model_module_version": "1.5.0",
      "_model_name": "FloatProgressModel",
      "_view_count": null,
      "_view_module": "@jupyter-widgets/controls",
      "_view_module_version": "1.5.0",
      "_view_name": "ProgressView",
      "bar_style": "success",
      "description": "",
      "description_tooltip": null,
      "layout": "IPY_MODEL_2ceeea4e5c2c400084db7bb43cb75a1d",
      "max": 570,
      "min": 0,
      "orientation": "horizontal",
      "style": "IPY_MODEL_0eacfc9bea104a4393bd6906caee3ffd",
      "value": 570
     }
    },
    "ea0f8537a77d40b7a621f41e49b93b17": {
     "model_module": "@jupyter-widgets/base",
     "model_module_version": "1.2.0",
     "model_name": "LayoutModel",
     "state": {
      "_model_module": "@jupyter-widgets/base",
      "_model_module_version": "1.2.0",
      "_model_name": "LayoutModel",
      "_view_count": null,
      "_view_module": "@jupyter-widgets/base",
      "_view_module_version": "1.2.0",
      "_view_name": "LayoutView",
      "align_content": null,
      "align_items": null,
      "align_self": null,
      "border": null,
      "bottom": null,
      "display": null,
      "flex": null,
      "flex_flow": null,
      "grid_area": null,
      "grid_auto_columns": null,
      "grid_auto_flow": null,
      "grid_auto_rows": null,
      "grid_column": null,
      "grid_gap": null,
      "grid_row": null,
      "grid_template_areas": null,
      "grid_template_columns": null,
      "grid_template_rows": null,
      "height": null,
      "justify_content": null,
      "justify_items": null,
      "left": null,
      "margin": null,
      "max_height": null,
      "max_width": null,
      "min_height": null,
      "min_width": null,
      "object_fit": null,
      "object_position": null,
      "order": null,
      "overflow": null,
      "overflow_x": null,
      "overflow_y": null,
      "padding": null,
      "right": null,
      "top": null,
      "visibility": null,
      "width": null
     }
    },
    "ea334867eab94596ae1298c02e69b81c": {
     "model_module": "@jupyter-widgets/base",
     "model_module_version": "1.2.0",
     "model_name": "LayoutModel",
     "state": {
      "_model_module": "@jupyter-widgets/base",
      "_model_module_version": "1.2.0",
      "_model_name": "LayoutModel",
      "_view_count": null,
      "_view_module": "@jupyter-widgets/base",
      "_view_module_version": "1.2.0",
      "_view_name": "LayoutView",
      "align_content": null,
      "align_items": null,
      "align_self": null,
      "border": null,
      "bottom": null,
      "display": null,
      "flex": null,
      "flex_flow": null,
      "grid_area": null,
      "grid_auto_columns": null,
      "grid_auto_flow": null,
      "grid_auto_rows": null,
      "grid_column": null,
      "grid_gap": null,
      "grid_row": null,
      "grid_template_areas": null,
      "grid_template_columns": null,
      "grid_template_rows": null,
      "height": null,
      "justify_content": null,
      "justify_items": null,
      "left": null,
      "margin": null,
      "max_height": null,
      "max_width": null,
      "min_height": null,
      "min_width": null,
      "object_fit": null,
      "object_position": null,
      "order": null,
      "overflow": null,
      "overflow_x": null,
      "overflow_y": null,
      "padding": null,
      "right": null,
      "top": null,
      "visibility": null,
      "width": null
     }
    },
    "ede44de6b3944a3f882251dbc107d562": {
     "model_module": "@jupyter-widgets/controls",
     "model_module_version": "1.5.0",
     "model_name": "DescriptionStyleModel",
     "state": {
      "_model_module": "@jupyter-widgets/controls",
      "_model_module_version": "1.5.0",
      "_model_name": "DescriptionStyleModel",
      "_view_count": null,
      "_view_module": "@jupyter-widgets/base",
      "_view_module_version": "1.2.0",
      "_view_name": "StyleView",
      "description_width": ""
     }
    },
    "eed9b950bdd14dcf815ab924752e4730": {
     "model_module": "@jupyter-widgets/controls",
     "model_module_version": "1.5.0",
     "model_name": "ProgressStyleModel",
     "state": {
      "_model_module": "@jupyter-widgets/controls",
      "_model_module_version": "1.5.0",
      "_model_name": "ProgressStyleModel",
      "_view_count": null,
      "_view_module": "@jupyter-widgets/base",
      "_view_module_version": "1.2.0",
      "_view_name": "StyleView",
      "bar_color": null,
      "description_width": ""
     }
    },
    "f0cef606600c49008daac098b5ed56f1": {
     "model_module": "@jupyter-widgets/base",
     "model_module_version": "1.2.0",
     "model_name": "LayoutModel",
     "state": {
      "_model_module": "@jupyter-widgets/base",
      "_model_module_version": "1.2.0",
      "_model_name": "LayoutModel",
      "_view_count": null,
      "_view_module": "@jupyter-widgets/base",
      "_view_module_version": "1.2.0",
      "_view_name": "LayoutView",
      "align_content": null,
      "align_items": null,
      "align_self": null,
      "border": null,
      "bottom": null,
      "display": null,
      "flex": null,
      "flex_flow": null,
      "grid_area": null,
      "grid_auto_columns": null,
      "grid_auto_flow": null,
      "grid_auto_rows": null,
      "grid_column": null,
      "grid_gap": null,
      "grid_row": null,
      "grid_template_areas": null,
      "grid_template_columns": null,
      "grid_template_rows": null,
      "height": null,
      "justify_content": null,
      "justify_items": null,
      "left": null,
      "margin": null,
      "max_height": null,
      "max_width": null,
      "min_height": null,
      "min_width": null,
      "object_fit": null,
      "object_position": null,
      "order": null,
      "overflow": null,
      "overflow_x": null,
      "overflow_y": null,
      "padding": null,
      "right": null,
      "top": null,
      "visibility": null,
      "width": null
     }
    },
    "f2864a0440af4367b83442473360f15e": {
     "model_module": "@jupyter-widgets/base",
     "model_module_version": "1.2.0",
     "model_name": "LayoutModel",
     "state": {
      "_model_module": "@jupyter-widgets/base",
      "_model_module_version": "1.2.0",
      "_model_name": "LayoutModel",
      "_view_count": null,
      "_view_module": "@jupyter-widgets/base",
      "_view_module_version": "1.2.0",
      "_view_name": "LayoutView",
      "align_content": null,
      "align_items": null,
      "align_self": null,
      "border": null,
      "bottom": null,
      "display": null,
      "flex": null,
      "flex_flow": null,
      "grid_area": null,
      "grid_auto_columns": null,
      "grid_auto_flow": null,
      "grid_auto_rows": null,
      "grid_column": null,
      "grid_gap": null,
      "grid_row": null,
      "grid_template_areas": null,
      "grid_template_columns": null,
      "grid_template_rows": null,
      "height": null,
      "justify_content": null,
      "justify_items": null,
      "left": null,
      "margin": null,
      "max_height": null,
      "max_width": null,
      "min_height": null,
      "min_width": null,
      "object_fit": null,
      "object_position": null,
      "order": null,
      "overflow": null,
      "overflow_x": null,
      "overflow_y": null,
      "padding": null,
      "right": null,
      "top": null,
      "visibility": null,
      "width": null
     }
    }
   }
  }
 },
 "nbformat": 4,
 "nbformat_minor": 5
}
