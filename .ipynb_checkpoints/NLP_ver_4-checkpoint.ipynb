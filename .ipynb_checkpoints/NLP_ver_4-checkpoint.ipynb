{
 "cells": [
  {
   "cell_type": "markdown",
   "id": "16467017",
   "metadata": {
    "id": "16467017"
   },
   "source": [
    "# COMM061: Natural Language Processing  "
   ]
  },
  {
   "cell_type": "code",
   "execution_count": null,
   "id": "04a26f31",
   "metadata": {
    "colab": {
     "base_uri": "https://localhost:8080/"
    },
    "id": "04a26f31",
    "outputId": "96b0d6ee-5d1a-4d35-ddf8-9ec283663b6d"
   },
   "outputs": [
    {
     "name": "stdout",
     "output_type": "stream",
     "text": [
      "spaCy version: 3.7.4\n",
      "Pydantic version: 2.7.0\n"
     ]
    }
   ],
   "source": [
    "import spacy\n",
    "import pydantic\n",
    "print(\"spaCy version:\", spacy.__version__)\n",
    "print(\"Pydantic version:\", pydantic.__version__)"
   ]
  },
  {
   "cell_type": "markdown",
   "id": "4a9d1064",
   "metadata": {
    "id": "4a9d1064"
   },
   "source": [
    "## 1. Set Up Working Environment"
   ]
  },
  {
   "cell_type": "code",
   "execution_count": null,
   "id": "f0f455ae",
   "metadata": {
    "id": "f0f455ae"
   },
   "outputs": [],
   "source": [
    "#!python -m spacy download en_core_web_sm"
   ]
  },
  {
   "cell_type": "code",
   "execution_count": null,
   "id": "v3E8a9Zkc9rs",
   "metadata": {
    "colab": {
     "base_uri": "https://localhost:8080/"
    },
    "id": "v3E8a9Zkc9rs",
    "outputId": "4d66f022-f5a8-424a-f894-4341f899f73c"
   },
   "outputs": [
    {
     "name": "stdout",
     "output_type": "stream",
     "text": [
      "Collecting datasets\n",
      "  Downloading datasets-2.19.0-py3-none-any.whl (542 kB)\n",
      "\u001b[2K     \u001b[90m━━━━━━━━━━━━━━━━━━━━━━━━━━━━━━━━━━━━━━━━\u001b[0m \u001b[32m542.0/542.0 kB\u001b[0m \u001b[31m7.9 MB/s\u001b[0m eta \u001b[36m0:00:00\u001b[0m\n",
      "\u001b[?25hRequirement already satisfied: filelock in /usr/local/lib/python3.10/dist-packages (from datasets) (3.13.4)\n",
      "Requirement already satisfied: numpy>=1.17 in /usr/local/lib/python3.10/dist-packages (from datasets) (1.25.2)\n",
      "Requirement already satisfied: pyarrow>=12.0.0 in /usr/local/lib/python3.10/dist-packages (from datasets) (14.0.2)\n",
      "Requirement already satisfied: pyarrow-hotfix in /usr/local/lib/python3.10/dist-packages (from datasets) (0.6)\n",
      "Collecting dill<0.3.9,>=0.3.0 (from datasets)\n",
      "  Downloading dill-0.3.8-py3-none-any.whl (116 kB)\n",
      "\u001b[2K     \u001b[90m━━━━━━━━━━━━━━━━━━━━━━━━━━━━━━━━━━━━━━━━\u001b[0m \u001b[32m116.3/116.3 kB\u001b[0m \u001b[31m11.3 MB/s\u001b[0m eta \u001b[36m0:00:00\u001b[0m\n",
      "\u001b[?25hRequirement already satisfied: pandas in /usr/local/lib/python3.10/dist-packages (from datasets) (2.0.3)\n",
      "Requirement already satisfied: requests>=2.19.0 in /usr/local/lib/python3.10/dist-packages (from datasets) (2.31.0)\n",
      "Requirement already satisfied: tqdm>=4.62.1 in /usr/local/lib/python3.10/dist-packages (from datasets) (4.66.2)\n",
      "Collecting xxhash (from datasets)\n",
      "  Downloading xxhash-3.4.1-cp310-cp310-manylinux_2_17_x86_64.manylinux2014_x86_64.whl (194 kB)\n",
      "\u001b[2K     \u001b[90m━━━━━━━━━━━━━━━━━━━━━━━━━━━━━━━━━━━━━━━━\u001b[0m \u001b[32m194.1/194.1 kB\u001b[0m \u001b[31m10.6 MB/s\u001b[0m eta \u001b[36m0:00:00\u001b[0m\n",
      "\u001b[?25hCollecting multiprocess (from datasets)\n",
      "  Downloading multiprocess-0.70.16-py310-none-any.whl (134 kB)\n",
      "\u001b[2K     \u001b[90m━━━━━━━━━━━━━━━━━━━━━━━━━━━━━━━━━━━━━━━━\u001b[0m \u001b[32m134.8/134.8 kB\u001b[0m \u001b[31m11.7 MB/s\u001b[0m eta \u001b[36m0:00:00\u001b[0m\n",
      "\u001b[?25hRequirement already satisfied: fsspec[http]<=2024.3.1,>=2023.1.0 in /usr/local/lib/python3.10/dist-packages (from datasets) (2023.6.0)\n",
      "Requirement already satisfied: aiohttp in /usr/local/lib/python3.10/dist-packages (from datasets) (3.9.5)\n",
      "Collecting huggingface-hub>=0.21.2 (from datasets)\n",
      "  Downloading huggingface_hub-0.22.2-py3-none-any.whl (388 kB)\n",
      "\u001b[2K     \u001b[90m━━━━━━━━━━━━━━━━━━━━━━━━━━━━━━━━━━━━━━━━\u001b[0m \u001b[32m388.9/388.9 kB\u001b[0m \u001b[31m28.3 MB/s\u001b[0m eta \u001b[36m0:00:00\u001b[0m\n",
      "\u001b[?25hRequirement already satisfied: packaging in /usr/local/lib/python3.10/dist-packages (from datasets) (24.0)\n",
      "Requirement already satisfied: pyyaml>=5.1 in /usr/local/lib/python3.10/dist-packages (from datasets) (6.0.1)\n",
      "Requirement already satisfied: aiosignal>=1.1.2 in /usr/local/lib/python3.10/dist-packages (from aiohttp->datasets) (1.3.1)\n",
      "Requirement already satisfied: attrs>=17.3.0 in /usr/local/lib/python3.10/dist-packages (from aiohttp->datasets) (23.2.0)\n",
      "Requirement already satisfied: frozenlist>=1.1.1 in /usr/local/lib/python3.10/dist-packages (from aiohttp->datasets) (1.4.1)\n",
      "Requirement already satisfied: multidict<7.0,>=4.5 in /usr/local/lib/python3.10/dist-packages (from aiohttp->datasets) (6.0.5)\n",
      "Requirement already satisfied: yarl<2.0,>=1.0 in /usr/local/lib/python3.10/dist-packages (from aiohttp->datasets) (1.9.4)\n",
      "Requirement already satisfied: async-timeout<5.0,>=4.0 in /usr/local/lib/python3.10/dist-packages (from aiohttp->datasets) (4.0.3)\n",
      "Requirement already satisfied: typing-extensions>=3.7.4.3 in /usr/local/lib/python3.10/dist-packages (from huggingface-hub>=0.21.2->datasets) (4.11.0)\n",
      "Requirement already satisfied: charset-normalizer<4,>=2 in /usr/local/lib/python3.10/dist-packages (from requests>=2.19.0->datasets) (3.3.2)\n",
      "Requirement already satisfied: idna<4,>=2.5 in /usr/local/lib/python3.10/dist-packages (from requests>=2.19.0->datasets) (3.7)\n",
      "Requirement already satisfied: urllib3<3,>=1.21.1 in /usr/local/lib/python3.10/dist-packages (from requests>=2.19.0->datasets) (2.0.7)\n",
      "Requirement already satisfied: certifi>=2017.4.17 in /usr/local/lib/python3.10/dist-packages (from requests>=2.19.0->datasets) (2024.2.2)\n",
      "Requirement already satisfied: python-dateutil>=2.8.2 in /usr/local/lib/python3.10/dist-packages (from pandas->datasets) (2.8.2)\n",
      "Requirement already satisfied: pytz>=2020.1 in /usr/local/lib/python3.10/dist-packages (from pandas->datasets) (2023.4)\n",
      "Requirement already satisfied: tzdata>=2022.1 in /usr/local/lib/python3.10/dist-packages (from pandas->datasets) (2024.1)\n",
      "Requirement already satisfied: six>=1.5 in /usr/local/lib/python3.10/dist-packages (from python-dateutil>=2.8.2->pandas->datasets) (1.16.0)\n",
      "Installing collected packages: xxhash, dill, multiprocess, huggingface-hub, datasets\n",
      "  Attempting uninstall: huggingface-hub\n",
      "    Found existing installation: huggingface-hub 0.20.3\n",
      "    Uninstalling huggingface-hub-0.20.3:\n",
      "      Successfully uninstalled huggingface-hub-0.20.3\n",
      "Successfully installed datasets-2.19.0 dill-0.3.8 huggingface-hub-0.22.2 multiprocess-0.70.16 xxhash-3.4.1\n"
     ]
    }
   ],
   "source": [
    "!pip install datasets"
   ]
  },
  {
   "cell_type": "code",
   "execution_count": null,
   "id": "0f999b09",
   "metadata": {
    "id": "0f999b09"
   },
   "outputs": [],
   "source": [
    "# Import necessary libraries\n",
    "import pandas as pd\n",
    "import spacy\n",
    "from transformers import AutoTokenizer, AutoModel\n",
    "import datasets"
   ]
  },
  {
   "cell_type": "code",
   "execution_count": null,
   "id": "VEa9MZt1kKor",
   "metadata": {
    "colab": {
     "base_uri": "https://localhost:8080/"
    },
    "id": "VEa9MZt1kKor",
    "outputId": "d4863fcb-5726-47c2-9c05-9018bd93c3ca"
   },
   "outputs": [
    {
     "name": "stderr",
     "output_type": "stream",
     "text": [
      "/usr/local/lib/python3.10/dist-packages/huggingface_hub/utils/_token.py:89: UserWarning: \n",
      "The secret `HF_TOKEN` does not exist in your Colab secrets.\n",
      "To authenticate with the Hugging Face Hub, create a token in your settings tab (https://huggingface.co/settings/tokens), set it as secret in your Google Colab and restart your session.\n",
      "You will be able to reuse this secret in all of your notebooks.\n",
      "Please note that authentication is recommended but still optional to access public models or datasets.\n",
      "  warnings.warn(\n"
     ]
    },
    {
     "data": {
      "application/vnd.jupyter.widget-view+json": {
       "model_id": "3cb6481832ce42a58ec319cf7f405290",
       "version_major": 2,
       "version_minor": 0
      },
      "text/plain": [
       "Downloading readme:   0%|          | 0.00/8.37k [00:00<?, ?B/s]"
      ]
     },
     "metadata": {},
     "output_type": "display_data"
    },
    {
     "data": {
      "application/vnd.jupyter.widget-view+json": {
       "model_id": "1c5a03d104374ec0be923402e7a47780",
       "version_major": 2,
       "version_minor": 0
      },
      "text/plain": [
       "Downloading data:   0%|          | 0.00/188k [00:00<?, ?B/s]"
      ]
     },
     "metadata": {},
     "output_type": "display_data"
    },
    {
     "data": {
      "application/vnd.jupyter.widget-view+json": {
       "model_id": "c106ea8186234f9f8e7b096772e6560f",
       "version_major": 2,
       "version_minor": 0
      },
      "text/plain": [
       "Downloading data:   0%|          | 0.00/28.4k [00:00<?, ?B/s]"
      ]
     },
     "metadata": {},
     "output_type": "display_data"
    },
    {
     "data": {
      "application/vnd.jupyter.widget-view+json": {
       "model_id": "45d573c9327746f0a177e709fdad89b6",
       "version_major": 2,
       "version_minor": 0
      },
      "text/plain": [
       "Downloading data:   0%|          | 0.00/28.7k [00:00<?, ?B/s]"
      ]
     },
     "metadata": {},
     "output_type": "display_data"
    },
    {
     "data": {
      "application/vnd.jupyter.widget-view+json": {
       "model_id": "8fe8e06cd8d14adabdb389471ad63efa",
       "version_major": 2,
       "version_minor": 0
      },
      "text/plain": [
       "Generating train split:   0%|          | 0/1072 [00:00<?, ? examples/s]"
      ]
     },
     "metadata": {},
     "output_type": "display_data"
    },
    {
     "data": {
      "application/vnd.jupyter.widget-view+json": {
       "model_id": "77238056857a448e889973f7068bbbd1",
       "version_major": 2,
       "version_minor": 0
      },
      "text/plain": [
       "Generating validation split:   0%|          | 0/126 [00:00<?, ? examples/s]"
      ]
     },
     "metadata": {},
     "output_type": "display_data"
    },
    {
     "data": {
      "application/vnd.jupyter.widget-view+json": {
       "model_id": "f2611e37b2d84b0594a1ce1189b08d85",
       "version_major": 2,
       "version_minor": 0
      },
      "text/plain": [
       "Generating test split:   0%|          | 0/153 [00:00<?, ? examples/s]"
      ]
     },
     "metadata": {},
     "output_type": "display_data"
    },
    {
     "data": {
      "text/plain": [
       "Dataset({\n",
       "    features: ['tokens', 'pos_tags', 'ner_tags'],\n",
       "    num_rows: 5\n",
       "})"
      ]
     },
     "execution_count": 5,
     "metadata": {},
     "output_type": "execute_result"
    }
   ],
   "source": [
    "# Load the dataset from Hugging Face\n",
    "dataset = datasets.load_dataset('surrey-nlp/PLOD-CW')\n",
    "\n",
    "# Display the first few entries in the dataset\n",
    "dataset['train'].select(range(5))"
   ]
  },
  {
   "cell_type": "code",
   "execution_count": null,
   "id": "SvQVaMULxbbH",
   "metadata": {
    "id": "SvQVaMULxbbH"
   },
   "outputs": [],
   "source": []
  },
  {
   "cell_type": "markdown",
   "id": "1fe21f08",
   "metadata": {
    "id": "1fe21f08"
   },
   "source": [
    "## 2. Data Analysis and Visualization"
   ]
  },
  {
   "cell_type": "code",
   "execution_count": null,
   "id": "abd6ca05",
   "metadata": {
    "colab": {
     "base_uri": "https://localhost:8080/"
    },
    "id": "abd6ca05",
    "outputId": "d1b19be8-cd7c-4137-8062-c6e70b3a17fa"
   },
   "outputs": [
    {
     "data": {
      "text/plain": [
       "{'tokens': ['For',\n",
       "  'this',\n",
       "  'purpose',\n",
       "  'the',\n",
       "  'Gothenburg',\n",
       "  'Young',\n",
       "  'Persons',\n",
       "  'Empowerment',\n",
       "  'Scale',\n",
       "  '(',\n",
       "  'GYPES',\n",
       "  ')',\n",
       "  'was',\n",
       "  'developed',\n",
       "  '.'],\n",
       " 'pos_tags': ['ADP',\n",
       "  'DET',\n",
       "  'NOUN',\n",
       "  'DET',\n",
       "  'PROPN',\n",
       "  'PROPN',\n",
       "  'PROPN',\n",
       "  'PROPN',\n",
       "  'PROPN',\n",
       "  'PUNCT',\n",
       "  'PROPN',\n",
       "  'PUNCT',\n",
       "  'AUX',\n",
       "  'VERB',\n",
       "  'PUNCT'],\n",
       " 'ner_tags': ['B-O',\n",
       "  'B-O',\n",
       "  'B-O',\n",
       "  'B-O',\n",
       "  'B-LF',\n",
       "  'I-LF',\n",
       "  'I-LF',\n",
       "  'I-LF',\n",
       "  'I-LF',\n",
       "  'B-O',\n",
       "  'B-AC',\n",
       "  'B-O',\n",
       "  'B-O',\n",
       "  'B-O',\n",
       "  'B-O']}"
      ]
     },
     "execution_count": 6,
     "metadata": {},
     "output_type": "execute_result"
    }
   ],
   "source": [
    "# Import necessary libraries\n",
    "import matplotlib.pyplot as plt\n",
    "import seaborn as sns\n",
    "from collections import Counter\n",
    "\n",
    "# Inspect a single example to understand the structure\n",
    "dataset['train'][0]"
   ]
  },
  {
   "cell_type": "code",
   "execution_count": null,
   "id": "f633bf5f",
   "metadata": {
    "colab": {
     "base_uri": "https://localhost:8080/"
    },
    "id": "f633bf5f",
    "outputId": "320e9658-561a-4571-8264-543af9391bb8"
   },
   "outputs": [
    {
     "data": {
      "image/png": "[encoded data removed]",
      "text/plain": [
       "<Figure size 1000x600 with 1 Axes>"
      ]
     },
     "metadata": {},
     "output_type": "display_data"
    }
   ],
   "source": [
    "# Analyze label distribution\n",
    "def plot_label_distribution(dataset_split):\n",
    "    labels = [label for example in dataset_split for label in example['ner_tags']]\n",
    "    label_counter = Counter(labels)\n",
    "\n",
    "    # Assuming 'ner_tags' are stored as integers and you have a label dictionary\n",
    "    label_dict = {0: 'O', 1: 'B-AC', 2: 'I-AC', 3: 'B-LF', 4: 'I-LF'}\n",
    "    label_names = [label_dict[label] if label in label_dict else str(label) for label in label_counter.keys()]\n",
    "    counts = label_counter.values()\n",
    "\n",
    "    plt.figure(figsize=(10, 6))\n",
    "    sns.barplot(x=label_names, y=list(counts))\n",
    "    plt.title('Label Distribution in the Dataset')\n",
    "    plt.xlabel('Label')\n",
    "    plt.ylabel('Frequency')\n",
    "    plt.show()\n",
    "\n",
    "plot_label_distribution(dataset['train'])"
   ]
  },
  {
   "cell_type": "code",
   "execution_count": null,
   "id": "aErWBLz5dMXK",
   "metadata": {
    "colab": {
     "base_uri": "https://localhost:8080/",
     "height": 564
    },
    "id": "aErWBLz5dMXK",
    "outputId": "270dc887-b67b-4ec6-9c6b-21487b9df82b"
   },
   "outputs": [
    {
     "data": {
      "image/png": "[encoded data removed]",
      "text/plain": [
       "<Figure size 1000x600 with 1 Axes>"
      ]
     },
     "metadata": {},
     "output_type": "display_data"
    }
   ],
   "source": [
    "# Analyze token length distribution\n",
    "def plot_token_length_distribution(dataset_split):\n",
    "    token_lengths = [len(example['tokens']) for example in dataset_split]\n",
    "    plt.figure(figsize=(10, 6))\n",
    "    sns.histplot(token_lengths, bins=30, kde=True)\n",
    "    plt.title('Token Length Distribution')\n",
    "    plt.xlabel('Number of Tokens')\n",
    "    plt.ylabel('Number of Samples')\n",
    "    plt.show()\n",
    "\n",
    "plot_token_length_distribution(dataset['train'])"
   ]
  },
  {
   "cell_type": "code",
   "execution_count": null,
   "id": "BuVjbpGxdP24",
   "metadata": {
    "colab": {
     "base_uri": "https://localhost:8080/",
     "height": 598
    },
    "id": "BuVjbpGxdP24",
    "outputId": "e65f1775-7472-4bf2-b401-4df8e8fb96b7"
   },
   "outputs": [
    {
     "data": {
      "image/png": "[encoded data removed]",
      "text/plain": [
       "<Figure size 1000x600 with 1 Axes>"
      ]
     },
     "metadata": {},
     "output_type": "display_data"
    }
   ],
   "source": [
    "# Additional analysis like POS tag distribution if POS tags are available\n",
    "def plot_pos_tag_distribution(dataset_split):\n",
    "    pos_tags = [pos for example in dataset_split for pos in example['pos_tags']]\n",
    "    pos_tag_counter = Counter(pos_tags)\n",
    "\n",
    "    pos_tag_names = list(pos_tag_counter.keys())\n",
    "    pos_counts = pos_tag_counter.values()\n",
    "\n",
    "    plt.figure(figsize=(10, 6))\n",
    "    sns.barplot(x=pos_tag_names, y=list(pos_counts))\n",
    "    plt.title('POS Tag Distribution in the Dataset')\n",
    "    plt.xticks(rotation=90)  # Rotate labels for better readability\n",
    "    plt.xlabel('POS Tag')\n",
    "    plt.ylabel('Frequency')\n",
    "    plt.show()\n",
    "\n",
    "if 'pos_tags' in dataset['train'][0]:\n",
    "    plot_pos_tag_distribution(dataset['train'])"
   ]
  },
  {
   "cell_type": "markdown",
   "id": "dbc3e92e",
   "metadata": {
    "id": "dbc3e92e"
   },
   "source": [
    "## 3. Data Preprocessing"
   ]
  },
  {
   "cell_type": "code",
   "execution_count": null,
   "id": "026928f9",
   "metadata": {
    "colab": {
     "base_uri": "https://localhost:8080/",
     "height": 145,
     "referenced_widgets": [
      "6ded19f90ac54c8cb6bdcc6791eab0e3",
      "e49377977f5043529098fddd67d487d1",
      "54b28c9723b54b82b1c01972ccd4defc",
      "20181a2adf93413e8c36edb892175521",
      "be8c0ff6d62c43dd98c65d5c1bd9bcf7",
      "7c45128889f14ec4a924850e8ed5d94f",
      "154fb395a5914d5aa044283962d78f57",
      "a7fae617d67c41019d959a421964339f",
      "b7dafd659c454c6e81cf9ee174521e05",
      "dd6e6e40e66b46ef9849d07cafbc0b34",
      "7f75044e1bda4ecd9813cdf8b93f51bf",
      "4571b1e75272433488a671446980f8c0",
      "c46c0213aa8043989616277efc1e8e18",
      "e8c7a1d38d3544c3a46601a265f2217a",
      "60ae2c972c5e4e89bb0fa027d12ce30b",
      "ea0f8537a77d40b7a621f41e49b93b17",
      "48585513b2b34ff2bdf53b7289ed5840",
      "727beba85c9349f896c8c00a173139b8",
      "2ceeea4e5c2c400084db7bb43cb75a1d",
      "0eacfc9bea104a4393bd6906caee3ffd",
      "ea334867eab94596ae1298c02e69b81c",
      "b06f758a9bdb420c82add87bf6d5e887",
      "ad43a9a2a98344589cfaa71541762cd4",
      "40cb9bc7b61c412c9ec822b1a4003846",
      "b56fc9243f6a4e23b35b792229be40ef",
      "333275f182784428b37ae55afeab916b",
      "aa7390c3cbae41758c697dd7491337ba",
      "f2864a0440af4367b83442473360f15e",
      "3ce90f33bab844eeac1ecd4d0d3c6cab",
      "d78d8db9e16341acbbe59daf118e4c14",
      "d08022e3b50d40618262a0996c333879",
      "7733ee10e1194e4d9a159d8e33958e5b",
      "498b5cb6ba034998a6fcbc3c767445f5",
      "258c5d079aac42b2b00008998a969147",
      "70fc28d833cf4a9fa2c9b9a149a8be28",
      "610cfa8c4b304043b909def4cd5e650a",
      "a15e59eaf27a472894f05644dce159b6",
      "7aa46bedd26e4bb485427a8f4c78899b",
      "f0cef606600c49008daac098b5ed56f1",
      "284de81f476f4348ad18850896b42a62",
      "60b04b72f311465cba6827ae7a235fbc",
      "eed9b950bdd14dcf815ab924752e4730",
      "1c5ab47228904bf882e821a0c2348fa4",
      "ede44de6b3944a3f882251dbc107d562"
     ]
    },
    "id": "026928f9",
    "outputId": "4c35ab20-93a8-4efd-9f5a-560fd67a1de6"
   },
   "outputs": [
    {
     "data": {
      "application/vnd.jupyter.widget-view+json": {
       "model_id": "6ded19f90ac54c8cb6bdcc6791eab0e3",
       "version_major": 2,
       "version_minor": 0
      },
      "text/plain": [
       "tokenizer_config.json:   0%|          | 0.00/48.0 [00:00<?, ?B/s]"
      ]
     },
     "metadata": {},
     "output_type": "display_data"
    },
    {
     "data": {
      "application/vnd.jupyter.widget-view+json": {
       "model_id": "4571b1e75272433488a671446980f8c0",
       "version_major": 2,
       "version_minor": 0
      },
      "text/plain": [
       "config.json:   0%|          | 0.00/570 [00:00<?, ?B/s]"
      ]
     },
     "metadata": {},
     "output_type": "display_data"
    },
    {
     "data": {
      "application/vnd.jupyter.widget-view+json": {
       "model_id": "ad43a9a2a98344589cfaa71541762cd4",
       "version_major": 2,
       "version_minor": 0
      },
      "text/plain": [
       "vocab.txt:   0%|          | 0.00/232k [00:00<?, ?B/s]"
      ]
     },
     "metadata": {},
     "output_type": "display_data"
    },
    {
     "data": {
      "application/vnd.jupyter.widget-view+json": {
       "model_id": "258c5d079aac42b2b00008998a969147",
       "version_major": 2,
       "version_minor": 0
      },
      "text/plain": [
       "tokenizer.json:   0%|          | 0.00/466k [00:00<?, ?B/s]"
      ]
     },
     "metadata": {},
     "output_type": "display_data"
    }
   ],
   "source": [
    "# Import necessary libraries\n",
    "import numpy as np\n",
    "from transformers import AutoTokenizer\n",
    "from sklearn.model_selection import train_test_split\n",
    "\n",
    "# Load the tokenizer\n",
    "tokenizer = AutoTokenizer.from_pretrained('bert-base-uncased')\n",
    "\n",
    "# Define the maximum sequence length\n",
    "max_length = 128\n",
    "\n",
    "# Function to tokenize and encode a list of texts\n",
    "def tokenize_and_encode(texts, max_length):\n",
    "    # Tokenize and encode sequences in the batch\n",
    "    return tokenizer(texts, padding=\"max_length\", truncation=True, max_length=max_length, return_tensors='np')\n",
    "\n",
    "# Function to preprocess data\n",
    "def preprocess_data(examples):\n",
    "    # Flatten the list of tokens into a list of strings for tokenization\n",
    "    texts = [\" \".join(tokens) for tokens in examples['tokens']]\n",
    "\n",
    "    # Tokenize the texts\n",
    "    tokenized_inputs = tokenize_and_encode(texts, max_length)\n",
    "\n",
    "    # Create a flat list of labels and pad them\n",
    "    labels = []\n",
    "    for label_list in examples['ner_tags']:\n",
    "        # Pad labels with -100 (ignored by models in Hugging Face Transformers)\n",
    "        padded_labels = label_list + [-100] * (max_length - len(label_list))\n",
    "        labels.append(padded_labels[:max_length])  # truncate to max_length\n",
    "\n",
    "    return tokenized_inputs, np.array(labels)\n",
    "\n",
    "# Assume dataset is loaded and contains 'train' and 'test' splits\n",
    "train_dataset = dataset['train']\n",
    "test_dataset = dataset['test']\n",
    "\n",
    "# Preprocess the data\n",
    "train_encodings, train_labels = preprocess_data(train_dataset)\n",
    "test_encodings, test_labels = preprocess_data(test_dataset)\n",
    "\n",
    "# Split the training data for training and validation\n",
    "train_inputs, val_inputs, train_labels, val_labels = train_test_split(\n",
    "    train_encodings['input_ids'], train_labels, test_size=0.1, random_state=42\n",
    ")"
   ]
  },
  {
   "cell_type": "code",
   "execution_count": null,
   "id": "3ed67fb0",
   "metadata": {
    "colab": {
     "base_uri": "https://localhost:8080/"
    },
    "id": "3ed67fb0",
    "outputId": "a402b961-89ec-46be-9e63-7b9bea6236ef"
   },
   "outputs": [
    {
     "name": "stdout",
     "output_type": "stream",
     "text": [
      "Train inputs shape: (964, 128)\n",
      "Validation inputs shape: (108, 128)\n",
      "Train labels shape: (964, 128)\n",
      "Validation labels shape: (108, 128)\n"
     ]
    }
   ],
   "source": [
    "print(f\"Train inputs shape: {train_inputs.shape}\")\n",
    "print(f\"Validation inputs shape: {val_inputs.shape}\")\n",
    "print(f\"Train labels shape: {train_labels.shape}\")\n",
    "print(f\"Validation labels shape: {val_labels.shape}\")"
   ]
  },
  {
   "cell_type": "markdown",
   "id": "0b7fe872",
   "metadata": {
    "id": "0b7fe872"
   },
   "source": [
    "## 4. Model Building and Experimentation"
   ]
  },
  {
   "cell_type": "code",
   "execution_count": null,
   "id": "eb739eba",
   "metadata": {
    "id": "eb739eba"
   },
   "outputs": [],
   "source": [
    "import torch\n",
    "from transformers import BertForTokenClassification, AdamW\n",
    "from torch.utils.data import DataLoader, TensorDataset, RandomSampler, SequentialSampler\n",
    "from sklearn.metrics import f1_score, classification_report\n",
    "import numpy as np"
   ]
  },
  {
   "cell_type": "code",
   "execution_count": null,
   "id": "712ee61e",
   "metadata": {
    "id": "712ee61e"
   },
   "outputs": [],
   "source": [
    "# Update the label map to include 'B-O'\n",
    "label_map = {\n",
    "    'O': 0, 'B-AC': 1, 'I-AC': 2, 'B-LF': 3, 'I-LF': 4, 'B-O': 5\n",
    "}\n",
    "\n",
    "def convert_labels_to_int(labels, label_map):\n",
    "    converted_labels = []\n",
    "    for label_list in labels:\n",
    "        converted_label_list = []\n",
    "        for label in label_list:\n",
    "            if label == '-100':\n",
    "                # Maintain -100 as a special padding value\n",
    "                converted_label_list.append(-100)\n",
    "            elif label in label_map:\n",
    "                converted_label_list.append(label_map[label])\n",
    "            else:\n",
    "                # If a label is found that's not in the label_map and it's not -100, raise an error\n",
    "                raise ValueError(f\"Label {label} not found in label_map and is not a padding value.\")\n",
    "        converted_labels.append(converted_label_list)\n",
    "    return converted_labels"
   ]
  },
  {
   "cell_type": "code",
   "execution_count": null,
   "id": "ea518d15",
   "metadata": {
    "id": "ea518d15"
   },
   "outputs": [],
   "source": [
    "import torch\n",
    "from torch.utils.data import DataLoader, TensorDataset, RandomSampler\n",
    "\n",
    "def create_dataloader(input_ids, attention_masks, labels, label_map, batch_size=32):\n",
    "    print(f\"Input IDs shape: {input_ids.shape}\")\n",
    "    print(f\"Attention Masks shape: {attention_masks.shape}\")\n",
    "\n",
    "    # Properly handle the label shape print statement\n",
    "    if isinstance(labels, list):\n",
    "        print(f\"Labels shape: {len(labels)}, {len(labels[0]) if labels else 'N/A'}\")\n",
    "    elif isinstance(labels, np.ndarray):\n",
    "        print(f\"Labels shape: {labels.shape}\")\n",
    "\n",
    "    # Convert labels from strings to integers using the label_map\n",
    "    labels = convert_labels_to_int(labels, label_map)\n",
    "\n",
    "    # Adjust attention masks if there's a mismatch in length\n",
    "    if input_ids.shape[0] != attention_masks.shape[0]:\n",
    "        print(\"Adjusting mismatch in attention masks...\")\n",
    "        attention_masks = attention_masks[:input_ids.shape[0]]\n",
    "\n",
    "    assert input_ids.shape[0] == attention_masks.shape[0] == len(labels), \"Mismatch in the number of examples among tensors\"\n",
    "\n",
    "    # Convert numpy arrays to torch tensors\n",
    "    input_ids = torch.tensor(input_ids, dtype=torch.long)\n",
    "    attention_masks = torch.tensor(attention_masks, dtype=torch.long)\n",
    "    labels = torch.tensor(labels, dtype=torch.long)\n",
    "\n",
    "    # Create a TensorDataset\n",
    "    data = TensorDataset(input_ids, attention_masks, labels)\n",
    "\n",
    "    # Create a DataLoader\n",
    "    sampler = RandomSampler(data)\n",
    "    dataloader = DataLoader(data, sampler=sampler, batch_size=batch_size)\n",
    "\n",
    "    return dataloader"
   ]
  },
  {
   "cell_type": "code",
   "execution_count": null,
   "id": "023ddad9",
   "metadata": {
    "colab": {
     "base_uri": "https://localhost:8080/"
    },
    "id": "023ddad9",
    "outputId": "d0c5ff24-56d6-4e3b-a1a6-ce54b3e4b622"
   },
   "outputs": [
    {
     "name": "stdout",
     "output_type": "stream",
     "text": [
      "Input IDs shape: (964, 128)\n",
      "Attention Masks shape: (1072, 128)\n",
      "Labels shape: (964, 128)\n",
      "Adjusting mismatch in attention masks...\n"
     ]
    }
   ],
   "source": [
    "batch_size = 16\n",
    "label_map = {'O': 0, 'B-AC': 1, 'I-AC': 2, 'B-LF': 3, 'I-LF': 4, 'B-O': 5}  # Ensure this map includes all possible labels\n",
    "train_dataloader = create_dataloader(train_inputs, train_encodings['attention_mask'], train_labels, label_map, batch_size)"
   ]
  },
  {
   "cell_type": "code",
   "execution_count": null,
   "id": "5c4f2eee",
   "metadata": {
    "colab": {
     "base_uri": "https://localhost:8080/"
    },
    "id": "5c4f2eee",
    "outputId": "ed9488a9-105c-4851-d3c8-041e0cb36944"
   },
   "outputs": [
    {
     "name": "stdout",
     "output_type": "stream",
     "text": [
      "Input IDs shape: (108, 128)\n",
      "Attention Masks shape: (153, 128)\n",
      "Labels shape: (108, 128)\n",
      "Adjusting mismatch in attention masks...\n"
     ]
    }
   ],
   "source": [
    "validation_dataloader = create_dataloader(val_inputs, test_encodings['attention_mask'], val_labels, label_map, batch_size)"
   ]
  },
  {
   "cell_type": "code",
   "execution_count": null,
   "id": "1e3d1e5b",
   "metadata": {
    "colab": {
     "base_uri": "https://localhost:8080/"
    },
    "id": "1e3d1e5b",
    "outputId": "44460ea9-a795-4235-ab0d-88262fd21e71"
   },
   "outputs": [
    {
     "name": "stdout",
     "output_type": "stream",
     "text": [
      "PyTorch version: 2.2.1+cu121\n"
     ]
    }
   ],
   "source": [
    "import torch\n",
    "print(\"PyTorch version:\", torch.__version__)"
   ]
  },
  {
   "cell_type": "markdown",
   "id": "fRdBaM04NveJ",
   "metadata": {
    "id": "fRdBaM04NveJ"
   },
   "source": [
    "## Experiment 1"
   ]
  },
  {
   "cell_type": "code",
   "execution_count": null,
   "id": "fa0efcad",
   "metadata": {
    "colab": {
     "base_uri": "https://localhost:8080/",
     "height": 795,
     "referenced_widgets": [
      "8bc94dffd8e244b680f74f5ccb987916",
      "2cfa631369104a5d8275442b3d7da0af",
      "1dfffb340417468d89367669c55c7b59",
      "3227bc44bb2d425cb9c6e50e3ee9b149",
      "8c378620d027454fa85d58d5a6ad1ffd",
      "205fa07ea8a7432bbf01c71afeeafae9",
      "d04fc929c8e544328e8441689d20ea36",
      "cb76989700e147e5bef68442566bb8d8",
      "5384835ee00c445bb38dee62da6cdde0",
      "e734324c22374a05ad09367c16916be8",
      "a1c560bc256d4d4987b59f265b304d84"
     ]
    },
    "id": "fa0efcad",
    "outputId": "aefcf178-c9f2-449c-9a54-a462e92c652f"
   },
   "outputs": [
    {
     "data": {
      "application/vnd.jupyter.widget-view+json": {
       "model_id": "8bc94dffd8e244b680f74f5ccb987916",
       "version_major": 2,
       "version_minor": 0
      },
      "text/plain": [
       "model.safetensors:   0%|          | 0.00/440M [00:00<?, ?B/s]"
      ]
     },
     "metadata": {},
     "output_type": "display_data"
    },
    {
     "name": "stderr",
     "output_type": "stream",
     "text": [
      "Some weights of BertForTokenClassification were not initialized from the model checkpoint at bert-base-uncased and are newly initialized: ['classifier.bias', 'classifier.weight']\n",
      "You should probably TRAIN this model on a down-stream task to be able to use it for predictions and inference.\n"
     ]
    },
    {
     "data": {
      "text/plain": [
       "BertForTokenClassification(\n",
       "  (bert): BertModel(\n",
       "    (embeddings): BertEmbeddings(\n",
       "      (word_embeddings): Embedding(30522, 768, padding_idx=0)\n",
       "      (position_embeddings): Embedding(512, 768)\n",
       "      (token_type_embeddings): Embedding(2, 768)\n",
       "      (LayerNorm): LayerNorm((768,), eps=1e-12, elementwise_affine=True)\n",
       "      (dropout): Dropout(p=0.1, inplace=False)\n",
       "    )\n",
       "    (encoder): BertEncoder(\n",
       "      (layer): ModuleList(\n",
       "        (0-11): 12 x BertLayer(\n",
       "          (attention): BertAttention(\n",
       "            (self): BertSelfAttention(\n",
       "              (query): Linear(in_features=768, out_features=768, bias=True)\n",
       "              (key): Linear(in_features=768, out_features=768, bias=True)\n",
       "              (value): Linear(in_features=768, out_features=768, bias=True)\n",
       "              (dropout): Dropout(p=0.1, inplace=False)\n",
       "            )\n",
       "            (output): BertSelfOutput(\n",
       "              (dense): Linear(in_features=768, out_features=768, bias=True)\n",
       "              (LayerNorm): LayerNorm((768,), eps=1e-12, elementwise_affine=True)\n",
       "              (dropout): Dropout(p=0.1, inplace=False)\n",
       "            )\n",
       "          )\n",
       "          (intermediate): BertIntermediate(\n",
       "            (dense): Linear(in_features=768, out_features=3072, bias=True)\n",
       "            (intermediate_act_fn): GELUActivation()\n",
       "          )\n",
       "          (output): BertOutput(\n",
       "            (dense): Linear(in_features=3072, out_features=768, bias=True)\n",
       "            (LayerNorm): LayerNorm((768,), eps=1e-12, elementwise_affine=True)\n",
       "            (dropout): Dropout(p=0.1, inplace=False)\n",
       "          )\n",
       "        )\n",
       "      )\n",
       "    )\n",
       "  )\n",
       "  (dropout): Dropout(p=0.1, inplace=False)\n",
       "  (classifier): Linear(in_features=768, out_features=6, bias=True)\n",
       ")"
      ]
     },
     "execution_count": 18,
     "metadata": {},
     "output_type": "execute_result"
    }
   ],
   "source": [
    "label_map = {'O': 0, 'B-AC': 1, 'I-AC': 2, 'B-LF': 3, 'I-LF': 4, 'B-O': 5}\n",
    "num_labels = len(label_map)  # This should be 6\n",
    "\n",
    "# Initialize the model with the correct number of labels\n",
    "from transformers import BertForTokenClassification, AdamW\n",
    "\n",
    "model = BertForTokenClassification.from_pretrained(\n",
    "    'bert-base-uncased',\n",
    "    num_labels=num_labels,  # Make sure this is correct\n",
    "    output_attentions=False,\n",
    "    output_hidden_states=False\n",
    ")\n",
    "\n",
    "# Ensure the model is on the right device (GPU or CPU)\n",
    "device = torch.device(\"cuda\" if torch.cuda.is_available() else \"cpu\")\n",
    "model.to(device)"
   ]
  },
  {
   "cell_type": "code",
   "execution_count": null,
   "id": "22e59d56",
   "metadata": {
    "colab": {
     "base_uri": "https://localhost:8080/"
    },
    "id": "22e59d56",
    "outputId": "cbd32381-0402-406a-e5af-24ce8a043c04"
   },
   "outputs": [
    {
     "name": "stderr",
     "output_type": "stream",
     "text": [
      "/usr/local/lib/python3.10/dist-packages/transformers/optimization.py:521: FutureWarning: This implementation of AdamW is deprecated and will be removed in a future version. Use the PyTorch implementation torch.optim.AdamW instead, or set `no_deprecation_warning=True` to disable this warning\n",
      "  warnings.warn(\n"
     ]
    }
   ],
   "source": [
    "optimizer = AdamW(model.parameters(), lr=2e-5, eps=1e-8)"
   ]
  },
  {
   "cell_type": "code",
   "execution_count": null,
   "id": "f5237f0e",
   "metadata": {
    "colab": {
     "base_uri": "https://localhost:8080/"
    },
    "id": "f5237f0e",
    "outputId": "640f4a36-7419-469e-c465-2569c24bcba5"
   },
   "outputs": [
    {
     "name": "stdout",
     "output_type": "stream",
     "text": [
      "\n",
      "Epoch 1/10\n"
     ]
    },
    {
     "name": "stderr",
     "output_type": "stream",
     "text": [
      "100%|██████████| 61/61 [00:20<00:00,  3.05it/s]\n"
     ]
    },
    {
     "name": "stdout",
     "output_type": "stream",
     "text": [
      "Average train loss: 0.7166724747321644\n",
      "Validation F1 Score: 0.2514164070322905\n",
      "\n",
      "Epoch 2/10\n"
     ]
    },
    {
     "name": "stderr",
     "output_type": "stream",
     "text": [
      "100%|██████████| 61/61 [00:19<00:00,  3.12it/s]\n"
     ]
    },
    {
     "name": "stdout",
     "output_type": "stream",
     "text": [
      "Average train loss: 0.6065779474915051\n",
      "Validation F1 Score: 0.23426268207190892\n",
      "\n",
      "Epoch 3/10\n"
     ]
    },
    {
     "name": "stderr",
     "output_type": "stream",
     "text": [
      "100%|██████████| 61/61 [00:19<00:00,  3.09it/s]\n"
     ]
    },
    {
     "name": "stdout",
     "output_type": "stream",
     "text": [
      "Average train loss: 0.5460090358726314\n",
      "Validation F1 Score: 0.29489187761761065\n",
      "\n",
      "Epoch 4/10\n"
     ]
    },
    {
     "name": "stderr",
     "output_type": "stream",
     "text": [
      "100%|██████████| 61/61 [00:19<00:00,  3.11it/s]\n"
     ]
    },
    {
     "name": "stdout",
     "output_type": "stream",
     "text": [
      "Average train loss: 0.49966967716568805\n",
      "Validation F1 Score: 0.35695022123931397\n",
      "\n",
      "Epoch 5/10\n"
     ]
    },
    {
     "name": "stderr",
     "output_type": "stream",
     "text": [
      "100%|██████████| 61/61 [00:19<00:00,  3.08it/s]\n"
     ]
    },
    {
     "name": "stdout",
     "output_type": "stream",
     "text": [
      "Average train loss: 0.4561270086980257\n",
      "Validation F1 Score: 0.37794501164766514\n",
      "\n",
      "Epoch 6/10\n"
     ]
    },
    {
     "name": "stderr",
     "output_type": "stream",
     "text": [
      "100%|██████████| 61/61 [00:20<00:00,  3.01it/s]\n"
     ]
    },
    {
     "name": "stdout",
     "output_type": "stream",
     "text": [
      "Average train loss: 0.4230133822706879\n",
      "Validation F1 Score: 0.4086336318833259\n",
      "\n",
      "Epoch 7/10\n"
     ]
    },
    {
     "name": "stderr",
     "output_type": "stream",
     "text": [
      "100%|██████████| 61/61 [00:21<00:00,  2.90it/s]\n"
     ]
    },
    {
     "name": "stdout",
     "output_type": "stream",
     "text": [
      "Average train loss: 0.3936470847149364\n",
      "Validation F1 Score: 0.426952448896567\n",
      "\n",
      "Epoch 8/10\n"
     ]
    },
    {
     "name": "stderr",
     "output_type": "stream",
     "text": [
      "100%|██████████| 61/61 [00:21<00:00,  2.85it/s]\n"
     ]
    },
    {
     "name": "stdout",
     "output_type": "stream",
     "text": [
      "Average train loss: 0.36408089956299206\n",
      "Validation F1 Score: 0.43222834113130737\n",
      "\n",
      "Epoch 9/10\n"
     ]
    },
    {
     "name": "stderr",
     "output_type": "stream",
     "text": [
      "100%|██████████| 61/61 [00:20<00:00,  2.93it/s]\n"
     ]
    },
    {
     "name": "stdout",
     "output_type": "stream",
     "text": [
      "Average train loss: 0.34521416098367974\n",
      "Validation F1 Score: 0.43597512842123626\n",
      "\n",
      "Epoch 10/10\n"
     ]
    },
    {
     "name": "stderr",
     "output_type": "stream",
     "text": [
      "100%|██████████| 61/61 [00:20<00:00,  2.94it/s]\n"
     ]
    },
    {
     "name": "stdout",
     "output_type": "stream",
     "text": [
      "Average train loss: 0.3200153368906897\n",
      "Validation F1 Score: 0.43174745738414\n"
     ]
    }
   ],
   "source": [
    "import torch\n",
    "from sklearn.metrics import f1_score\n",
    "from tqdm import tqdm\n",
    "\n",
    "device = torch.device(\"cuda\" if torch.cuda.is_available() else \"cpu\")\n",
    "model.to(device)\n",
    "epochs = 10\n",
    "\n",
    "for epoch in range(epochs):\n",
    "    print(f'\\nEpoch {epoch + 1}/{epochs}')\n",
    "    model.train()\n",
    "    total_loss = 0\n",
    "\n",
    "    for step, batch in enumerate(tqdm(train_dataloader)):\n",
    "        batch = tuple(t.to(device) for t in batch)\n",
    "        b_input_ids, b_input_mask, b_labels = batch\n",
    "        model.zero_grad()\n",
    "\n",
    "        outputs = model(b_input_ids, attention_mask=b_input_mask, labels=b_labels)\n",
    "        loss = outputs[0]  # Loss is always the first item when labels are provided\n",
    "        loss.backward()\n",
    "        torch.nn.utils.clip_grad_norm_(model.parameters(), 1.0)\n",
    "        optimizer.step()\n",
    "        total_loss += loss.item()\n",
    "\n",
    "    avg_train_loss = total_loss / len(train_dataloader)\n",
    "    print(f'Average train loss: {avg_train_loss}')\n",
    "\n",
    "    # Validation loop\n",
    "    model.eval()\n",
    "    predictions, true_labels = [], []\n",
    "\n",
    "    for batch in validation_dataloader:\n",
    "        batch = tuple(t.to(device) for t in batch)\n",
    "        b_input_ids, b_input_mask, b_labels = batch\n",
    "\n",
    "        with torch.no_grad():\n",
    "            outputs = model(b_input_ids, attention_mask=b_input_mask)\n",
    "\n",
    "        logits = outputs[0].detach().cpu().numpy()  # Access logits directly as the first output\n",
    "        label_ids = b_labels.to('cpu').numpy()\n",
    "\n",
    "        # Flatten output and labels for F1 calculation\n",
    "        batch_predictions = [p for sublist in np.argmax(logits, axis=2) for p in sublist]\n",
    "        batch_true_labels = [label for sublist in label_ids for label in sublist]\n",
    "        predictions.extend(batch_predictions)\n",
    "        true_labels.extend(batch_true_labels)\n",
    "\n",
    "    # Calculate and print F1 score excluding padding label (-100 assumed as padding)\n",
    "    mask = np.array(true_labels) != -100\n",
    "    filtered_labels = np.array(true_labels)[mask]\n",
    "    filtered_predictions = np.array(predictions)[mask]\n",
    "\n",
    "    print(\"Validation F1 Score:\", f1_score(filtered_labels, filtered_predictions, average='macro'))"
   ]
  },
  {
   "cell_type": "code",
   "execution_count": null,
   "id": "AfciGe1rh07x",
   "metadata": {
    "colab": {
     "base_uri": "https://localhost:8080/",
     "height": 825
    },
    "id": "AfciGe1rh07x",
    "outputId": "d96b53cd-13b7-4dc1-89f9-a7d1802f4ade"
   },
   "outputs": [
    {
     "name": "stdout",
     "output_type": "stream",
     "text": [
      "Confusion Matrix:\n",
      " [[  31    6   13  181]\n",
      " [   2   30   21   96]\n",
      " [   3   11   93  214]\n",
      " [  27   27   96 3058]]\n"
     ]
    },
    {
     "data": {
      "image/png": "[encoded data removed]",
      "text/plain": [
       "<Figure size 800x800 with 1 Axes>"
      ]
     },
     "metadata": {},
     "output_type": "display_data"
    }
   ],
   "source": [
    "from sklearn.metrics import confusion_matrix\n",
    "import matplotlib.pyplot as plt\n",
    "import numpy as np\n",
    "\n",
    "# This would be at the end of your validation loop, after the F1 score calculation\n",
    "conf_matrix = confusion_matrix(filtered_labels, filtered_predictions)\n",
    "print(\"Confusion Matrix:\\n\", conf_matrix)\n",
    "\n",
    "# Plotting the confusion matrix\n",
    "fig, ax = plt.subplots(figsize=(8, 8))\n",
    "ax.matshow(conf_matrix, cmap=plt.cm.Blues, alpha=0.3)\n",
    "for i in range(conf_matrix.shape[0]):\n",
    "    for j in range(conf_matrix.shape[1]):\n",
    "        ax.text(x=j, y=i, s=conf_matrix[i, j], va='center', ha='center', size='large')\n",
    "\n",
    "plt.xlabel('Predictions', fontsize=18)\n",
    "plt.ylabel('Actuals', fontsize=18)\n",
    "plt.title('Confusion Matrix', fontsize=18)\n",
    "plt.show()"
   ]
  },
  {
   "cell_type": "code",
   "execution_count": null,
   "id": "-p9w0BsVh9SZ",
   "metadata": {
    "colab": {
     "base_uri": "https://localhost:8080/",
     "height": 1000
    },
    "id": "-p9w0BsVh9SZ",
    "outputId": "8cc860ad-5c7d-4c67-b4be-acdf7852a00d"
   },
   "outputs": [
    {
     "name": "stdout",
     "output_type": "stream",
     "text": [
      "\n",
      "Epoch 1/10\n"
     ]
    },
    {
     "name": "stderr",
     "output_type": "stream",
     "text": [
      "100%|██████████| 61/61 [00:20<00:00,  2.96it/s]\n"
     ]
    },
    {
     "name": "stdout",
     "output_type": "stream",
     "text": [
      "Average train loss: 0.3010335584155849\n",
      "\n",
      "Epoch 2/10\n"
     ]
    },
    {
     "name": "stderr",
     "output_type": "stream",
     "text": [
      "100%|██████████| 61/61 [00:21<00:00,  2.87it/s]\n"
     ]
    },
    {
     "name": "stdout",
     "output_type": "stream",
     "text": [
      "Average train loss: 0.2813620821374362\n",
      "\n",
      "Epoch 3/10\n"
     ]
    },
    {
     "name": "stderr",
     "output_type": "stream",
     "text": [
      "100%|██████████| 61/61 [00:21<00:00,  2.87it/s]\n"
     ]
    },
    {
     "name": "stdout",
     "output_type": "stream",
     "text": [
      "Average train loss: 0.26205424463651217\n",
      "\n",
      "Epoch 4/10\n"
     ]
    },
    {
     "name": "stderr",
     "output_type": "stream",
     "text": [
      "100%|██████████| 61/61 [00:20<00:00,  2.93it/s]\n"
     ]
    },
    {
     "name": "stdout",
     "output_type": "stream",
     "text": [
      "Average train loss: 0.24242871767673335\n",
      "\n",
      "Epoch 5/10\n"
     ]
    },
    {
     "name": "stderr",
     "output_type": "stream",
     "text": [
      "100%|██████████| 61/61 [00:20<00:00,  2.92it/s]\n"
     ]
    },
    {
     "name": "stdout",
     "output_type": "stream",
     "text": [
      "Average train loss: 0.2293558683796007\n",
      "\n",
      "Epoch 6/10\n"
     ]
    },
    {
     "name": "stderr",
     "output_type": "stream",
     "text": [
      "100%|██████████| 61/61 [00:21<00:00,  2.89it/s]\n"
     ]
    },
    {
     "name": "stdout",
     "output_type": "stream",
     "text": [
      "Average train loss: 0.20706027636273963\n",
      "\n",
      "Epoch 7/10\n"
     ]
    },
    {
     "name": "stderr",
     "output_type": "stream",
     "text": [
      "100%|██████████| 61/61 [00:21<00:00,  2.88it/s]\n"
     ]
    },
    {
     "name": "stdout",
     "output_type": "stream",
     "text": [
      "Average train loss: 0.19956746050080315\n",
      "\n",
      "Epoch 8/10\n"
     ]
    },
    {
     "name": "stderr",
     "output_type": "stream",
     "text": [
      "100%|██████████| 61/61 [00:21<00:00,  2.87it/s]\n"
     ]
    },
    {
     "name": "stdout",
     "output_type": "stream",
     "text": [
      "Average train loss: 0.1853019035741931\n",
      "\n",
      "Epoch 9/10\n"
     ]
    },
    {
     "name": "stderr",
     "output_type": "stream",
     "text": [
      "100%|██████████| 61/61 [00:21<00:00,  2.82it/s]\n"
     ]
    },
    {
     "name": "stdout",
     "output_type": "stream",
     "text": [
      "Average train loss: 0.1727470016626061\n",
      "\n",
      "Epoch 10/10\n"
     ]
    },
    {
     "name": "stderr",
     "output_type": "stream",
     "text": [
      "100%|██████████| 61/61 [00:21<00:00,  2.86it/s]\n"
     ]
    },
    {
     "name": "stdout",
     "output_type": "stream",
     "text": [
      "Average train loss: 0.1585860852701742\n"
     ]
    },
    {
     "data": {
      "image/png": "[encoded data removed]",
      "text/plain": [
       "<Figure size 1000x500 with 1 Axes>"
      ]
     },
     "metadata": {},
     "output_type": "display_data"
    }
   ],
   "source": [
    "import matplotlib.pyplot as plt\n",
    "\n",
    "train_losses = []  # Initialize an empty list to store the average loss per epoch\n",
    "\n",
    "for epoch in range(epochs):\n",
    "    print(f'\\nEpoch {epoch + 1}/{epochs}')\n",
    "    model.train()\n",
    "    total_loss = 0\n",
    "\n",
    "    for step, batch in enumerate(tqdm(train_dataloader)):\n",
    "        batch = tuple(t.to(device) for t in batch)\n",
    "        b_input_ids, b_input_mask, b_labels = batch\n",
    "        model.zero_grad()\n",
    "\n",
    "        outputs = model(b_input_ids, attention_mask=b_input_mask, labels=b_labels)\n",
    "        loss = outputs[0]  # Loss is always the first item when labels are provided\n",
    "        loss.backward()\n",
    "        torch.nn.utils.clip_grad_norm_(model.parameters(), 1.0)\n",
    "        optimizer.step()\n",
    "        total_loss += loss.item()\n",
    "\n",
    "    avg_train_loss = total_loss / len(train_dataloader)\n",
    "    print(f'Average train loss: {avg_train_loss}')\n",
    "    train_losses.append(avg_train_loss)  # Append the average loss for the current epoch to the list\n",
    "\n",
    "# Plotting the training loss\n",
    "plt.figure(figsize=(10, 5))\n",
    "plt.plot(range(1, epochs + 1), train_losses, label='Training Loss')\n",
    "plt.xlabel('Epochs', fontsize=14)\n",
    "plt.ylabel('Loss', fontsize=14)\n",
    "plt.title('Training Loss Curve', fontsize=16)\n",
    "plt.legend()\n",
    "plt.show()\n"
   ]
  },
  {
   "cell_type": "markdown",
   "id": "Om1CiaZVYpp-",
   "metadata": {
    "id": "Om1CiaZVYpp-"
   },
   "source": [
    "## Experiment 2"
   ]
  },
  {
   "cell_type": "code",
   "execution_count": null,
   "id": "6fkVqCs46eRq",
   "metadata": {
    "colab": {
     "base_uri": "https://localhost:8080/"
    },
    "id": "6fkVqCs46eRq",
    "outputId": "2b5b3fb8-0bf5-409c-d2e7-1c73548b9a1c"
   },
   "outputs": [
    {
     "name": "stderr",
     "output_type": "stream",
     "text": [
      "Some weights of BertForTokenClassification were not initialized from the model checkpoint at bert-base-uncased and are newly initialized: ['classifier.bias', 'classifier.weight']\n",
      "You should probably TRAIN this model on a down-stream task to be able to use it for predictions and inference.\n"
     ]
    }
   ],
   "source": [
    "import torch\n",
    "from torch.utils.data import DataLoader, TensorDataset, RandomSampler\n",
    "from transformers import BertForTokenClassification, BertTokenizer, AdamW\n",
    "from sklearn.metrics import precision_recall_fscore_support\n",
    "import numpy as np\n",
    "from datasets import load_dataset\n",
    "\n",
    "# Load the dataset\n",
    "dataset = load_dataset('surrey-nlp/PLOD-CW')\n",
    "\n",
    "# Load tokenizer and model\n",
    "tokenizer = BertTokenizer.from_pretrained('bert-base-uncased')\n",
    "model = BertForTokenClassification.from_pretrained('bert-base-uncased', num_labels=6)\n",
    "\n",
    "# Define the label mapping based on your dataset's labels\n",
    "label_mapping = {'B-O': 0, 'B-AC': 1, 'I-AC': 2, 'B-LF': 3, 'I-LF': 4, 'O': 5}\n",
    "\n",
    "# Prepare the data\n",
    "def encode_examples(examples, max_length=128):\n",
    "    # Tokenization of text\n",
    "    texts = [\" \".join(example['tokens']) for example in examples]\n",
    "    tokens = tokenizer.batch_encode_plus(\n",
    "        texts,\n",
    "        max_length=max_length,\n",
    "        padding='max_length',\n",
    "        truncation=True,\n",
    "        return_tensors='pt'\n",
    "    )\n",
    "\n",
    "    # Prepare and convert labels using the mapping\n",
    "    padded_labels = []\n",
    "    for example in examples:\n",
    "        # Convert string labels to integers using the label mapping\n",
    "        label_ids = [label_mapping[label] for label in example['ner_tags']]\n",
    "\n",
    "        # Process labels: truncate and then pad\n",
    "        label_ids = label_ids[:max_length]  # Truncate labels\n",
    "        label_ids += [label_mapping['O']] * (max_length - len(label_ids))  # Pad labels to max_length with the 'O' label index\n",
    "        padded_labels.append(label_ids)\n",
    "\n",
    "    # Convert the list of lists into a tensor\n",
    "    labels_tensor = torch.tensor(padded_labels, dtype=torch.long)\n",
    "    return tokens, labels_tensor"
   ]
  },
  {
   "cell_type": "code",
   "execution_count": null,
   "id": "oFw_cMc06nqz",
   "metadata": {
    "id": "oFw_cMc06nqz"
   },
   "outputs": [],
   "source": [
    "# Now call encode_examples with the dataset\n",
    "train_tokens, train_labels = encode_examples(dataset['train'])\n",
    "val_tokens, val_labels = encode_examples(dataset['validation'])\n",
    "\n",
    "train_tokens, train_labels = encode_examples(dataset['train'])\n",
    "val_tokens, val_labels = encode_examples(dataset['validation'])"
   ]
  },
  {
   "cell_type": "code",
   "execution_count": null,
   "id": "LHsfLlsw6ntF",
   "metadata": {
    "id": "LHsfLlsw6ntF"
   },
   "outputs": [],
   "source": [
    "# Dataloaders\n",
    "train_data = TensorDataset(train_tokens['input_ids'], train_tokens['attention_mask'], train_labels)\n",
    "train_sampler = RandomSampler(train_data)\n",
    "train_dataloader = DataLoader(train_data, sampler=train_sampler, batch_size=16)\n",
    "\n",
    "val_data = TensorDataset(val_tokens['input_ids'], val_tokens['attention_mask'], val_labels)\n",
    "val_dataloader = DataLoader(val_data, batch_size=16)"
   ]
  },
  {
   "cell_type": "code",
   "execution_count": null,
   "id": "R8Fv_PUexq0l",
   "metadata": {
    "colab": {
     "base_uri": "https://localhost:8080/"
    },
    "id": "R8Fv_PUexq0l",
    "outputId": "891da6db-58a0-4b49-a518-128979a6afd9"
   },
   "outputs": [
    {
     "name": "stderr",
     "output_type": "stream",
     "text": [
      "/usr/local/lib/python3.10/dist-packages/transformers/optimization.py:521: FutureWarning: This implementation of AdamW is deprecated and will be removed in a future version. Use the PyTorch implementation torch.optim.AdamW instead, or set `no_deprecation_warning=True` to disable this warning\n",
      "  warnings.warn(\n"
     ]
    },
    {
     "name": "stdout",
     "output_type": "stream",
     "text": [
      "F1 Score: 0.923755611809884\n"
     ]
    }
   ],
   "source": [
    "# Optimizer\n",
    "optimizer = AdamW(model.parameters(), lr=2e-5)\n",
    "\n",
    "# Device configuration\n",
    "device = torch.device(\"cuda\" if torch.cuda.is_available() else \"cpu\")\n",
    "model.to(device)\n",
    "\n",
    "# Training function\n",
    "def train_model(model, dataloader, optimizer):\n",
    "    model.train()\n",
    "    total_loss = 0\n",
    "    for batch in dataloader:\n",
    "        batch = tuple(t.to(device) for t in batch)\n",
    "        b_input_ids, b_input_mask, b_labels = batch\n",
    "        model.zero_grad()\n",
    "        outputs = model(b_input_ids, token_type_ids=None, attention_mask=b_input_mask, labels=b_labels)\n",
    "        loss = outputs.loss\n",
    "        loss.backward()\n",
    "        optimizer.step()\n",
    "        total_loss += loss.item()\n",
    "    return total_loss / len(dataloader)\n",
    "\n",
    "# Evaluation function\n",
    "def evaluate_model(model, dataloader):\n",
    "    model.eval()\n",
    "    predictions, true_labels = [], []\n",
    "    for batch in dataloader:\n",
    "        batch = tuple(t.to(device) for t in batch)\n",
    "        b_input_ids, b_input_mask, b_labels = batch\n",
    "        with torch.no_grad():\n",
    "            outputs = model(b_input_ids, token_type_ids=None, attention_mask=b_input_mask)\n",
    "        logits = outputs.logits\n",
    "        logits = logits.detach().cpu().numpy()\n",
    "        label_ids = b_labels.to('cpu').numpy()\n",
    "        predictions.extend([list(p) for p in np.argmax(logits, axis=2)])\n",
    "        true_labels.extend(label_ids)\n",
    "    # Flatten lists\n",
    "    predictions = [p_i for sublist in predictions for p_i in sublist if p_i != -100]\n",
    "    true_labels = [l_i for sublist in true_labels for l_i in sublist if l_i != -100]\n",
    "    # Calculate F1 score\n",
    "    precision, recall, f1, _ = precision_recall_fscore_support(true_labels, predictions, average='weighted', zero_division=1)\n",
    "    return f1\n",
    "\n",
    "# Run training and evaluation\n",
    "for _ in range(3):  # number of epochs\n",
    "    train_model(model, train_dataloader, optimizer)\n",
    "\n",
    "f1_score = evaluate_model(model, val_dataloader)\n",
    "print(\"F1 Score:\", f1_score)"
   ]
  },
  {
   "cell_type": "code",
   "execution_count": null,
   "id": "q9F48XYSkQq2",
   "metadata": {
    "id": "q9F48XYSkQq2"
   },
   "outputs": [],
   "source": [
    "def train_model(model, dataloader, optimizer):\n",
    "    model.train()\n",
    "    total_loss = 0\n",
    "    losses = []\n",
    "    for batch in dataloader:\n",
    "        batch = tuple(t.to(device) for t in batch)\n",
    "        b_input_ids, b_input_mask, b_labels = batch\n",
    "        model.zero_grad()\n",
    "        outputs = model(b_input_ids, token_type_ids=None, attention_mask=b_input_mask, labels=b_labels)\n",
    "        loss = outputs.loss\n",
    "        loss.backward()\n",
    "        optimizer.step()\n",
    "        total_loss += loss.item()\n",
    "        losses.append(loss.item())\n",
    "    average_loss = total_loss / len(dataloader)\n",
    "    return losses\n"
   ]
  },
  {
   "cell_type": "code",
   "execution_count": null,
   "id": "0kEjA3GkkSVH",
   "metadata": {
    "id": "0kEjA3GkkSVH"
   },
   "outputs": [],
   "source": [
    "from sklearn.metrics import confusion_matrix\n",
    "\n",
    "def evaluate_model(model, dataloader):\n",
    "    model.eval()\n",
    "    predictions, true_labels = [], []\n",
    "    for batch in dataloader:\n",
    "        batch = tuple(t.to(device) for t in batch)\n",
    "        b_input_ids, b_input_mask, b_labels = batch\n",
    "        with torch.no_grad():\n",
    "            outputs = model(b_input_ids, token_type_ids=None, attention_mask=b_input_mask)\n",
    "        logits = outputs.logits\n",
    "        logits = logits.detach().cpu().numpy()\n",
    "        label_ids = b_labels.to('cpu').numpy()\n",
    "        batch_preds = np.argmax(logits, axis=2)\n",
    "        for i in range(batch_preds.shape[0]):\n",
    "            pred = [p for j, p in enumerate(batch_preds[i]) if b_labels[i, j] != -100]\n",
    "            label = [l for j, l in enumerate(label_ids[i]) if l != -100]\n",
    "            predictions.extend(pred)\n",
    "            true_labels.extend(label)\n",
    "    precision, recall, f1, _ = precision_recall_fscore_support(true_labels, predictions, average='weighted', zero_division=1)\n",
    "    conf_matrix = confusion_matrix(true_labels, predictions)\n",
    "    return f1, conf_matrix\n"
   ]
  },
  {
   "cell_type": "code",
   "execution_count": null,
   "id": "oyECOPdwkVdM",
   "metadata": {
    "id": "oyECOPdwkVdM"
   },
   "outputs": [],
   "source": [
    "def plot_loss_curve(losses):\n",
    "    plt.figure(figsize=(10, 5))\n",
    "    plt.plot(losses, label='Training Loss')\n",
    "    plt.xlabel('Iterations', fontsize=14)\n",
    "    plt.ylabel('Loss', fontsize=14)\n",
    "    plt.title('Training Loss Curve', fontsize=16)\n",
    "    plt.legend()\n",
    "    plt.show()\n"
   ]
  },
  {
   "cell_type": "code",
   "execution_count": null,
   "id": "8RgkFa0-kh1R",
   "metadata": {
    "id": "8RgkFa0-kh1R"
   },
   "outputs": [],
   "source": [
    "def plot_confusion_matrix(conf_matrix):\n",
    "    fig, ax = plt.subplots(figsize=(8, 8))\n",
    "    ax.matshow(conf_matrix, cmap=plt.cm.Blues, alpha=0.3)\n",
    "    for i in range(conf_matrix.shape[0]):\n",
    "        for j in range(conf_matrix.shape[1]):\n",
    "            ax.text(x=j, y=i, s=conf_matrix[i, j], va='center', ha='center', size='large')\n",
    "\n",
    "    plt.xlabel('Predicted Labels', fontsize=14)\n",
    "    plt.ylabel('True Labels', fontsize=14)\n",
    "    plt.title('Confusion Matrix', fontsize=16)\n",
    "    plt.show()\n"
   ]
  },
  {
   "cell_type": "code",
   "execution_count": null,
   "id": "6lPb0EybklQX",
   "metadata": {
    "colab": {
     "base_uri": "https://localhost:8080/",
     "height": 1000
    },
    "id": "6lPb0EybklQX",
    "outputId": "445a85ee-bef3-4758-e215-fd77e1fab5df"
   },
   "outputs": [
    {
     "name": "stdout",
     "output_type": "stream",
     "text": [
      "F1 Score: 0.934146742032576\n"
     ]
    },
    {
     "data": {
      "image/png": "[encoded data removed]",
      "text/plain": [
       "<Figure size 1000x500 with 1 Axes>"
      ]
     },
     "metadata": {},
     "output_type": "display_data"
    },
    {
     "data": {
      "image/png": "[encoded data removed]",
      "text/plain": [
       "<Figure size 800x800 with 1 Axes>"
      ]
     },
     "metadata": {},
     "output_type": "display_data"
    }
   ],
   "source": [
    "all_losses = []\n",
    "for _ in range(3):  # number of epochs\n",
    "    epoch_losses = train_model(model, train_dataloader, optimizer)\n",
    "    all_losses.extend(epoch_losses)\n",
    "\n",
    "f1_score, conf_matrix = evaluate_model(model, val_dataloader)\n",
    "print(\"F1 Score:\", f1_score)\n",
    "\n",
    "plot_loss_curve(all_losses)\n",
    "plot_confusion_matrix(conf_matrix)\n"
   ]
  },
  {
   "cell_type": "markdown",
   "id": "-ZsPJ7MjwlWz",
   "metadata": {
    "id": "-ZsPJ7MjwlWz"
   },
   "source": [
    "## Experiment 3"
   ]
  },
  {
   "cell_type": "code",
   "execution_count": null,
   "id": "lBB4wnTmBRzI",
   "metadata": {
    "id": "lBB4wnTmBRzI"
   },
   "outputs": [],
   "source": [
    "import torch\n",
    "from torch import nn, optim\n",
    "from torch.utils.data import DataLoader, TensorDataset, random_split\n",
    "import numpy as np\n",
    "from sklearn.metrics import f1_score\n",
    "from tqdm import tqdm\n",
    "from datasets import load_dataset\n",
    "from transformers import BertTokenizer\n",
    "\n",
    "# Load the dataset and tokenizer\n",
    "dataset = load_dataset('surrey-nlp/PLOD-CW')\n",
    "tokenizer = BertTokenizer.from_pretrained('bert-base-uncased')\n",
    "\n",
    "# Define label mapping\n",
    "label_mapping = {'B-O': 0, 'B-AC': 1, 'I-AC': 2, 'B-LF': 3, 'I-LF': 4, 'O': 5}"
   ]
  },
  {
   "cell_type": "code",
   "execution_count": null,
   "id": "GjTKmEPTBXJJ",
   "metadata": {
    "id": "GjTKmEPTBXJJ"
   },
   "outputs": [],
   "source": [
    "def encode_examples(examples, max_length=128):\n",
    "    texts = [\" \".join(example['tokens']) for example in examples]\n",
    "    tokens = tokenizer.batch_encode_plus(\n",
    "        texts, max_length=max_length, padding='max_length', truncation=True, return_tensors='pt'\n",
    "    )\n",
    "\n",
    "    padded_labels = []\n",
    "    for example in examples:\n",
    "        label_ids = [label_mapping[label] for label in example['ner_tags']]\n",
    "        label_ids = label_ids[:max_length] + [label_mapping['O']] * (max_length - len(label_ids))\n",
    "        padded_labels.append(label_ids)\n",
    "\n",
    "    labels_tensor = torch.tensor(padded_labels, dtype=torch.long)\n",
    "    return tokens, labels_tensor\n",
    "\n",
    "train_tokens, train_labels = encode_examples(dataset['train'])"
   ]
  },
  {
   "cell_type": "code",
   "execution_count": null,
   "id": "9h2X8U6iBbfq",
   "metadata": {
    "id": "9h2X8U6iBbfq"
   },
   "outputs": [],
   "source": [
    "class RNNModel(nn.Module):\n",
    "    def __init__(self, vocab_size, embedding_dim, hidden_dim, output_dim):\n",
    "        super(RNNModel, self).__init__()\n",
    "        self.embedding = nn.Embedding(vocab_size, embedding_dim)\n",
    "        self.rnn = nn.GRU(embedding_dim, hidden_dim, batch_first=True)\n",
    "        self.fc = nn.Linear(hidden_dim, output_dim)\n",
    "\n",
    "    def forward(self, x):\n",
    "        embedded = self.embedding(x.long())  # Ensure input is long for embedding layer\n",
    "        output, _ = self.rnn(embedded)\n",
    "        output = self.fc(output)\n",
    "        return output"
   ]
  },
  {
   "cell_type": "code",
   "execution_count": null,
   "id": "SPpeW9hgBdwi",
   "metadata": {
    "id": "SPpeW9hgBdwi"
   },
   "outputs": [],
   "source": [
    "def train_model(model, data_loader, optimizer, criterion, epochs=10):\n",
    "    model.train()\n",
    "    for epoch in range(epochs):\n",
    "        total_loss = 0\n",
    "        for inputs, labels in data_loader:\n",
    "            inputs = inputs.float()  # Convert inputs to float\n",
    "            labels = labels.view(-1)  # Flatten labels for loss computation\n",
    "\n",
    "            optimizer.zero_grad()\n",
    "            outputs = model(inputs)\n",
    "            loss = criterion(outputs.view(-1, outputs.shape[-1]), labels)\n",
    "            loss.backward()\n",
    "            optimizer.step()\n",
    "            total_loss += loss.item()\n",
    "        print(f'Epoch {epoch + 1}, Loss: {total_loss / len(data_loader)}')"
   ]
  },
  {
   "cell_type": "code",
   "execution_count": null,
   "id": "rc6iOdKbEBtU",
   "metadata": {
    "id": "rc6iOdKbEBtU"
   },
   "outputs": [],
   "source": [
    "def evaluate_model(model, data_loader):\n",
    "    model.eval()\n",
    "    true_labels, predictions = [], []\n",
    "    with torch.no_grad():\n",
    "        for inputs, labels in data_loader:\n",
    "            inputs = inputs.float()  # Convert inputs to float\n",
    "            labels = labels.view(-1)  # Flatten labels for evaluation\n",
    "\n",
    "            outputs = model(inputs)\n",
    "            _, predicted = torch.max(outputs, -1)\n",
    "            predicted = predicted.view(-1).numpy()  # Flatten predictions\n",
    "\n",
    "            # Only add labels and predictions where labels are not padding (-100)\n",
    "            valid_indices = labels != -100\n",
    "            valid_labels = labels[valid_indices].numpy()\n",
    "            valid_predictions = predicted[valid_indices]\n",
    "\n",
    "            true_labels.extend(valid_labels)\n",
    "            predictions.extend(valid_predictions)\n",
    "    return f1_score(true_labels, predictions, average='macro')"
   ]
  },
  {
   "cell_type": "code",
   "execution_count": null,
   "id": "9Cp9EPPWBeR3",
   "metadata": {
    "colab": {
     "base_uri": "https://localhost:8080/"
    },
    "id": "9Cp9EPPWBeR3",
    "outputId": "2fd85ccf-f95b-4f86-f4e5-eaab9e694b78"
   },
   "outputs": [
    {
     "name": "stdout",
     "output_type": "stream",
     "text": [
      "Epoch 1, Loss: 0.5134634726187762\n",
      "Epoch 2, Loss: 0.32688580278088064\n",
      "Epoch 3, Loss: 0.29323912587235956\n",
      "Epoch 4, Loss: 0.2648752971607096\n",
      "Epoch 5, Loss: 0.23804731973830393\n",
      "Epoch 6, Loss: 0.21618891551214106\n",
      "Epoch 7, Loss: 0.20397572044064016\n",
      "Epoch 8, Loss: 0.1852591195527245\n",
      "Epoch 9, Loss: 0.16666878540726268\n",
      "Epoch 10, Loss: 0.15322359476019354\n",
      "RNN Model F1 Score: 0.5210017521675251\n"
     ]
    }
   ],
   "source": [
    "vocab_size = tokenizer.vocab_size  # Total number of tokens in the tokenizer\n",
    "embedding_dim = 768  # Typical embedding size used in many models like BERT\n",
    "input_dim = 768  # Typically the size of the embedding layer\n",
    "hidden_dim = 256\n",
    "output_dim = len(label_mapping)\n",
    "\n",
    "\n",
    "rnn_model = RNNModel(vocab_size, embedding_dim, hidden_dim, output_dim)\n",
    "optimizer = optim.Adam(rnn_model.parameters(), lr=0.001)\n",
    "criterion = nn.CrossEntropyLoss()\n",
    "\n",
    "# DataLoader remains unchanged\n",
    "train_data = TensorDataset(train_tokens['input_ids'], train_labels)\n",
    "train_loader = DataLoader(train_data, batch_size=32, shuffle=True)\n",
    "\n",
    "train_model(rnn_model, train_loader, optimizer, criterion)\n",
    "f1 = evaluate_model(rnn_model, train_loader)\n",
    "print(f'RNN Model F1 Score: {f1}')"
   ]
  },
  {
   "cell_type": "code",
   "execution_count": null,
   "id": "CZK17YxWl83R",
   "metadata": {
    "id": "CZK17YxWl83R"
   },
   "outputs": [],
   "source": [
    "def train_model(model, data_loader, optimizer, criterion, epochs=10):\n",
    "    model.train()\n",
    "    epoch_losses = []  # Store losses for plotting\n",
    "    for epoch in range(epochs):\n",
    "        total_loss = 0\n",
    "        for inputs, labels in data_loader:\n",
    "            inputs = inputs.float()  # Ensure inputs are floats\n",
    "            labels = labels.view(-1)  # Flatten labels for loss computation\n",
    "\n",
    "            optimizer.zero_grad()\n",
    "            outputs = model(inputs)\n",
    "            loss = criterion(outputs.view(-1, outputs.shape[-1]), labels)\n",
    "            loss.backward()\n",
    "            optimizer.step()\n",
    "            total_loss += loss.item()\n",
    "        epoch_loss = total_loss / len(data_loader)\n",
    "        epoch_losses.append(epoch_loss)\n",
    "        print(f'Epoch {epoch + 1}, Loss: {epoch_loss}')\n",
    "    return epoch_losses\n"
   ]
  },
  {
   "cell_type": "code",
   "execution_count": null,
   "id": "4gYHdR21mJUJ",
   "metadata": {
    "id": "4gYHdR21mJUJ"
   },
   "outputs": [],
   "source": [
    "from sklearn.metrics import confusion_matrix\n",
    "\n",
    "def evaluate_model(model, data_loader):\n",
    "    model.eval()\n",
    "    true_labels, predictions = [], []\n",
    "    with torch.no_grad():\n",
    "        for inputs, labels in data_loader:\n",
    "            inputs = inputs.float()\n",
    "            labels = labels.view(-1)\n",
    "\n",
    "            outputs = model(inputs)\n",
    "            _, predicted = torch.max(outputs, -1)\n",
    "            predicted = predicted.view(-1).numpy()  # Flatten predictions\n",
    "\n",
    "            # Filter out padding values\n",
    "            valid_indices = labels != -100\n",
    "            valid_labels = labels[valid_indices].numpy()\n",
    "            valid_predictions = predicted[valid_indices]\n",
    "\n",
    "            true_labels.extend(valid_labels)\n",
    "            predictions.extend(valid_predictions)\n",
    "    f1 = f1_score(true_labels, predictions, average='macro')\n",
    "    conf_mat = confusion_matrix(true_labels, predictions)\n",
    "    return f1, conf_mat\n"
   ]
  },
  {
   "cell_type": "code",
   "execution_count": null,
   "id": "QJpOK9qomK5-",
   "metadata": {
    "id": "QJpOK9qomK5-"
   },
   "outputs": [],
   "source": [
    "import matplotlib.pyplot as plt\n",
    "\n",
    "def plot_loss_curve(losses):\n",
    "    plt.plot(losses, label='Training Loss')\n",
    "    plt.title('Training Loss Curve')\n",
    "    plt.xlabel('Epoch')\n",
    "    plt.ylabel('Loss')\n",
    "    plt.legend()\n",
    "    plt.show()\n"
   ]
  },
  {
   "cell_type": "code",
   "execution_count": null,
   "id": "1_GWJVlemNo8",
   "metadata": {
    "colab": {
     "base_uri": "https://localhost:8080/",
     "height": 807
    },
    "id": "1_GWJVlemNo8",
    "outputId": "05629484-54bf-47cc-be72-212e49b7e9ca"
   },
   "outputs": [
    {
     "data": {
      "image/png": "[encoded data removed]",
      "text/plain": [
       "<Figure size 800x800 with 2 Axes>"
      ]
     },
     "metadata": {},
     "output_type": "display_data"
    }
   ],
   "source": [
    "import matplotlib.pyplot as plt\n",
    "import numpy as np\n",
    "\n",
    "def plot_confusion_matrix(conf_matrix, labels):\n",
    "    num_classes = len(labels)\n",
    "    # Ensure the confusion matrix has dimensions that match the number of classes\n",
    "    if conf_matrix.shape[0] < num_classes:\n",
    "        # Resize the confusion matrix to add missing classes\n",
    "        resized_matrix = np.zeros((num_classes, num_classes), dtype=int)\n",
    "        resized_matrix[:conf_matrix.shape[0], :conf_matrix.shape[1]] = conf_matrix\n",
    "        conf_matrix = resized_matrix\n",
    "\n",
    "    fig, ax = plt.subplots(figsize=(8, 8))\n",
    "    im = ax.imshow(conf_matrix, interpolation='nearest', cmap=plt.cm.Blues)\n",
    "    ax.figure.colorbar(im, ax=ax)\n",
    "    ax.set(xticks=np.arange(num_classes),\n",
    "           yticks=np.arange(num_classes),\n",
    "           xticklabels=labels, yticklabels=labels,\n",
    "           title='Confusion Matrix',\n",
    "           ylabel='True label',\n",
    "           xlabel='Predicted label')\n",
    "\n",
    "    plt.setp(ax.get_xticklabels(), rotation=0, ha=\"right\", rotation_mode=\"anchor\")\n",
    "    fmt = 'd'\n",
    "    thresh = conf_matrix.max() / 2.\n",
    "    for i in range(num_classes):\n",
    "        for j in range(num_classes):\n",
    "            ax.text(j, i, format(conf_matrix[i, j], fmt),\n",
    "                    ha=\"center\", va=\"center\",\n",
    "                    color=\"white\" if conf_matrix[i, j] > thresh else \"black\")\n",
    "    fig.tight_layout()\n",
    "    plt.show()\n",
    "plot_confusion_matrix(conf_matrix, list(label_mapping.keys()))  # Pass label names for axes"
   ]
  },
  {
   "cell_type": "code",
   "execution_count": null,
   "id": "HoAGuNsYmRMA",
   "metadata": {
    "colab": {
     "base_uri": "https://localhost:8080/",
     "height": 663
    },
    "id": "HoAGuNsYmRMA",
    "outputId": "5f06210d-74a1-4e06-ec1b-8bbc6a8252c6"
   },
   "outputs": [
    {
     "name": "stdout",
     "output_type": "stream",
     "text": [
      "Epoch 1, Loss: 0.13835150332135313\n",
      "Epoch 2, Loss: 0.1229129928876372\n",
      "Epoch 3, Loss: 0.11222335170297061\n",
      "Epoch 4, Loss: 0.10119401071878041\n",
      "Epoch 5, Loss: 0.09196410306236323\n",
      "Epoch 6, Loss: 0.08272310576456435\n",
      "Epoch 7, Loss: 0.07376937075134586\n",
      "Epoch 8, Loss: 0.0659457016736269\n",
      "Epoch 9, Loss: 0.05769513032453902\n",
      "Epoch 10, Loss: 0.05143608602092547\n",
      "RNN Model F1 Score: 0.9006638315432094\n"
     ]
    },
    {
     "data": {
      "image/png": "[encoded data removed]",
      "text/plain": [
       "<Figure size 640x480 with 1 Axes>"
      ]
     },
     "metadata": {},
     "output_type": "display_data"
    }
   ],
   "source": [
    "losses = train_model(rnn_model, train_loader, optimizer, criterion)\n",
    "f1, conf_matrix = evaluate_model(rnn_model, train_loader)\n",
    "print(f'RNN Model F1 Score: {f1}')\n",
    "\n",
    "plot_loss_curve(losses)\n"
   ]
  },
  {
   "cell_type": "markdown",
   "id": "fqld2FY4LuM-",
   "metadata": {
    "id": "fqld2FY4LuM-"
   },
   "source": [
    "## Experiment 4"
   ]
  },
  {
   "cell_type": "code",
   "execution_count": null,
   "id": "_vId1YNHDWjO",
   "metadata": {
    "colab": {
     "base_uri": "https://localhost:8080/"
    },
    "id": "_vId1YNHDWjO",
    "outputId": "9aa09eaa-3911-43f2-acd0-977e60dffa47"
   },
   "outputs": [
    {
     "name": "stdout",
     "output_type": "stream",
     "text": [
      "Learning Rate: 1e-05, Epochs: 3, F1 Score: 0.2823727628286391\n",
      "Learning Rate: 1e-05, Epochs: 5, F1 Score: 0.2814810907543391\n",
      "Learning Rate: 1e-05, Epochs: 10, F1 Score: 0.2917021581755633\n",
      "Learning Rate: 2e-05, Epochs: 3, F1 Score: 0.28259403124298027\n",
      "Learning Rate: 2e-05, Epochs: 5, F1 Score: 0.2832600516677703\n",
      "Learning Rate: 2e-05, Epochs: 10, F1 Score: 0.2886444454993949\n",
      "Learning Rate: 5e-05, Epochs: 3, F1 Score: 0.2855750171607358\n",
      "Learning Rate: 5e-05, Epochs: 5, F1 Score: 0.28750198230162605\n",
      "Learning Rate: 5e-05, Epochs: 10, F1 Score: 0.3418786591643997\n"
     ]
    }
   ],
   "source": [
    "def evaluate_model(model, data_loader):\n",
    "    model.eval()\n",
    "    true_labels, predictions = [], []\n",
    "    with torch.no_grad():\n",
    "        for inputs, labels in data_loader:\n",
    "            inputs = inputs.float()\n",
    "            labels = labels.view(-1)\n",
    "            outputs = model(inputs)\n",
    "            _, predicted = torch.max(outputs, -1)\n",
    "            valid_indices = labels != -100\n",
    "            valid_labels = labels[valid_indices].numpy()\n",
    "            valid_predictions = predicted.view(-1).numpy()[valid_indices]\n",
    "            true_labels.extend(valid_labels)\n",
    "            predictions.extend(valid_predictions)\n",
    "    return f1_score(true_labels, predictions, average='macro')\n",
    "\n",
    "# Define the hyperparameters to test\n",
    "learning_rates = [1e-5, 2e-5, 5e-5]\n",
    "epochs_list = [3, 5, 10]\n",
    "\n",
    "# Initialize the model parameters\n",
    "vocab_size = tokenizer.vocab_size\n",
    "embedding_dim = 768\n",
    "hidden_dim = 256\n",
    "output_dim = len(label_mapping)\n",
    "\n",
    "results = {}\n",
    "\n",
    "for lr in learning_rates:\n",
    "    for epochs in epochs_list:\n",
    "        model = RNNModel(vocab_size, embedding_dim, hidden_dim, output_dim)\n",
    "        optimizer = optim.Adam(model.parameters(), lr=lr)\n",
    "        criterion = nn.CrossEntropyLoss()\n",
    "\n",
    "        for epoch in range(epochs):\n",
    "            model.train()\n",
    "            for inputs, labels in train_loader:\n",
    "                inputs = inputs.float()\n",
    "                labels = labels.view(-1)\n",
    "                optimizer.zero_grad()\n",
    "                outputs = model(inputs)\n",
    "                loss = criterion(outputs.view(-1, outputs.shape[-1]), labels)\n",
    "                loss.backward()\n",
    "                optimizer.step()\n",
    "\n",
    "        f1 = evaluate_model(model, train_loader)\n",
    "        results[(lr, epochs)] = f1\n",
    "        print(f'Learning Rate: {lr}, Epochs: {epochs}, F1 Score: {f1}')"
   ]
  },
  {
   "cell_type": "code",
   "execution_count": null,
   "id": "oOLrC0RjEuZH",
   "metadata": {
    "colab": {
     "base_uri": "https://localhost:8080/"
    },
    "id": "oOLrC0RjEuZH",
    "outputId": "776d3c06-f627-4212-d7f4-a507a745de59"
   },
   "outputs": [
    {
     "name": "stdout",
     "output_type": "stream",
     "text": [
      "Best Parameters: Learning Rate = 5e-05, Epochs = 10\n",
      "Best F1 Score: 0.3418786591643997\n"
     ]
    }
   ],
   "source": [
    "best_params = max(results, key=results.get)\n",
    "best_f1 = results[best_params]\n",
    "\n",
    "print(f'Best Parameters: Learning Rate = {best_params[0]}, Epochs = {best_params[1]}')\n",
    "print(f'Best F1 Score: {best_f1}')"
   ]
  },
  {
   "cell_type": "code",
   "execution_count": null,
   "id": "y3AEEYc1temp",
   "metadata": {
    "id": "y3AEEYc1temp"
   },
   "outputs": [],
   "source": [
    "def train_model(model, data_loader, optimizer, criterion, epochs):\n",
    "    model.train()\n",
    "    losses = []\n",
    "    for epoch in range(epochs):\n",
    "        total_loss = 0\n",
    "        for inputs, labels in data_loader:\n",
    "            inputs = inputs.float()\n",
    "            labels = labels.view(-1)\n",
    "            optimizer.zero_grad()\n",
    "            outputs = model(inputs)\n",
    "            loss = criterion(outputs.view(-1, outputs.shape[-1]), labels)\n",
    "            loss.backward()\n",
    "            optimizer.step()\n",
    "            total_loss += loss.item()\n",
    "        average_loss = total_loss / len(data_loader)\n",
    "        losses.append(average_loss)\n",
    "    return losses\n"
   ]
  },
  {
   "cell_type": "code",
   "execution_count": null,
   "id": "faKoOyphtfnI",
   "metadata": {
    "id": "faKoOyphtfnI"
   },
   "outputs": [],
   "source": [
    "from sklearn.metrics import f1_score, confusion_matrix\n",
    "\n",
    "def evaluate_model(model, data_loader):\n",
    "    model.eval()\n",
    "    true_labels, predictions = [], []\n",
    "    with torch.no_grad():\n",
    "        for inputs, labels in data_loader:\n",
    "            inputs = inputs.float()\n",
    "            labels = labels.view(-1)\n",
    "            outputs = model(inputs)\n",
    "            _, predicted = torch.max(outputs, -1)\n",
    "            valid_indices = labels != -100\n",
    "            valid_labels = labels[valid_indices].numpy()\n",
    "            valid_predictions = predicted.view(-1).numpy()[valid_indices]\n",
    "            true_labels.extend(valid_labels)\n",
    "            predictions.extend(valid_predictions)\n",
    "    f1 = f1_score(true_labels, predictions, average='macro')\n",
    "    conf_mat = confusion_matrix(true_labels, predictions)\n",
    "    return f1, conf_mat, true_labels, predictions\n"
   ]
  },
  {
   "cell_type": "code",
   "execution_count": null,
   "id": "cv2aZwx9tjMX",
   "metadata": {
    "id": "cv2aZwx9tjMX"
   },
   "outputs": [],
   "source": [
    "import matplotlib.pyplot as plt\n",
    "\n",
    "def plot_loss_curve(losses):\n",
    "    plt.plot(losses, label='Training Loss')\n",
    "    plt.xlabel('Epoch')\n",
    "    plt.ylabel('Loss')\n",
    "    plt.title('Training Loss Curve')\n",
    "    plt.legend()\n",
    "    plt.show()\n"
   ]
  },
  {
   "cell_type": "code",
   "execution_count": null,
   "id": "qvPhb-1atls5",
   "metadata": {
    "id": "qvPhb-1atls5"
   },
   "outputs": [],
   "source": [
    "def plot_confusion_matrix(conf_matrix, labels):\n",
    "    fig, ax = plt.subplots(figsize=(8, 8))\n",
    "    cax = ax.matshow(conf_matrix, cmap=plt.cm.Blues)\n",
    "    fig.colorbar(cax)\n",
    "    ax.set_xticklabels([''] + labels, rotation=90)\n",
    "    ax.set_yticklabels([''] + labels)\n",
    "    plt.xlabel('Predicted')\n",
    "    plt.ylabel('True')\n",
    "    plt.show()\n"
   ]
  },
  {
   "cell_type": "code",
   "execution_count": null,
   "id": "axMrReSqtniP",
   "metadata": {
    "colab": {
     "base_uri": "https://localhost:8080/",
     "height": 1000
    },
    "id": "axMrReSqtniP",
    "outputId": "498e2bde-c3fa-455d-f43d-8c6aedcc3305"
   },
   "outputs": [
    {
     "name": "stdout",
     "output_type": "stream",
     "text": [
      "Learning Rate: 1e-05, Epochs: 3, F1 Score: 0.2722651592999962\n",
      "Learning Rate: 1e-05, Epochs: 5, F1 Score: 0.2835837176465958\n",
      "Learning Rate: 1e-05, Epochs: 10, F1 Score: 0.29004869049904025\n",
      "Learning Rate: 2e-05, Epochs: 3, F1 Score: 0.2787813787756997\n",
      "Learning Rate: 2e-05, Epochs: 5, F1 Score: 0.28830418351501647\n",
      "Learning Rate: 2e-05, Epochs: 10, F1 Score: 0.2873750392713463\n",
      "Learning Rate: 5e-05, Epochs: 3, F1 Score: 0.2864991495200652\n",
      "Learning Rate: 5e-05, Epochs: 5, F1 Score: 0.2845018628658709\n",
      "Learning Rate: 5e-05, Epochs: 10, F1 Score: 0.342027529270594\n",
      "Best Parameters: Learning Rate = 5e-05, Epochs = 10\n",
      "Best F1 Score: 0.342027529270594\n"
     ]
    },
    {
     "data": {
      "image/png": "[encoded data removed]",
      "text/plain": [
       "<Figure size 640x480 with 1 Axes>"
      ]
     },
     "metadata": {},
     "output_type": "display_data"
    },
    {
     "name": "stderr",
     "output_type": "stream",
     "text": [
      "<ipython-input-50-76d9f879b8d3>:5: UserWarning: FixedFormatter should only be used together with FixedLocator\n",
      "  ax.set_xticklabels([''] + labels, rotation=90)\n",
      "<ipython-input-50-76d9f879b8d3>:6: UserWarning: FixedFormatter should only be used together with FixedLocator\n",
      "  ax.set_yticklabels([''] + labels)\n"
     ]
    },
    {
     "data": {
      "image/png": "[encoded data removed]",
      "text/plain": [
       "<Figure size 800x800 with 2 Axes>"
      ]
     },
     "metadata": {},
     "output_type": "display_data"
    }
   ],
   "source": [
    "results = {}\n",
    "all_losses = {}\n",
    "\n",
    "for lr in learning_rates:\n",
    "    for epochs in epochs_list:\n",
    "        model = RNNModel(vocab_size, embedding_dim, hidden_dim, output_dim)\n",
    "        optimizer = optim.Adam(model.parameters(), lr=lr)\n",
    "        criterion = nn.CrossEntropyLoss()\n",
    "\n",
    "        losses = train_model(model, train_loader, optimizer, criterion, epochs)\n",
    "        f1, conf_mat, _, _ = evaluate_model(model, train_loader)\n",
    "        results[(lr, epochs)] = f1\n",
    "        all_losses[(lr, epochs)] = losses\n",
    "        print(f'Learning Rate: {lr}, Epochs: {epochs}, F1 Score: {f1}')\n",
    "\n",
    "best_params = max(results, key=results.get)\n",
    "best_f1 = results[best_params]\n",
    "best_losses = all_losses[best_params]\n",
    "\n",
    "print(f'Best Parameters: Learning Rate = {best_params[0]}, Epochs = {best_params[1]}')\n",
    "print(f'Best F1 Score: {best_f1}')\n",
    "\n",
    "# Plot loss curve and confusion matrix for the best model\n",
    "plot_loss_curve(best_losses)\n",
    "best_f1, best_conf_mat, _, _ = evaluate_model(model, train_loader)  # Evaluate again if necessary\n",
    "plot_confusion_matrix(best_conf_mat, list(label_mapping.keys()))\n"
   ]
  },
  {
   "cell_type": "code",
   "execution_count": null,
   "id": "v6jJsyf6wezw",
   "metadata": {
    "id": "v6jJsyf6wezw"
   },
   "outputs": [],
   "source": []
  }
 ],
 "metadata": {
  "accelerator": "GPU",
  "colab": {
   "gpuType": "T4",
   "provenance": []
  },
  "kernelspec": {
   "display_name": "Python 3 (ipykernel)",
   "language": "python",
   "name": "python3"
  },
  "language_info": {
   "codemirror_mode": {
    "name": "ipython",
    "version": 3
   },
   "file_extension": ".py",
   "mimetype": "text/x-python",
   "name": "python",
   "nbconvert_exporter": "python",
   "pygments_lexer": "ipython3",
   "version": "3.9.13"
  },
  "widgets": {
   "application/vnd.jupyter.widget-state+json": {
    "0eacfc9bea104a4393bd6906caee3ffd": {
     "model_module": "@jupyter-widgets/controls",
     "model_module_version": "1.5.0",
     "model_name": "ProgressStyleModel",
     "state": {
      "_model_module": "@jupyter-widgets/controls",
      "_model_module_version": "1.5.0",
      "_model_name": "ProgressStyleModel",
      "_view_count": null,
      "_view_module": "@jupyter-widgets/base",
      "_view_module_version": "1.2.0",
      "_view_name": "StyleView",
      "bar_color": null,
      "description_width": ""
     }
    },
    "154fb395a5914d5aa044283962d78f57": {
     "model_module": "@jupyter-widgets/controls",
     "model_module_version": "1.5.0",
     "model_name": "DescriptionStyleModel",
     "state": {
      "_model_module": "@jupyter-widgets/controls",
      "_model_module_version": "1.5.0",
      "_model_name": "DescriptionStyleModel",
      "_view_count": null,
      "_view_module": "@jupyter-widgets/base",
      "_view_module_version": "1.2.0",
      "_view_name": "StyleView",
      "description_width": ""
     }
    },
    "1c5ab47228904bf882e821a0c2348fa4": {
     "model_module": "@jupyter-widgets/base",
     "model_module_version": "1.2.0",
     "model_name": "LayoutModel",
     "state": {
      "_model_module": "@jupyter-widgets/base",
      "_model_module_version": "1.2.0",
      "_model_name": "LayoutModel",
      "_view_count": null,
      "_view_module": "@jupyter-widgets/base",
      "_view_module_version": "1.2.0",
      "_view_name": "LayoutView",
      "align_content": null,
      "align_items": null,
      "align_self": null,
      "border": null,
      "bottom": null,
      "display": null,
      "flex": null,
      "flex_flow": null,
      "grid_area": null,
      "grid_auto_columns": null,
      "grid_auto_flow": null,
      "grid_auto_rows": null,
      "grid_column": null,
      "grid_gap": null,
      "grid_row": null,
      "grid_template_areas": null,
      "grid_template_columns": null,
      "grid_template_rows": null,
      "height": null,
      "justify_content": null,
      "justify_items": null,
      "left": null,
      "margin": null,
      "max_height": null,
      "max_width": null,
      "min_height": null,
      "min_width": null,
      "object_fit": null,
      "object_position": null,
      "order": null,
      "overflow": null,
      "overflow_x": null,
      "overflow_y": null,
      "padding": null,
      "right": null,
      "top": null,
      "visibility": null,
      "width": null
     }
    },
    "1dfffb340417468d89367669c55c7b59": {
     "model_module": "@jupyter-widgets/controls",
     "model_module_version": "1.5.0",
     "model_name": "FloatProgressModel",
     "state": {
      "_dom_classes": [],
      "_model_module": "@jupyter-widgets/controls",
      "_model_module_version": "1.5.0",
      "_model_name": "FloatProgressModel",
      "_view_count": null,
      "_view_module": "@jupyter-widgets/controls",
      "_view_module_version": "1.5.0",
      "_view_name": "ProgressView",
      "bar_style": "success",
      "description": "",
      "description_tooltip": null,
      "layout": "IPY_MODEL_cb76989700e147e5bef68442566bb8d8",
      "max": 440449768,
      "min": 0,
      "orientation": "horizontal",
      "style": "IPY_MODEL_5384835ee00c445bb38dee62da6cdde0",
      "value": 440449768
     }
    },
    "20181a2adf93413e8c36edb892175521": {
     "model_module": "@jupyter-widgets/controls",
     "model_module_version": "1.5.0",
     "model_name": "HTMLModel",
     "state": {
      "_dom_classes": [],
      "_model_module": "@jupyter-widgets/controls",
      "_model_module_version": "1.5.0",
      "_model_name": "HTMLModel",
      "_view_count": null,
      "_view_module": "@jupyter-widgets/controls",
      "_view_module_version": "1.5.0",
      "_view_name": "HTMLView",
      "description": "",
      "description_tooltip": null,
      "layout": "IPY_MODEL_dd6e6e40e66b46ef9849d07cafbc0b34",
      "placeholder": "​",
      "style": "IPY_MODEL_7f75044e1bda4ecd9813cdf8b93f51bf",
      "value": " 48.0/48.0 [00:00&lt;00:00, 3.25kB/s]"
     }
    },
    "205fa07ea8a7432bbf01c71afeeafae9": {
     "model_module": "@jupyter-widgets/base",
     "model_module_version": "1.2.0",
     "model_name": "LayoutModel",
     "state": {
      "_model_module": "@jupyter-widgets/base",
      "_model_module_version": "1.2.0",
      "_model_name": "LayoutModel",
      "_view_count": null,
      "_view_module": "@jupyter-widgets/base",
      "_view_module_version": "1.2.0",
      "_view_name": "LayoutView",
      "align_content": null,
      "align_items": null,
      "align_self": null,
      "border": null,
      "bottom": null,
      "display": null,
      "flex": null,
      "flex_flow": null,
      "grid_area": null,
      "grid_auto_columns": null,
      "grid_auto_flow": null,
      "grid_auto_rows": null,
      "grid_column": null,
      "grid_gap": null,
      "grid_row": null,
      "grid_template_areas": null,
      "grid_template_columns": null,
      "grid_template_rows": null,
      "height": null,
      "justify_content": null,
      "justify_items": null,
      "left": null,
      "margin": null,
      "max_height": null,
      "max_width": null,
      "min_height": null,
      "min_width": null,
      "object_fit": null,
      "object_position": null,
      "order": null,
      "overflow": null,
      "overflow_x": null,
      "overflow_y": null,
      "padding": null,
      "right": null,
      "top": null,
      "visibility": null,
      "width": null
     }
    },
    "258c5d079aac42b2b00008998a969147": {
     "model_module": "@jupyter-widgets/controls",
     "model_module_version": "1.5.0",
     "model_name": "HBoxModel",
     "state": {
      "_dom_classes": [],
      "_model_module": "@jupyter-widgets/controls",
      "_model_module_version": "1.5.0",
      "_model_name": "HBoxModel",
      "_view_count": null,
      "_view_module": "@jupyter-widgets/controls",
      "_view_module_version": "1.5.0",
      "_view_name": "HBoxView",
      "box_style": "",
      "children": [
       "IPY_MODEL_70fc28d833cf4a9fa2c9b9a149a8be28",
       "IPY_MODEL_610cfa8c4b304043b909def4cd5e650a",
       "IPY_MODEL_a15e59eaf27a472894f05644dce159b6"
      ],
      "layout": "IPY_MODEL_7aa46bedd26e4bb485427a8f4c78899b"
     }
    },
    "284de81f476f4348ad18850896b42a62": {
     "model_module": "@jupyter-widgets/controls",
     "model_module_version": "1.5.0",
     "model_name": "DescriptionStyleModel",
     "state": {
      "_model_module": "@jupyter-widgets/controls",
      "_model_module_version": "1.5.0",
      "_model_name": "DescriptionStyleModel",
      "_view_count": null,
      "_view_module": "@jupyter-widgets/base",
      "_view_module_version": "1.2.0",
      "_view_name": "StyleView",
      "description_width": ""
     }
    },
    "2ceeea4e5c2c400084db7bb43cb75a1d": {
     "model_module": "@jupyter-widgets/base",
     "model_module_version": "1.2.0",
     "model_name": "LayoutModel",
     "state": {
      "_model_module": "@jupyter-widgets/base",
      "_model_module_version": "1.2.0",
      "_model_name": "LayoutModel",
      "_view_count": null,
      "_view_module": "@jupyter-widgets/base",
      "_view_module_version": "1.2.0",
      "_view_name": "LayoutView",
      "align_content": null,
      "align_items": null,
      "align_self": null,
      "border": null,
      "bottom": null,
      "display": null,
      "flex": null,
      "flex_flow": null,
      "grid_area": null,
      "grid_auto_columns": null,
      "grid_auto_flow": null,
      "grid_auto_rows": null,
      "grid_column": null,
      "grid_gap": null,
      "grid_row": null,
      "grid_template_areas": null,
      "grid_template_columns": null,
      "grid_template_rows": null,
      "height": null,
      "justify_content": null,
      "justify_items": null,
      "left": null,
      "margin": null,
      "max_height": null,
      "max_width": null,
      "min_height": null,
      "min_width": null,
      "object_fit": null,
      "object_position": null,
      "order": null,
      "overflow": null,
      "overflow_x": null,
      "overflow_y": null,
      "padding": null,
      "right": null,
      "top": null,
      "visibility": null,
      "width": null
     }
    },
    "2cfa631369104a5d8275442b3d7da0af": {
     "model_module": "@jupyter-widgets/controls",
     "model_module_version": "1.5.0",
     "model_name": "HTMLModel",
     "state": {
      "_dom_classes": [],
      "_model_module": "@jupyter-widgets/controls",
      "_model_module_version": "1.5.0",
      "_model_name": "HTMLModel",
      "_view_count": null,
      "_view_module": "@jupyter-widgets/controls",
      "_view_module_version": "1.5.0",
      "_view_name": "HTMLView",
      "description": "",
      "description_tooltip": null,
      "layout": "IPY_MODEL_205fa07ea8a7432bbf01c71afeeafae9",
      "placeholder": "​",
      "style": "IPY_MODEL_d04fc929c8e544328e8441689d20ea36",
      "value": "model.safetensors: 100%"
     }
    },
    "3227bc44bb2d425cb9c6e50e3ee9b149": {
     "model_module": "@jupyter-widgets/controls",
     "model_module_version": "1.5.0",
     "model_name": "HTMLModel",
     "state": {
      "_dom_classes": [],
      "_model_module": "@jupyter-widgets/controls",
      "_model_module_version": "1.5.0",
      "_model_name": "HTMLModel",
      "_view_count": null,
      "_view_module": "@jupyter-widgets/controls",
      "_view_module_version": "1.5.0",
      "_view_name": "HTMLView",
      "description": "",
      "description_tooltip": null,
      "layout": "IPY_MODEL_e734324c22374a05ad09367c16916be8",
      "placeholder": "​",
      "style": "IPY_MODEL_a1c560bc256d4d4987b59f265b304d84",
      "value": " 440M/440M [00:01&lt;00:00, 300MB/s]"
     }
    },
    "333275f182784428b37ae55afeab916b": {
     "model_module": "@jupyter-widgets/controls",
     "model_module_version": "1.5.0",
     "model_name": "HTMLModel",
     "state": {
      "_dom_classes": [],
      "_model_module": "@jupyter-widgets/controls",
      "_model_module_version": "1.5.0",
      "_model_name": "HTMLModel",
      "_view_count": null,
      "_view_module": "@jupyter-widgets/controls",
      "_view_module_version": "1.5.0",
      "_view_name": "HTMLView",
      "description": "",
      "description_tooltip": null,
      "layout": "IPY_MODEL_7733ee10e1194e4d9a159d8e33958e5b",
      "placeholder": "​",
      "style": "IPY_MODEL_498b5cb6ba034998a6fcbc3c767445f5",
      "value": " 232k/232k [00:00&lt;00:00, 10.9MB/s]"
     }
    },
    "3ce90f33bab844eeac1ecd4d0d3c6cab": {
     "model_module": "@jupyter-widgets/controls",
     "model_module_version": "1.5.0",
     "model_name": "DescriptionStyleModel",
     "state": {
      "_model_module": "@jupyter-widgets/controls",
      "_model_module_version": "1.5.0",
      "_model_name": "DescriptionStyleModel",
      "_view_count": null,
      "_view_module": "@jupyter-widgets/base",
      "_view_module_version": "1.2.0",
      "_view_name": "StyleView",
      "description_width": ""
     }
    },
    "40cb9bc7b61c412c9ec822b1a4003846": {
     "model_module": "@jupyter-widgets/controls",
     "model_module_version": "1.5.0",
     "model_name": "HTMLModel",
     "state": {
      "_dom_classes": [],
      "_model_module": "@jupyter-widgets/controls",
      "_model_module_version": "1.5.0",
      "_model_name": "HTMLModel",
      "_view_count": null,
      "_view_module": "@jupyter-widgets/controls",
      "_view_module_version": "1.5.0",
      "_view_name": "HTMLView",
      "description": "",
      "description_tooltip": null,
      "layout": "IPY_MODEL_f2864a0440af4367b83442473360f15e",
      "placeholder": "​",
      "style": "IPY_MODEL_3ce90f33bab844eeac1ecd4d0d3c6cab",
      "value": "vocab.txt: 100%"
     }
    },
    "4571b1e75272433488a671446980f8c0": {
     "model_module": "@jupyter-widgets/controls",
     "model_module_version": "1.5.0",
     "model_name": "HBoxModel",
     "state": {
      "_dom_classes": [],
      "_model_module": "@jupyter-widgets/controls",
      "_model_module_version": "1.5.0",
      "_model_name": "HBoxModel",
      "_view_count": null,
      "_view_module": "@jupyter-widgets/controls",
      "_view_module_version": "1.5.0",
      "_view_name": "HBoxView",
      "box_style": "",
      "children": [
       "IPY_MODEL_c46c0213aa8043989616277efc1e8e18",
       "IPY_MODEL_e8c7a1d38d3544c3a46601a265f2217a",
       "IPY_MODEL_60ae2c972c5e4e89bb0fa027d12ce30b"
      ],
      "layout": "IPY_MODEL_ea0f8537a77d40b7a621f41e49b93b17"
     }
    },
    "48585513b2b34ff2bdf53b7289ed5840": {
     "model_module": "@jupyter-widgets/base",
     "model_module_version": "1.2.0",
     "model_name": "LayoutModel",
     "state": {
      "_model_module": "@jupyter-widgets/base",
      "_model_module_version": "1.2.0",
      "_model_name": "LayoutModel",
      "_view_count": null,
      "_view_module": "@jupyter-widgets/base",
      "_view_module_version": "1.2.0",
      "_view_name": "LayoutView",
      "align_content": null,
      "align_items": null,
      "align_self": null,
      "border": null,
      "bottom": null,
      "display": null,
      "flex": null,
      "flex_flow": null,
      "grid_area": null,
      "grid_auto_columns": null,
      "grid_auto_flow": null,
      "grid_auto_rows": null,
      "grid_column": null,
      "grid_gap": null,
      "grid_row": null,
      "grid_template_areas": null,
      "grid_template_columns": null,
      "grid_template_rows": null,
      "height": null,
      "justify_content": null,
      "justify_items": null,
      "left": null,
      "margin": null,
      "max_height": null,
      "max_width": null,
      "min_height": null,
      "min_width": null,
      "object_fit": null,
      "object_position": null,
      "order": null,
      "overflow": null,
      "overflow_x": null,
      "overflow_y": null,
      "padding": null,
      "right": null,
      "top": null,
      "visibility": null,
      "width": null
     }
    },
    "498b5cb6ba034998a6fcbc3c767445f5": {
     "model_module": "@jupyter-widgets/controls",
     "model_module_version": "1.5.0",
     "model_name": "DescriptionStyleModel",
     "state": {
      "_model_module": "@jupyter-widgets/controls",
      "_model_module_version": "1.5.0",
      "_model_name": "DescriptionStyleModel",
      "_view_count": null,
      "_view_module": "@jupyter-widgets/base",
      "_view_module_version": "1.2.0",
      "_view_name": "StyleView",
      "description_width": ""
     }
    },
    "5384835ee00c445bb38dee62da6cdde0": {
     "model_module": "@jupyter-widgets/controls",
     "model_module_version": "1.5.0",
     "model_name": "ProgressStyleModel",
     "state": {
      "_model_module": "@jupyter-widgets/controls",
      "_model_module_version": "1.5.0",
      "_model_name": "ProgressStyleModel",
      "_view_count": null,
      "_view_module": "@jupyter-widgets/base",
      "_view_module_version": "1.2.0",
      "_view_name": "StyleView",
      "bar_color": null,
      "description_width": ""
     }
    },
    "54b28c9723b54b82b1c01972ccd4defc": {
     "model_module": "@jupyter-widgets/controls",
     "model_module_version": "1.5.0",
     "model_name": "FloatProgressModel",
     "state": {
      "_dom_classes": [],
      "_model_module": "@jupyter-widgets/controls",
      "_model_module_version": "1.5.0",
      "_model_name": "FloatProgressModel",
      "_view_count": null,
      "_view_module": "@jupyter-widgets/controls",
      "_view_module_version": "1.5.0",
      "_view_name": "ProgressView",
      "bar_style": "success",
      "description": "",
      "description_tooltip": null,
      "layout": "IPY_MODEL_a7fae617d67c41019d959a421964339f",
      "max": 48,
      "min": 0,
      "orientation": "horizontal",
      "style": "IPY_MODEL_b7dafd659c454c6e81cf9ee174521e05",
      "value": 48
     }
    },
    "60ae2c972c5e4e89bb0fa027d12ce30b": {
     "model_module": "@jupyter-widgets/controls",
     "model_module_version": "1.5.0",
     "model_name": "HTMLModel",
     "state": {
      "_dom_classes": [],
      "_model_module": "@jupyter-widgets/controls",
      "_model_module_version": "1.5.0",
      "_model_name": "HTMLModel",
      "_view_count": null,
      "_view_module": "@jupyter-widgets/controls",
      "_view_module_version": "1.5.0",
      "_view_name": "HTMLView",
      "description": "",
      "description_tooltip": null,
      "layout": "IPY_MODEL_ea334867eab94596ae1298c02e69b81c",
      "placeholder": "​",
      "style": "IPY_MODEL_b06f758a9bdb420c82add87bf6d5e887",
      "value": " 570/570 [00:00&lt;00:00, 44.2kB/s]"
     }
    },
    "60b04b72f311465cba6827ae7a235fbc": {
     "model_module": "@jupyter-widgets/base",
     "model_module_version": "1.2.0",
     "model_name": "LayoutModel",
     "state": {
      "_model_module": "@jupyter-widgets/base",
      "_model_module_version": "1.2.0",
      "_model_name": "LayoutModel",
      "_view_count": null,
      "_view_module": "@jupyter-widgets/base",
      "_view_module_version": "1.2.0",
      "_view_name": "LayoutView",
      "align_content": null,
      "align_items": null,
      "align_self": null,
      "border": null,
      "bottom": null,
      "display": null,
      "flex": null,
      "flex_flow": null,
      "grid_area": null,
      "grid_auto_columns": null,
      "grid_auto_flow": null,
      "grid_auto_rows": null,
      "grid_column": null,
      "grid_gap": null,
      "grid_row": null,
      "grid_template_areas": null,
      "grid_template_columns": null,
      "grid_template_rows": null,
      "height": null,
      "justify_content": null,
      "justify_items": null,
      "left": null,
      "margin": null,
      "max_height": null,
      "max_width": null,
      "min_height": null,
      "min_width": null,
      "object_fit": null,
      "object_position": null,
      "order": null,
      "overflow": null,
      "overflow_x": null,
      "overflow_y": null,
      "padding": null,
      "right": null,
      "top": null,
      "visibility": null,
      "width": null
     }
    },
    "610cfa8c4b304043b909def4cd5e650a": {
     "model_module": "@jupyter-widgets/controls",
     "model_module_version": "1.5.0",
     "model_name": "FloatProgressModel",
     "state": {
      "_dom_classes": [],
      "_model_module": "@jupyter-widgets/controls",
      "_model_module_version": "1.5.0",
      "_model_name": "FloatProgressModel",
      "_view_count": null,
      "_view_module": "@jupyter-widgets/controls",
      "_view_module_version": "1.5.0",
      "_view_name": "ProgressView",
      "bar_style": "success",
      "description": "",
      "description_tooltip": null,
      "layout": "IPY_MODEL_60b04b72f311465cba6827ae7a235fbc",
      "max": 466062,
      "min": 0,
      "orientation": "horizontal",
      "style": "IPY_MODEL_eed9b950bdd14dcf815ab924752e4730",
      "value": 466062
     }
    },
    "6ded19f90ac54c8cb6bdcc6791eab0e3": {
     "model_module": "@jupyter-widgets/controls",
     "model_module_version": "1.5.0",
     "model_name": "HBoxModel",
     "state": {
      "_dom_classes": [],
      "_model_module": "@jupyter-widgets/controls",
      "_model_module_version": "1.5.0",
      "_model_name": "HBoxModel",
      "_view_count": null,
      "_view_module": "@jupyter-widgets/controls",
      "_view_module_version": "1.5.0",
      "_view_name": "HBoxView",
      "box_style": "",
      "children": [
       "IPY_MODEL_e49377977f5043529098fddd67d487d1",
       "IPY_MODEL_54b28c9723b54b82b1c01972ccd4defc",
       "IPY_MODEL_20181a2adf93413e8c36edb892175521"
      ],
      "layout": "IPY_MODEL_be8c0ff6d62c43dd98c65d5c1bd9bcf7"
     }
    },
    "70fc28d833cf4a9fa2c9b9a149a8be28": {
     "model_module": "@jupyter-widgets/controls",
     "model_module_version": "1.5.0",
     "model_name": "HTMLModel",
     "state": {
      "_dom_classes": [],
      "_model_module": "@jupyter-widgets/controls",
      "_model_module_version": "1.5.0",
      "_model_name": "HTMLModel",
      "_view_count": null,
      "_view_module": "@jupyter-widgets/controls",
      "_view_module_version": "1.5.0",
      "_view_name": "HTMLView",
      "description": "",
      "description_tooltip": null,
      "layout": "IPY_MODEL_f0cef606600c49008daac098b5ed56f1",
      "placeholder": "​",
      "style": "IPY_MODEL_284de81f476f4348ad18850896b42a62",
      "value": "tokenizer.json: 100%"
     }
    },
    "727beba85c9349f896c8c00a173139b8": {
     "model_module": "@jupyter-widgets/controls",
     "model_module_version": "1.5.0",
     "model_name": "DescriptionStyleModel",
     "state": {
      "_model_module": "@jupyter-widgets/controls",
      "_model_module_version": "1.5.0",
      "_model_name": "DescriptionStyleModel",
      "_view_count": null,
      "_view_module": "@jupyter-widgets/base",
      "_view_module_version": "1.2.0",
      "_view_name": "StyleView",
      "description_width": ""
     }
    },
    "7733ee10e1194e4d9a159d8e33958e5b": {
     "model_module": "@jupyter-widgets/base",
     "model_module_version": "1.2.0",
     "model_name": "LayoutModel",
     "state": {
      "_model_module": "@jupyter-widgets/base",
      "_model_module_version": "1.2.0",
      "_model_name": "LayoutModel",
      "_view_count": null,
      "_view_module": "@jupyter-widgets/base",
      "_view_module_version": "1.2.0",
      "_view_name": "LayoutView",
      "align_content": null,
      "align_items": null,
      "align_self": null,
      "border": null,
      "bottom": null,
      "display": null,
      "flex": null,
      "flex_flow": null,
      "grid_area": null,
      "grid_auto_columns": null,
      "grid_auto_flow": null,
      "grid_auto_rows": null,
      "grid_column": null,
      "grid_gap": null,
      "grid_row": null,
      "grid_template_areas": null,
      "grid_template_columns": null,
      "grid_template_rows": null,
      "height": null,
      "justify_content": null,
      "justify_items": null,
      "left": null,
      "margin": null,
      "max_height": null,
      "max_width": null,
      "min_height": null,
      "min_width": null,
      "object_fit": null,
      "object_position": null,
      "order": null,
      "overflow": null,
      "overflow_x": null,
      "overflow_y": null,
      "padding": null,
      "right": null,
      "top": null,
      "visibility": null,
      "width": null
     }
    },
    "7aa46bedd26e4bb485427a8f4c78899b": {
     "model_module": "@jupyter-widgets/base",
     "model_module_version": "1.2.0",
     "model_name": "LayoutModel",
     "state": {
      "_model_module": "@jupyter-widgets/base",
      "_model_module_version": "1.2.0",
      "_model_name": "LayoutModel",
      "_view_count": null,
      "_view_module": "@jupyter-widgets/base",
      "_view_module_version": "1.2.0",
      "_view_name": "LayoutView",
      "align_content": null,
      "align_items": null,
      "align_self": null,
      "border": null,
      "bottom": null,
      "display": null,
      "flex": null,
      "flex_flow": null,
      "grid_area": null,
      "grid_auto_columns": null,
      "grid_auto_flow": null,
      "grid_auto_rows": null,
      "grid_column": null,
      "grid_gap": null,
      "grid_row": null,
      "grid_template_areas": null,
      "grid_template_columns": null,
      "grid_template_rows": null,
      "height": null,
      "justify_content": null,
      "justify_items": null,
      "left": null,
      "margin": null,
      "max_height": null,
      "max_width": null,
      "min_height": null,
      "min_width": null,
      "object_fit": null,
      "object_position": null,
      "order": null,
      "overflow": null,
      "overflow_x": null,
      "overflow_y": null,
      "padding": null,
      "right": null,
      "top": null,
      "visibility": null,
      "width": null
     }
    },
    "7c45128889f14ec4a924850e8ed5d94f": {
     "model_module": "@jupyter-widgets/base",
     "model_module_version": "1.2.0",
     "model_name": "LayoutModel",
     "state": {
      "_model_module": "@jupyter-widgets/base",
      "_model_module_version": "1.2.0",
      "_model_name": "LayoutModel",
      "_view_count": null,
      "_view_module": "@jupyter-widgets/base",
      "_view_module_version": "1.2.0",
      "_view_name": "LayoutView",
      "align_content": null,
      "align_items": null,
      "align_self": null,
      "border": null,
      "bottom": null,
      "display": null,
      "flex": null,
      "flex_flow": null,
      "grid_area": null,
      "grid_auto_columns": null,
      "grid_auto_flow": null,
      "grid_auto_rows": null,
      "grid_column": null,
      "grid_gap": null,
      "grid_row": null,
      "grid_template_areas": null,
      "grid_template_columns": null,
      "grid_template_rows": null,
      "height": null,
      "justify_content": null,
      "justify_items": null,
      "left": null,
      "margin": null,
      "max_height": null,
      "max_width": null,
      "min_height": null,
      "min_width": null,
      "object_fit": null,
      "object_position": null,
      "order": null,
      "overflow": null,
      "overflow_x": null,
      "overflow_y": null,
      "padding": null,
      "right": null,
      "top": null,
      "visibility": null,
      "width": null
     }
    },
    "7f75044e1bda4ecd9813cdf8b93f51bf": {
     "model_module": "@jupyter-widgets/controls",
     "model_module_version": "1.5.0",
     "model_name": "DescriptionStyleModel",
     "state": {
      "_model_module": "@jupyter-widgets/controls",
      "_model_module_version": "1.5.0",
      "_model_name": "DescriptionStyleModel",
      "_view_count": null,
      "_view_module": "@jupyter-widgets/base",
      "_view_module_version": "1.2.0",
      "_view_name": "StyleView",
      "description_width": ""
     }
    },
    "8bc94dffd8e244b680f74f5ccb987916": {
     "model_module": "@jupyter-widgets/controls",
     "model_module_version": "1.5.0",
     "model_name": "HBoxModel",
     "state": {
      "_dom_classes": [],
      "_model_module": "@jupyter-widgets/controls",
      "_model_module_version": "1.5.0",
      "_model_name": "HBoxModel",
      "_view_count": null,
      "_view_module": "@jupyter-widgets/controls",
      "_view_module_version": "1.5.0",
      "_view_name": "HBoxView",
      "box_style": "",
      "children": [
       "IPY_MODEL_2cfa631369104a5d8275442b3d7da0af",
       "IPY_MODEL_1dfffb340417468d89367669c55c7b59",
       "IPY_MODEL_3227bc44bb2d425cb9c6e50e3ee9b149"
      ],
      "layout": "IPY_MODEL_8c378620d027454fa85d58d5a6ad1ffd"
     }
    },
    "8c378620d027454fa85d58d5a6ad1ffd": {
     "model_module": "@jupyter-widgets/base",
     "model_module_version": "1.2.0",
     "model_name": "LayoutModel",
     "state": {
      "_model_module": "@jupyter-widgets/base",
      "_model_module_version": "1.2.0",
      "_model_name": "LayoutModel",
      "_view_count": null,
      "_view_module": "@jupyter-widgets/base",
      "_view_module_version": "1.2.0",
      "_view_name": "LayoutView",
      "align_content": null,
      "align_items": null,
      "align_self": null,
      "border": null,
      "bottom": null,
      "display": null,
      "flex": null,
      "flex_flow": null,
      "grid_area": null,
      "grid_auto_columns": null,
      "grid_auto_flow": null,
      "grid_auto_rows": null,
      "grid_column": null,
      "grid_gap": null,
      "grid_row": null,
      "grid_template_areas": null,
      "grid_template_columns": null,
      "grid_template_rows": null,
      "height": null,
      "justify_content": null,
      "justify_items": null,
      "left": null,
      "margin": null,
      "max_height": null,
      "max_width": null,
      "min_height": null,
      "min_width": null,
      "object_fit": null,
      "object_position": null,
      "order": null,
      "overflow": null,
      "overflow_x": null,
      "overflow_y": null,
      "padding": null,
      "right": null,
      "top": null,
      "visibility": null,
      "width": null
     }
    },
    "a15e59eaf27a472894f05644dce159b6": {
     "model_module": "@jupyter-widgets/controls",
     "model_module_version": "1.5.0",
     "model_name": "HTMLModel",
     "state": {
      "_dom_classes": [],
      "_model_module": "@jupyter-widgets/controls",
      "_model_module_version": "1.5.0",
      "_model_name": "HTMLModel",
      "_view_count": null,
      "_view_module": "@jupyter-widgets/controls",
      "_view_module_version": "1.5.0",
      "_view_name": "HTMLView",
      "description": "",
      "description_tooltip": null,
      "layout": "IPY_MODEL_1c5ab47228904bf882e821a0c2348fa4",
      "placeholder": "​",
      "style": "IPY_MODEL_ede44de6b3944a3f882251dbc107d562",
      "value": " 466k/466k [00:00&lt;00:00, 1.94MB/s]"
     }
    },
    "a1c560bc256d4d4987b59f265b304d84": {
     "model_module": "@jupyter-widgets/controls",
     "model_module_version": "1.5.0",
     "model_name": "DescriptionStyleModel",
     "state": {
      "_model_module": "@jupyter-widgets/controls",
      "_model_module_version": "1.5.0",
      "_model_name": "DescriptionStyleModel",
      "_view_count": null,
      "_view_module": "@jupyter-widgets/base",
      "_view_module_version": "1.2.0",
      "_view_name": "StyleView",
      "description_width": ""
     }
    },
    "a7fae617d67c41019d959a421964339f": {
     "model_module": "@jupyter-widgets/base",
     "model_module_version": "1.2.0",
     "model_name": "LayoutModel",
     "state": {
      "_model_module": "@jupyter-widgets/base",
      "_model_module_version": "1.2.0",
      "_model_name": "LayoutModel",
      "_view_count": null,
      "_view_module": "@jupyter-widgets/base",
      "_view_module_version": "1.2.0",
      "_view_name": "LayoutView",
      "align_content": null,
      "align_items": null,
      "align_self": null,
      "border": null,
      "bottom": null,
      "display": null,
      "flex": null,
      "flex_flow": null,
      "grid_area": null,
      "grid_auto_columns": null,
      "grid_auto_flow": null,
      "grid_auto_rows": null,
      "grid_column": null,
      "grid_gap": null,
      "grid_row": null,
      "grid_template_areas": null,
      "grid_template_columns": null,
      "grid_template_rows": null,
      "height": null,
      "justify_content": null,
      "justify_items": null,
      "left": null,
      "margin": null,
      "max_height": null,
      "max_width": null,
      "min_height": null,
      "min_width": null,
      "object_fit": null,
      "object_position": null,
      "order": null,
      "overflow": null,
      "overflow_x": null,
      "overflow_y": null,
      "padding": null,
      "right": null,
      "top": null,
      "visibility": null,
      "width": null
     }
    },
    "aa7390c3cbae41758c697dd7491337ba": {
     "model_module": "@jupyter-widgets/base",
     "model_module_version": "1.2.0",
     "model_name": "LayoutModel",
     "state": {
      "_model_module": "@jupyter-widgets/base",
      "_model_module_version": "1.2.0",
      "_model_name": "LayoutModel",
      "_view_count": null,
      "_view_module": "@jupyter-widgets/base",
      "_view_module_version": "1.2.0",
      "_view_name": "LayoutView",
      "align_content": null,
      "align_items": null,
      "align_self": null,
      "border": null,
      "bottom": null,
      "display": null,
      "flex": null,
      "flex_flow": null,
      "grid_area": null,
      "grid_auto_columns": null,
      "grid_auto_flow": null,
      "grid_auto_rows": null,
      "grid_column": null,
      "grid_gap": null,
      "grid_row": null,
      "grid_template_areas": null,
      "grid_template_columns": null,
      "grid_template_rows": null,
      "height": null,
      "justify_content": null,
      "justify_items": null,
      "left": null,
      "margin": null,
      "max_height": null,
      "max_width": null,
      "min_height": null,
      "min_width": null,
      "object_fit": null,
      "object_position": null,
      "order": null,
      "overflow": null,
      "overflow_x": null,
      "overflow_y": null,
      "padding": null,
      "right": null,
      "top": null,
      "visibility": null,
      "width": null
     }
    },
    "ad43a9a2a98344589cfaa71541762cd4": {
     "model_module": "@jupyter-widgets/controls",
     "model_module_version": "1.5.0",
     "model_name": "HBoxModel",
     "state": {
      "_dom_classes": [],
      "_model_module": "@jupyter-widgets/controls",
      "_model_module_version": "1.5.0",
      "_model_name": "HBoxModel",
      "_view_count": null,
      "_view_module": "@jupyter-widgets/controls",
      "_view_module_version": "1.5.0",
      "_view_name": "HBoxView",
      "box_style": "",
      "children": [
       "IPY_MODEL_40cb9bc7b61c412c9ec822b1a4003846",
       "IPY_MODEL_b56fc9243f6a4e23b35b792229be40ef",
       "IPY_MODEL_333275f182784428b37ae55afeab916b"
      ],
      "layout": "IPY_MODEL_aa7390c3cbae41758c697dd7491337ba"
     }
    },
    "b06f758a9bdb420c82add87bf6d5e887": {
     "model_module": "@jupyter-widgets/controls",
     "model_module_version": "1.5.0",
     "model_name": "DescriptionStyleModel",
     "state": {
      "_model_module": "@jupyter-widgets/controls",
      "_model_module_version": "1.5.0",
      "_model_name": "DescriptionStyleModel",
      "_view_count": null,
      "_view_module": "@jupyter-widgets/base",
      "_view_module_version": "1.2.0",
      "_view_name": "StyleView",
      "description_width": ""
     }
    },
    "b56fc9243f6a4e23b35b792229be40ef": {
     "model_module": "@jupyter-widgets/controls",
     "model_module_version": "1.5.0",
     "model_name": "FloatProgressModel",
     "state": {
      "_dom_classes": [],
      "_model_module": "@jupyter-widgets/controls",
      "_model_module_version": "1.5.0",
      "_model_name": "FloatProgressModel",
      "_view_count": null,
      "_view_module": "@jupyter-widgets/controls",
      "_view_module_version": "1.5.0",
      "_view_name": "ProgressView",
      "bar_style": "success",
      "description": "",
      "description_tooltip": null,
      "layout": "IPY_MODEL_d78d8db9e16341acbbe59daf118e4c14",
      "max": 231508,
      "min": 0,
      "orientation": "horizontal",
      "style": "IPY_MODEL_d08022e3b50d40618262a0996c333879",
      "value": 231508
     }
    },
    "b7dafd659c454c6e81cf9ee174521e05": {
     "model_module": "@jupyter-widgets/controls",
     "model_module_version": "1.5.0",
     "model_name": "ProgressStyleModel",
     "state": {
      "_model_module": "@jupyter-widgets/controls",
      "_model_module_version": "1.5.0",
      "_model_name": "ProgressStyleModel",
      "_view_count": null,
      "_view_module": "@jupyter-widgets/base",
      "_view_module_version": "1.2.0",
      "_view_name": "StyleView",
      "bar_color": null,
      "description_width": ""
     }
    },
    "be8c0ff6d62c43dd98c65d5c1bd9bcf7": {
     "model_module": "@jupyter-widgets/base",
     "model_module_version": "1.2.0",
     "model_name": "LayoutModel",
     "state": {
      "_model_module": "@jupyter-widgets/base",
      "_model_module_version": "1.2.0",
      "_model_name": "LayoutModel",
      "_view_count": null,
      "_view_module": "@jupyter-widgets/base",
      "_view_module_version": "1.2.0",
      "_view_name": "LayoutView",
      "align_content": null,
      "align_items": null,
      "align_self": null,
      "border": null,
      "bottom": null,
      "display": null,
      "flex": null,
      "flex_flow": null,
      "grid_area": null,
      "grid_auto_columns": null,
      "grid_auto_flow": null,
      "grid_auto_rows": null,
      "grid_column": null,
      "grid_gap": null,
      "grid_row": null,
      "grid_template_areas": null,
      "grid_template_columns": null,
      "grid_template_rows": null,
      "height": null,
      "justify_content": null,
      "justify_items": null,
      "left": null,
      "margin": null,
      "max_height": null,
      "max_width": null,
      "min_height": null,
      "min_width": null,
      "object_fit": null,
      "object_position": null,
      "order": null,
      "overflow": null,
      "overflow_x": null,
      "overflow_y": null,
      "padding": null,
      "right": null,
      "top": null,
      "visibility": null,
      "width": null
     }
    },
    "c46c0213aa8043989616277efc1e8e18": {
     "model_module": "@jupyter-widgets/controls",
     "model_module_version": "1.5.0",
     "model_name": "HTMLModel",
     "state": {
      "_dom_classes": [],
      "_model_module": "@jupyter-widgets/controls",
      "_model_module_version": "1.5.0",
      "_model_name": "HTMLModel",
      "_view_count": null,
      "_view_module": "@jupyter-widgets/controls",
      "_view_module_version": "1.5.0",
      "_view_name": "HTMLView",
      "description": "",
      "description_tooltip": null,
      "layout": "IPY_MODEL_48585513b2b34ff2bdf53b7289ed5840",
      "placeholder": "​",
      "style": "IPY_MODEL_727beba85c9349f896c8c00a173139b8",
      "value": "config.json: 100%"
     }
    },
    "cb76989700e147e5bef68442566bb8d8": {
     "model_module": "@jupyter-widgets/base",
     "model_module_version": "1.2.0",
     "model_name": "LayoutModel",
     "state": {
      "_model_module": "@jupyter-widgets/base",
      "_model_module_version": "1.2.0",
      "_model_name": "LayoutModel",
      "_view_count": null,
      "_view_module": "@jupyter-widgets/base",
      "_view_module_version": "1.2.0",
      "_view_name": "LayoutView",
      "align_content": null,
      "align_items": null,
      "align_self": null,
      "border": null,
      "bottom": null,
      "display": null,
      "flex": null,
      "flex_flow": null,
      "grid_area": null,
      "grid_auto_columns": null,
      "grid_auto_flow": null,
      "grid_auto_rows": null,
      "grid_column": null,
      "grid_gap": null,
      "grid_row": null,
      "grid_template_areas": null,
      "grid_template_columns": null,
      "grid_template_rows": null,
      "height": null,
      "justify_content": null,
      "justify_items": null,
      "left": null,
      "margin": null,
      "max_height": null,
      "max_width": null,
      "min_height": null,
      "min_width": null,
      "object_fit": null,
      "object_position": null,
      "order": null,
      "overflow": null,
      "overflow_x": null,
      "overflow_y": null,
      "padding": null,
      "right": null,
      "top": null,
      "visibility": null,
      "width": null
     }
    },
    "d04fc929c8e544328e8441689d20ea36": {
     "model_module": "@jupyter-widgets/controls",
     "model_module_version": "1.5.0",
     "model_name": "DescriptionStyleModel",
     "state": {
      "_model_module": "@jupyter-widgets/controls",
      "_model_module_version": "1.5.0",
      "_model_name": "DescriptionStyleModel",
      "_view_count": null,
      "_view_module": "@jupyter-widgets/base",
      "_view_module_version": "1.2.0",
      "_view_name": "StyleView",
      "description_width": ""
     }
    },
    "d08022e3b50d40618262a0996c333879": {
     "model_module": "@jupyter-widgets/controls",
     "model_module_version": "1.5.0",
     "model_name": "ProgressStyleModel",
     "state": {
      "_model_module": "@jupyter-widgets/controls",
      "_model_module_version": "1.5.0",
      "_model_name": "ProgressStyleModel",
      "_view_count": null,
      "_view_module": "@jupyter-widgets/base",
      "_view_module_version": "1.2.0",
      "_view_name": "StyleView",
      "bar_color": null,
      "description_width": ""
     }
    },
    "d78d8db9e16341acbbe59daf118e4c14": {
     "model_module": "@jupyter-widgets/base",
     "model_module_version": "1.2.0",
     "model_name": "LayoutModel",
     "state": {
      "_model_module": "@jupyter-widgets/base",
      "_model_module_version": "1.2.0",
      "_model_name": "LayoutModel",
      "_view_count": null,
      "_view_module": "@jupyter-widgets/base",
      "_view_module_version": "1.2.0",
      "_view_name": "LayoutView",
      "align_content": null,
      "align_items": null,
      "align_self": null,
      "border": null,
      "bottom": null,
      "display": null,
      "flex": null,
      "flex_flow": null,
      "grid_area": null,
      "grid_auto_columns": null,
      "grid_auto_flow": null,
      "grid_auto_rows": null,
      "grid_column": null,
      "grid_gap": null,
      "grid_row": null,
      "grid_template_areas": null,
      "grid_template_columns": null,
      "grid_template_rows": null,
      "height": null,
      "justify_content": null,
      "justify_items": null,
      "left": null,
      "margin": null,
      "max_height": null,
      "max_width": null,
      "min_height": null,
      "min_width": null,
      "object_fit": null,
      "object_position": null,
      "order": null,
      "overflow": null,
      "overflow_x": null,
      "overflow_y": null,
      "padding": null,
      "right": null,
      "top": null,
      "visibility": null,
      "width": null
     }
    },
    "dd6e6e40e66b46ef9849d07cafbc0b34": {
     "model_module": "@jupyter-widgets/base",
     "model_module_version": "1.2.0",
     "model_name": "LayoutModel",
     "state": {
      "_model_module": "@jupyter-widgets/base",
      "_model_module_version": "1.2.0",
      "_model_name": "LayoutModel",
      "_view_count": null,
      "_view_module": "@jupyter-widgets/base",
      "_view_module_version": "1.2.0",
      "_view_name": "LayoutView",
      "align_content": null,
      "align_items": null,
      "align_self": null,
      "border": null,
      "bottom": null,
      "display": null,
      "flex": null,
      "flex_flow": null,
      "grid_area": null,
      "grid_auto_columns": null,
      "grid_auto_flow": null,
      "grid_auto_rows": null,
      "grid_column": null,
      "grid_gap": null,
      "grid_row": null,
      "grid_template_areas": null,
      "grid_template_columns": null,
      "grid_template_rows": null,
      "height": null,
      "justify_content": null,
      "justify_items": null,
      "left": null,
      "margin": null,
      "max_height": null,
      "max_width": null,
      "min_height": null,
      "min_width": null,
      "object_fit": null,
      "object_position": null,
      "order": null,
      "overflow": null,
      "overflow_x": null,
      "overflow_y": null,
      "padding": null,
      "right": null,
      "top": null,
      "visibility": null,
      "width": null
     }
    },
    "e49377977f5043529098fddd67d487d1": {
     "model_module": "@jupyter-widgets/controls",
     "model_module_version": "1.5.0",
     "model_name": "HTMLModel",
     "state": {
      "_dom_classes": [],
      "_model_module": "@jupyter-widgets/controls",
      "_model_module_version": "1.5.0",
      "_model_name": "HTMLModel",
      "_view_count": null,
      "_view_module": "@jupyter-widgets/controls",
      "_view_module_version": "1.5.0",
      "_view_name": "HTMLView",
      "description": "",
      "description_tooltip": null,
      "layout": "IPY_MODEL_7c45128889f14ec4a924850e8ed5d94f",
      "placeholder": "​",
      "style": "IPY_MODEL_154fb395a5914d5aa044283962d78f57",
      "value": "tokenizer_config.json: 100%"
     }
    },
    "e734324c22374a05ad09367c16916be8": {
     "model_module": "@jupyter-widgets/base",
     "model_module_version": "1.2.0",
     "model_name": "LayoutModel",
     "state": {
      "_model_module": "@jupyter-widgets/base",
      "_model_module_version": "1.2.0",
      "_model_name": "LayoutModel",
      "_view_count": null,
      "_view_module": "@jupyter-widgets/base",
      "_view_module_version": "1.2.0",
      "_view_name": "LayoutView",
      "align_content": null,
      "align_items": null,
      "align_self": null,
      "border": null,
      "bottom": null,
      "display": null,
      "flex": null,
      "flex_flow": null,
      "grid_area": null,
      "grid_auto_columns": null,
      "grid_auto_flow": null,
      "grid_auto_rows": null,
      "grid_column": null,
      "grid_gap": null,
      "grid_row": null,
      "grid_template_areas": null,
      "grid_template_columns": null,
      "grid_template_rows": null,
      "height": null,
      "justify_content": null,
      "justify_items": null,
      "left": null,
      "margin": null,
      "max_height": null,
      "max_width": null,
      "min_height": null,
      "min_width": null,
      "object_fit": null,
      "object_position": null,
      "order": null,
      "overflow": null,
      "overflow_x": null,
      "overflow_y": null,
      "padding": null,
      "right": null,
      "top": null,
      "visibility": null,
      "width": null
     }
    },
    "e8c7a1d38d3544c3a46601a265f2217a": {
     "model_module": "@jupyter-widgets/controls",
     "model_module_version": "1.5.0",
     "model_name": "FloatProgressModel",
     "state": {
      "_dom_classes": [],
      "_model_module": "@jupyter-widgets/controls",
      "_model_module_version": "1.5.0",
      "_model_name": "FloatProgressModel",
      "_view_count": null,
      "_view_module": "@jupyter-widgets/controls",
      "_view_module_version": "1.5.0",
      "_view_name": "ProgressView",
      "bar_style": "success",
      "description": "",
      "description_tooltip": null,
      "layout": "IPY_MODEL_2ceeea4e5c2c400084db7bb43cb75a1d",
      "max": 570,
      "min": 0,
      "orientation": "horizontal",
      "style": "IPY_MODEL_0eacfc9bea104a4393bd6906caee3ffd",
      "value": 570
     }
    },
    "ea0f8537a77d40b7a621f41e49b93b17": {
     "model_module": "@jupyter-widgets/base",
     "model_module_version": "1.2.0",
     "model_name": "LayoutModel",
     "state": {
      "_model_module": "@jupyter-widgets/base",
      "_model_module_version": "1.2.0",
      "_model_name": "LayoutModel",
      "_view_count": null,
      "_view_module": "@jupyter-widgets/base",
      "_view_module_version": "1.2.0",
      "_view_name": "LayoutView",
      "align_content": null,
      "align_items": null,
      "align_self": null,
      "border": null,
      "bottom": null,
      "display": null,
      "flex": null,
      "flex_flow": null,
      "grid_area": null,
      "grid_auto_columns": null,
      "grid_auto_flow": null,
      "grid_auto_rows": null,
      "grid_column": null,
      "grid_gap": null,
      "grid_row": null,
      "grid_template_areas": null,
      "grid_template_columns": null,
      "grid_template_rows": null,
      "height": null,
      "justify_content": null,
      "justify_items": null,
      "left": null,
      "margin": null,
      "max_height": null,
      "max_width": null,
      "min_height": null,
      "min_width": null,
      "object_fit": null,
      "object_position": null,
      "order": null,
      "overflow": null,
      "overflow_x": null,
      "overflow_y": null,
      "padding": null,
      "right": null,
      "top": null,
      "visibility": null,
      "width": null
     }
    },
    "ea334867eab94596ae1298c02e69b81c": {
     "model_module": "@jupyter-widgets/base",
     "model_module_version": "1.2.0",
     "model_name": "LayoutModel",
     "state": {
      "_model_module": "@jupyter-widgets/base",
      "_model_module_version": "1.2.0",
      "_model_name": "LayoutModel",
      "_view_count": null,
      "_view_module": "@jupyter-widgets/base",
      "_view_module_version": "1.2.0",
      "_view_name": "LayoutView",
      "align_content": null,
      "align_items": null,
      "align_self": null,
      "border": null,
      "bottom": null,
      "display": null,
      "flex": null,
      "flex_flow": null,
      "grid_area": null,
      "grid_auto_columns": null,
      "grid_auto_flow": null,
      "grid_auto_rows": null,
      "grid_column": null,
      "grid_gap": null,
      "grid_row": null,
      "grid_template_areas": null,
      "grid_template_columns": null,
      "grid_template_rows": null,
      "height": null,
      "justify_content": null,
      "justify_items": null,
      "left": null,
      "margin": null,
      "max_height": null,
      "max_width": null,
      "min_height": null,
      "min_width": null,
      "object_fit": null,
      "object_position": null,
      "order": null,
      "overflow": null,
      "overflow_x": null,
      "overflow_y": null,
      "padding": null,
      "right": null,
      "top": null,
      "visibility": null,
      "width": null
     }
    },
    "ede44de6b3944a3f882251dbc107d562": {
     "model_module": "@jupyter-widgets/controls",
     "model_module_version": "1.5.0",
     "model_name": "DescriptionStyleModel",
     "state": {
      "_model_module": "@jupyter-widgets/controls",
      "_model_module_version": "1.5.0",
      "_model_name": "DescriptionStyleModel",
      "_view_count": null,
      "_view_module": "@jupyter-widgets/base",
      "_view_module_version": "1.2.0",
      "_view_name": "StyleView",
      "description_width": ""
     }
    },
    "eed9b950bdd14dcf815ab924752e4730": {
     "model_module": "@jupyter-widgets/controls",
     "model_module_version": "1.5.0",
     "model_name": "ProgressStyleModel",
     "state": {
      "_model_module": "@jupyter-widgets/controls",
      "_model_module_version": "1.5.0",
      "_model_name": "ProgressStyleModel",
      "_view_count": null,
      "_view_module": "@jupyter-widgets/base",
      "_view_module_version": "1.2.0",
      "_view_name": "StyleView",
      "bar_color": null,
      "description_width": ""
     }
    },
    "f0cef606600c49008daac098b5ed56f1": {
     "model_module": "@jupyter-widgets/base",
     "model_module_version": "1.2.0",
     "model_name": "LayoutModel",
     "state": {
      "_model_module": "@jupyter-widgets/base",
      "_model_module_version": "1.2.0",
      "_model_name": "LayoutModel",
      "_view_count": null,
      "_view_module": "@jupyter-widgets/base",
      "_view_module_version": "1.2.0",
      "_view_name": "LayoutView",
      "align_content": null,
      "align_items": null,
      "align_self": null,
      "border": null,
      "bottom": null,
      "display": null,
      "flex": null,
      "flex_flow": null,
      "grid_area": null,
      "grid_auto_columns": null,
      "grid_auto_flow": null,
      "grid_auto_rows": null,
      "grid_column": null,
      "grid_gap": null,
      "grid_row": null,
      "grid_template_areas": null,
      "grid_template_columns": null,
      "grid_template_rows": null,
      "height": null,
      "justify_content": null,
      "justify_items": null,
      "left": null,
      "margin": null,
      "max_height": null,
      "max_width": null,
      "min_height": null,
      "min_width": null,
      "object_fit": null,
      "object_position": null,
      "order": null,
      "overflow": null,
      "overflow_x": null,
      "overflow_y": null,
      "padding": null,
      "right": null,
      "top": null,
      "visibility": null,
      "width": null
     }
    },
    "f2864a0440af4367b83442473360f15e": {
     "model_module": "@jupyter-widgets/base",
     "model_module_version": "1.2.0",
     "model_name": "LayoutModel",
     "state": {
      "_model_module": "@jupyter-widgets/base",
      "_model_module_version": "1.2.0",
      "_model_name": "LayoutModel",
      "_view_count": null,
      "_view_module": "@jupyter-widgets/base",
      "_view_module_version": "1.2.0",
      "_view_name": "LayoutView",
      "align_content": null,
      "align_items": null,
      "align_self": null,
      "border": null,
      "bottom": null,
      "display": null,
      "flex": null,
      "flex_flow": null,
      "grid_area": null,
      "grid_auto_columns": null,
      "grid_auto_flow": null,
      "grid_auto_rows": null,
      "grid_column": null,
      "grid_gap": null,
      "grid_row": null,
      "grid_template_areas": null,
      "grid_template_columns": null,
      "grid_template_rows": null,
      "height": null,
      "justify_content": null,
      "justify_items": null,
      "left": null,
      "margin": null,
      "max_height": null,
      "max_width": null,
      "min_height": null,
      "min_width": null,
      "object_fit": null,
      "object_position": null,
      "order": null,
      "overflow": null,
      "overflow_x": null,
      "overflow_y": null,
      "padding": null,
      "right": null,
      "top": null,
      "visibility": null,
      "width": null
     }
    }
   }
  }
 },
 "nbformat": 4,
 "nbformat_minor": 5
}
